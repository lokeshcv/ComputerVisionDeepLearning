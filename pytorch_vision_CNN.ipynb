{
  "nbformat": 4,
  "nbformat_minor": 0,
  "metadata": {
    "colab": {
      "provenance": [],
      "gpuType": "T4",
      "authorship_tag": "ABX9TyOIMcFu52uxr+jjBH5hh1jV",
      "include_colab_link": true
    },
    "kernelspec": {
      "name": "python3",
      "display_name": "Python 3"
    },
    "language_info": {
      "name": "python"
    },
    "accelerator": "GPU"
  },
  "cells": [
    {
      "cell_type": "markdown",
      "metadata": {
        "id": "view-in-github",
        "colab_type": "text"
      },
      "source": [
        "<a href=\"https://colab.research.google.com/github/lokeshcv/ComputerVisionDeepLearning/blob/main/pytorch_vision_CNN.ipynb\" target=\"_parent\"><img src=\"https://colab.research.google.com/assets/colab-badge.svg\" alt=\"Open In Colab\"/></a>"
      ]
    },
    {
      "cell_type": "code",
      "source": [
        "!pip install torchinfo"
      ],
      "metadata": {
        "colab": {
          "base_uri": "https://localhost:8080/"
        },
        "id": "8BfPEKoUUUX0",
        "outputId": "c560fded-bd7f-4a87-ce70-e7f630ee0d26"
      },
      "execution_count": 1,
      "outputs": [
        {
          "output_type": "stream",
          "name": "stdout",
          "text": [
            "Collecting torchinfo\n",
            "  Downloading torchinfo-1.8.0-py3-none-any.whl (23 kB)\n",
            "Installing collected packages: torchinfo\n",
            "Successfully installed torchinfo-1.8.0\n"
          ]
        }
      ]
    },
    {
      "cell_type": "code",
      "source": [
        "import torch\n",
        "import torch.nn as nn\n",
        "from torch.utils import data\n",
        "import torchvision\n",
        "import torchvision.transforms as transforms\n",
        "from torchvision.transforms import ToTensor\n",
        "from torchinfo import summary\n",
        "\n",
        "import matplotlib.pyplot as plt\n",
        "import numpy as np\n",
        "from PIL import Image\n",
        "import glob\n",
        "import os\n",
        "import zipfile"
      ],
      "metadata": {
        "id": "gEeQWF0gURdi"
      },
      "execution_count": 2,
      "outputs": []
    },
    {
      "cell_type": "markdown",
      "source": [
        "Resuable Functions"
      ],
      "metadata": {
        "id": "Hgr0Nw7UUMxr"
      }
    },
    {
      "cell_type": "code",
      "execution_count": 3,
      "metadata": {
        "id": "OSxhdno8TYep"
      },
      "outputs": [],
      "source": [
        "default_device = 'cuda' if torch.cuda.is_available() else 'cpu'\n",
        "\n",
        "def load_mnist(batch_size=64):\n",
        "    data_train = torchvision.datasets.MNIST('./data',\n",
        "        download=True,train=True,transform=ToTensor())\n",
        "    data_test = torchvision.datasets.MNIST('./data',\n",
        "        download=True,train=False,transform=ToTensor())\n",
        "    train_loader = torch.utils.data.DataLoader(data_train,batch_size=batch_size)\n",
        "    test_loader = torch.utils.data.DataLoader(data_test,batch_size=batch_size)\n",
        "\n",
        "    return data_train, data_test, train_loader, test_loader\n",
        "\n",
        "def train_epoch(net,dataloader,lr=0.01,optimizer=None,loss_fn = nn.NLLLoss()):\n",
        "    optimizer = optimizer or torch.optim.Adam(net.parameters(),lr=lr)\n",
        "    net.train()\n",
        "    total_loss,acc,count = 0,0,0\n",
        "    for features,labels in dataloader:\n",
        "        optimizer.zero_grad()\n",
        "        lbls = labels.to(default_device)\n",
        "        out = net(features.to(default_device))\n",
        "        loss = loss_fn(out,lbls) #cross_entropy(out,labels)\n",
        "        loss.backward()\n",
        "        optimizer.step()\n",
        "        total_loss+=loss\n",
        "        _,predicted = torch.max(out,1)\n",
        "        acc+=(predicted==lbls).sum()\n",
        "        count+=len(labels)\n",
        "    return total_loss.item()/count, acc.item()/count\n",
        "\n",
        "def validate(net, dataloader,loss_fn=nn.NLLLoss()):\n",
        "    net.eval()\n",
        "    count,acc,loss = 0,0,0\n",
        "    with torch.no_grad():\n",
        "        for features,labels in dataloader:\n",
        "            lbls = labels.to(default_device)\n",
        "            out = net(features.to(default_device))\n",
        "            loss += loss_fn(out,lbls)\n",
        "            pred = torch.max(out,1)[1]\n",
        "            acc += (pred==lbls).sum()\n",
        "            count += len(labels)\n",
        "    return loss.item()/count, acc.item()/count\n",
        "\n",
        "def train(net,train_loader,test_loader,optimizer=None,lr=0.01,epochs=10,loss_fn=nn.NLLLoss()):\n",
        "    optimizer = optimizer or torch.optim.Adam(net.parameters(),lr=lr)\n",
        "    res = { 'train_loss' : [], 'train_acc': [], 'val_loss': [], 'val_acc': []}\n",
        "    for ep in range(epochs):\n",
        "        tl,ta = train_epoch(net,train_loader,optimizer=optimizer,lr=lr,loss_fn=loss_fn)\n",
        "        vl,va = validate(net,test_loader,loss_fn=loss_fn)\n",
        "        print(f\"Epoch {ep+1:2}, Train acc={ta:.3f}, Val acc={va:.3f}, Train loss={tl:.3f}, Val loss={vl:.3f}\")\n",
        "        res['train_loss'].append(tl)\n",
        "        res['train_acc'].append(ta)\n",
        "        res['val_loss'].append(vl)\n",
        "        res['val_acc'].append(va)\n",
        "    return res\n",
        "\n",
        "def train_long(net,train_loader,test_loader,epochs=5,lr=0.01,optimizer=None,loss_fn = nn.NLLLoss(),print_freq=10):\n",
        "    optimizer = optimizer or torch.optim.Adam(net.parameters(),lr=lr)\n",
        "    for epoch in range(epochs):\n",
        "        net.train()\n",
        "        total_loss,acc,count = 0,0,0\n",
        "        for i, (features,labels) in enumerate(train_loader):\n",
        "            lbls = labels.to(default_device)\n",
        "            optimizer.zero_grad()\n",
        "            out = net(features.to(default_device))\n",
        "            loss = loss_fn(out,lbls)\n",
        "            loss.backward()\n",
        "            optimizer.step()\n",
        "            total_loss+=loss\n",
        "            _,predicted = torch.max(out,1)\n",
        "            acc+=(predicted==lbls).sum()\n",
        "            count+=len(labels)\n",
        "            if i%print_freq==0:\n",
        "                print(\"Epoch {}, minibatch {}: train acc = {}, train loss = {}\".format(epoch,i,acc.item()/count,total_loss.item()/count))\n",
        "        vl,va = validate(net,test_loader,loss_fn)\n",
        "        print(\"Epoch {} done, validation acc = {}, validation loss = {}\".format(epoch,va,vl))\n",
        "\n",
        "\n",
        "def plot_results(hist):\n",
        "    plt.figure(figsize=(15,5))\n",
        "    plt.subplot(121)\n",
        "    plt.plot(hist['train_acc'], label='Training acc')\n",
        "    plt.plot(hist['val_acc'], label='Validation acc')\n",
        "    plt.legend()\n",
        "    plt.subplot(122)\n",
        "    plt.plot(hist['train_loss'], label='Training loss')\n",
        "    plt.plot(hist['val_loss'], label='Validation loss')\n",
        "    plt.legend()\n",
        "\n",
        "def plot_convolution(data_train, t,title=''):\n",
        "    with torch.no_grad():\n",
        "        c = nn.Conv2d(kernel_size=(3,3),out_channels=1,in_channels=1)\n",
        "        c.weight.copy_(t)\n",
        "        fig, ax = plt.subplots(2,6,figsize=(8,3))\n",
        "        fig.suptitle(title,fontsize=16)\n",
        "        for i in range(5):\n",
        "            im = data_train[i][0]\n",
        "            ax[0][i].imshow(im[0], cmap='gray')\n",
        "            ax[1][i].imshow(c(im.unsqueeze(0))[0][0], cmap='gray')\n",
        "            ax[0][i].axis('off')\n",
        "            ax[1][i].axis('off')\n",
        "        ax[0,5].imshow(t)#, cmap='gray')\n",
        "        ax[0,5].axis('off')\n",
        "        ax[1,5].axis('off')\n",
        "        #plt.tight_layout()\n",
        "        plt.show()\n",
        "\n",
        "def display_dataset(dataset, n=10,classes=None):\n",
        "    fig,ax = plt.subplots(1,n,figsize=(15,3))\n",
        "    mn = min([dataset[i][0].min() for i in range(n)])\n",
        "    mx = max([dataset[i][0].max() for i in range(n)])\n",
        "    for i in range(n):\n",
        "        ax[i].imshow(np.transpose((dataset[i][0]-mn)/(mx-mn),(1,2,0)))\n",
        "        ax[i].axis('off')\n",
        "        if classes:\n",
        "            ax[i].set_title(classes[dataset[i][1]])\n",
        "\n",
        "\n",
        "def check_image(fn):\n",
        "    try:\n",
        "        im = Image.open(fn)\n",
        "        im.verify()\n",
        "        return True\n",
        "    except:\n",
        "        return False\n",
        "\n",
        "def check_image_dir(path):\n",
        "    for fn in glob.glob(path):\n",
        "        if not check_image(fn):\n",
        "            print(\"Corrupt image: {}\".format(fn))\n",
        "            os.remove(fn)\n",
        "\n",
        "\n",
        "def common_transform():\n",
        "    std_normalize = torchvision.transforms.Normalize(mean=[0.485, 0.456, 0.406],\n",
        "                          std=[0.229, 0.224, 0.225])\n",
        "    trans = torchvision.transforms.Compose([\n",
        "            torchvision.transforms.Resize(256),\n",
        "            torchvision.transforms.CenterCrop(224),\n",
        "            torchvision.transforms.ToTensor(),\n",
        "            std_normalize])\n",
        "    return trans\n",
        "\n",
        "def load_cats_dogs_dataset():\n",
        "    if not os.path.exists('data/PetImages'):\n",
        "        with zipfile.ZipFile('data/kagglecatsanddogs_5340.zip', 'r') as zip_ref:\n",
        "            zip_ref.extractall('data')\n",
        "\n",
        "    check_image_dir('data/PetImages/Cat/*.jpg')\n",
        "    check_image_dir('data/PetImages/Dog/*.jpg')\n",
        "\n",
        "    dataset = torchvision.datasets.ImageFolder('data/PetImages',transform=common_transform())\n",
        "    trainset, testset = torch.utils.data.random_split(dataset,[20000,len(dataset)-20000])\n",
        "    trainloader = torch.utils.data.DataLoader(trainset,batch_size=32)\n",
        "    testloader = torch.utils.data.DataLoader(trainset,batch_size=32)\n",
        "    return dataset, trainloader, testloader"
      ]
    },
    {
      "cell_type": "code",
      "source": [
        "train_ds, test_ds, train_loader, test_loader = load_mnist(batch_size=128)"
      ],
      "metadata": {
        "colab": {
          "base_uri": "https://localhost:8080/"
        },
        "id": "fWQBcmrlUk0w",
        "outputId": "0978ce81-d334-4604-8a72-642878f302d4"
      },
      "execution_count": 4,
      "outputs": [
        {
          "output_type": "stream",
          "name": "stdout",
          "text": [
            "Downloading http://yann.lecun.com/exdb/mnist/train-images-idx3-ubyte.gz\n",
            "Downloading http://yann.lecun.com/exdb/mnist/train-images-idx3-ubyte.gz to ./data/MNIST/raw/train-images-idx3-ubyte.gz\n"
          ]
        },
        {
          "output_type": "stream",
          "name": "stderr",
          "text": [
            "100%|██████████| 9912422/9912422 [00:00<00:00, 196139601.10it/s]\n"
          ]
        },
        {
          "output_type": "stream",
          "name": "stdout",
          "text": [
            "Extracting ./data/MNIST/raw/train-images-idx3-ubyte.gz to ./data/MNIST/raw\n",
            "\n",
            "Downloading http://yann.lecun.com/exdb/mnist/train-labels-idx1-ubyte.gz\n",
            "Downloading http://yann.lecun.com/exdb/mnist/train-labels-idx1-ubyte.gz to ./data/MNIST/raw/train-labels-idx1-ubyte.gz\n"
          ]
        },
        {
          "output_type": "stream",
          "name": "stderr",
          "text": [
            "100%|██████████| 28881/28881 [00:00<00:00, 94859587.96it/s]\n"
          ]
        },
        {
          "output_type": "stream",
          "name": "stdout",
          "text": [
            "Extracting ./data/MNIST/raw/train-labels-idx1-ubyte.gz to ./data/MNIST/raw\n",
            "\n",
            "Downloading http://yann.lecun.com/exdb/mnist/t10k-images-idx3-ubyte.gz\n",
            "Downloading http://yann.lecun.com/exdb/mnist/t10k-images-idx3-ubyte.gz to ./data/MNIST/raw/t10k-images-idx3-ubyte.gz\n"
          ]
        },
        {
          "output_type": "stream",
          "name": "stderr",
          "text": [
            "100%|██████████| 1648877/1648877 [00:00<00:00, 60894871.02it/s]"
          ]
        },
        {
          "output_type": "stream",
          "name": "stdout",
          "text": [
            "Extracting ./data/MNIST/raw/t10k-images-idx3-ubyte.gz to ./data/MNIST/raw\n"
          ]
        },
        {
          "output_type": "stream",
          "name": "stderr",
          "text": [
            "\n"
          ]
        },
        {
          "output_type": "stream",
          "name": "stdout",
          "text": [
            "\n",
            "Downloading http://yann.lecun.com/exdb/mnist/t10k-labels-idx1-ubyte.gz\n",
            "Downloading http://yann.lecun.com/exdb/mnist/t10k-labels-idx1-ubyte.gz to ./data/MNIST/raw/t10k-labels-idx1-ubyte.gz\n"
          ]
        },
        {
          "output_type": "stream",
          "name": "stderr",
          "text": [
            "100%|██████████| 4542/4542 [00:00<00:00, 5322863.58it/s]\n"
          ]
        },
        {
          "output_type": "stream",
          "name": "stdout",
          "text": [
            "Extracting ./data/MNIST/raw/t10k-labels-idx1-ubyte.gz to ./data/MNIST/raw\n",
            "\n"
          ]
        }
      ]
    },
    {
      "cell_type": "markdown",
      "source": [
        "Convolutional filters are small windows that run over each pixel of the image and compute weighted average of the neighboring pixels."
      ],
      "metadata": {
        "id": "fmDkFcVeVsGb"
      }
    },
    {
      "cell_type": "markdown",
      "source": [
        "They are defined by matrices of weight coefficients. Let's see the examples of applying two different convolutional filters over our MNIST handwritten digits:"
      ],
      "metadata": {
        "id": "q0HGnB39Vxy0"
      }
    },
    {
      "cell_type": "code",
      "source": [
        "plot_convolution(train_ds,\n",
        "                 torch.tensor([[-1.,0.,1.],[-1.,0.,1.],[-1.,0.,1.]]),\n",
        "                 'Vertical edge filter')\n",
        "plot_convolution(train_ds,\n",
        "                 torch.tensor([[-1.,-1.,-1.],[0.,0.,0.],[1.,1.,1.]]),\n",
        "                 'Horizontal edge filter')"
      ],
      "metadata": {
        "colab": {
          "base_uri": "https://localhost:8080/",
          "height": 579
        },
        "id": "5eZJGKAvUkyh",
        "outputId": "ad778a94-1fe3-4fe4-b0d2-35bee65ac3bb"
      },
      "execution_count": 5,
      "outputs": [
        {
          "output_type": "display_data",
          "data": {
            "text/plain": [
              "<Figure size 800x300 with 12 Axes>"
            ],
            "image/png": "[encoded data removed]"
          },
          "metadata": {}
        },
        {
          "output_type": "display_data",
          "data": {
            "text/plain": [
              "<Figure size 800x300 with 12 Axes>"
            ],
            "image/png": "[encoded data removed]"
          },
          "metadata": {}
        }
      ]
    },
    {
      "cell_type": "markdown",
      "source": [
        "In classical computer vision, multiple filters were applied to the image to generate features, which then were used by machine learning algorithm to build a classifier. However, in deep learning we construct networks that learn best convolutional filters to solve classification problem.\n",
        "\n",
        "To do that, we introduce convolutional layers."
      ],
      "metadata": {
        "id": "3xW284QyXcvV"
      }
    },
    {
      "cell_type": "markdown",
      "source": [
        "### Covolutional layers"
      ],
      "metadata": {
        "id": "6aDqgiwNXhRa"
      }
    },
    {
      "cell_type": "markdown",
      "source": [
        "Convolutional layers are defined using nn.Conv2d construction"
      ],
      "metadata": {
        "id": "EeaZPGRmXr2j"
      }
    },
    {
      "cell_type": "code",
      "source": [
        "class OneConv(nn.Module):\n",
        "\n",
        "  def __init__(self):\n",
        "    super(OneConv, self).__init__()\n",
        "    self.conv = nn.Conv2d(in_channels=1,out_channels=8,kernel_size=(5,5))\n",
        "    self.flatten = nn.Flatten()\n",
        "    self.fc = nn.Linear(4608 , 10)\n",
        "\n",
        "  def forward(self, x):\n",
        "    x = self.conv(x)\n",
        "    x = nn.functional.relu(x)\n",
        "    x = self.flatten(x)\n",
        "    x = self.fc(x)\n",
        "    x = nn.functional.log_softmax(x, dim=1)\n",
        "    return x\n",
        "\n",
        "net= OneConv()\n",
        "summary(net, input_size=(1,1,28,28))"
      ],
      "metadata": {
        "colab": {
          "base_uri": "https://localhost:8080/"
        },
        "id": "tLlHDf6VV6XD",
        "outputId": "73cd832e-5d52-4a19-b3d9-5612ef1ef9fb"
      },
      "execution_count": 6,
      "outputs": [
        {
          "output_type": "execute_result",
          "data": {
            "text/plain": [
              "==========================================================================================\n",
              "Layer (type:depth-idx)                   Output Shape              Param #\n",
              "==========================================================================================\n",
              "OneConv                                  [1, 10]                   --\n",
              "├─Conv2d: 1-1                            [1, 8, 24, 24]            208\n",
              "├─Flatten: 1-2                           [1, 4608]                 --\n",
              "├─Linear: 1-3                            [1, 10]                   46,090\n",
              "==========================================================================================\n",
              "Total params: 46,298\n",
              "Trainable params: 46,298\n",
              "Non-trainable params: 0\n",
              "Total mult-adds (M): 0.17\n",
              "==========================================================================================\n",
              "Input size (MB): 0.00\n",
              "Forward/backward pass size (MB): 0.04\n",
              "Params size (MB): 0.19\n",
              "Estimated Total Size (MB): 0.23\n",
              "=========================================================================================="
            ]
          },
          "metadata": {},
          "execution_count": 6
        }
      ]
    },
    {
      "cell_type": "code",
      "source": [
        "hist = train(net,train_loader,test_loader,epochs=5)\n",
        "plot_results(hist)"
      ],
      "metadata": {
        "colab": {
          "base_uri": "https://localhost:8080/",
          "height": 525
        },
        "id": "Fbs_6K8UZwY_",
        "outputId": "75601e1d-656b-407e-c1ec-87c796d209ae"
      },
      "execution_count": 7,
      "outputs": [
        {
          "output_type": "stream",
          "name": "stdout",
          "text": [
            "Epoch  1, Train acc=0.942, Val acc=0.966, Train loss=0.001, Val loss=0.001\n",
            "Epoch  2, Train acc=0.977, Val acc=0.973, Train loss=0.001, Val loss=0.001\n",
            "Epoch  3, Train acc=0.983, Val acc=0.977, Train loss=0.000, Val loss=0.001\n",
            "Epoch  4, Train acc=0.986, Val acc=0.981, Train loss=0.000, Val loss=0.001\n",
            "Epoch  5, Train acc=0.987, Val acc=0.978, Train loss=0.000, Val loss=0.001\n"
          ]
        },
        {
          "output_type": "display_data",
          "data": {
            "text/plain": [
              "<Figure size 1500x500 with 2 Axes>"
            ],
            "image/png": "[encoded data removed]"
          },
          "metadata": {}
        }
      ]
    },
    {
      "cell_type": "markdown",
      "source": [
        "We can also visualize the weights of our trained convolutional layers, to try and make some more sense of what is going on\n",
        "\n",
        "\n"
      ],
      "metadata": {
        "id": "mCTCoIyQakBJ"
      }
    },
    {
      "cell_type": "code",
      "source": [
        "fig,ax = plt.subplots(1,9)\n",
        "with torch.no_grad():\n",
        "    p = next(net.conv.parameters())\n",
        "    for i,x in enumerate(p):\n",
        "        ax[i].imshow(x.detach().cpu()[0,...])\n",
        "        ax[i].axis('off')"
      ],
      "metadata": {
        "colab": {
          "base_uri": "https://localhost:8080/",
          "height": 435
        },
        "id": "0thgzf_sUkww",
        "outputId": "ab72946b-e1d3-4ce5-bd23-5c44391bf82c"
      },
      "execution_count": 8,
      "outputs": [
        {
          "output_type": "display_data",
          "data": {
            "text/plain": [
              "<Figure size 640x480 with 9 Axes>"
            ],
            "image/png": "[encoded data removed]"
          },
          "metadata": {}
        }
      ]
    },
    {
      "cell_type": "markdown",
      "source": [
        "### Multi-Layered CNNs"
      ],
      "metadata": {
        "id": "IYt0uMFsbE9q"
      }
    },
    {
      "cell_type": "markdown",
      "source": [
        " To recognize  patterns, we can add multiple layer of convolution filters on top of the result of the first layer."
      ],
      "metadata": {
        "id": "YMcmOBa7cIBz"
      }
    },
    {
      "cell_type": "markdown",
      "source": [
        "#### Pooling layers"
      ],
      "metadata": {
        "id": "YMizrttMb49x"
      }
    },
    {
      "cell_type": "markdown",
      "source": [
        "\n",
        "1.  **Average Pooling** takes a sliding window (for example, 2x2 pixels) and computes an average of values within the window\n",
        "\n",
        "2.   **Max Pooling** replaces the window with the maximum value. The idea behind max pooling is to detect a presence of a certain pattern within the sliding window."
      ],
      "metadata": {
        "id": "kFQeqpXtcSAp"
      }
    },
    {
      "cell_type": "markdown",
      "source": [
        "Thus, in a typical CNN there would be composed of several convolutional layers, with pooling layers in between them to decrease dimensions of the image. We would also increase the number of filters, because as patterns become more advanced - there are more possible interesting combinations that we need to be looking for."
      ],
      "metadata": {
        "id": "2i2ccG-vcjwa"
      }
    },
    {
      "cell_type": "code",
      "source": [],
      "metadata": {
        "id": "vfwc9FCXbEJ5"
      },
      "execution_count": 8,
      "outputs": []
    },
    {
      "cell_type": "markdown",
      "source": [
        "Instead of using Flatten layer, we are flattening the tensor inside forward function using view function, which is similar to reshape function in numpy"
      ],
      "metadata": {
        "id": "b7kHubhDc18h"
      }
    },
    {
      "cell_type": "code",
      "source": [
        "class MultiLayerCNN(nn.Module):\n",
        "    def __init__(self):\n",
        "        super(MultiLayerCNN, self).__init__()\n",
        "        self.conv1 = nn.Conv2d(1, 10, 5)\n",
        "        self.pool = nn.MaxPool2d(2, 2)\n",
        "        self.conv2 = nn.Conv2d(10, 20, 5)\n",
        "        self.fc = nn.Linear(320,10)\n",
        "\n",
        "    def forward(self, x):\n",
        "        x = self.pool(nn.functional.relu(self.conv1(x)))\n",
        "        x = self.pool(nn.functional.relu(self.conv2(x)))\n",
        "        x = x.view(-1, 320)\n",
        "        x = nn.functional.log_softmax(self.fc(x),dim=1)\n",
        "        return x\n",
        "\n",
        "net = MultiLayerCNN()\n",
        "summary(net,input_size=(1,1,28,28))"
      ],
      "metadata": {
        "colab": {
          "base_uri": "https://localhost:8080/"
        },
        "id": "2PeLr4jWUkur",
        "outputId": "3e1f19a1-b772-4e4f-b971-795955b19b6d"
      },
      "execution_count": 9,
      "outputs": [
        {
          "output_type": "execute_result",
          "data": {
            "text/plain": [
              "==========================================================================================\n",
              "Layer (type:depth-idx)                   Output Shape              Param #\n",
              "==========================================================================================\n",
              "MultiLayerCNN                            [1, 10]                   --\n",
              "├─Conv2d: 1-1                            [1, 10, 24, 24]           260\n",
              "├─MaxPool2d: 1-2                         [1, 10, 12, 12]           --\n",
              "├─Conv2d: 1-3                            [1, 20, 8, 8]             5,020\n",
              "├─MaxPool2d: 1-4                         [1, 20, 4, 4]             --\n",
              "├─Linear: 1-5                            [1, 10]                   3,210\n",
              "==========================================================================================\n",
              "Total params: 8,490\n",
              "Trainable params: 8,490\n",
              "Non-trainable params: 0\n",
              "Total mult-adds (M): 0.47\n",
              "==========================================================================================\n",
              "Input size (MB): 0.00\n",
              "Forward/backward pass size (MB): 0.06\n",
              "Params size (MB): 0.03\n",
              "Estimated Total Size (MB): 0.09\n",
              "=========================================================================================="
            ]
          },
          "metadata": {},
          "execution_count": 9
        }
      ]
    },
    {
      "cell_type": "code",
      "source": [
        "hist = train(net,train_loader,test_loader,epochs=5)"
      ],
      "metadata": {
        "colab": {
          "base_uri": "https://localhost:8080/"
        },
        "id": "1FSG-gDkUksU",
        "outputId": "ee282948-e87d-47b3-a09c-f03970fbd765"
      },
      "execution_count": 10,
      "outputs": [
        {
          "output_type": "stream",
          "name": "stdout",
          "text": [
            "Epoch  1, Train acc=0.950, Val acc=0.970, Train loss=0.001, Val loss=0.001\n",
            "Epoch  2, Train acc=0.983, Val acc=0.985, Train loss=0.000, Val loss=0.000\n",
            "Epoch  3, Train acc=0.986, Val acc=0.985, Train loss=0.000, Val loss=0.000\n",
            "Epoch  4, Train acc=0.987, Val acc=0.982, Train loss=0.000, Val loss=0.000\n",
            "Epoch  5, Train acc=0.988, Val acc=0.981, Train loss=0.000, Val loss=0.001\n"
          ]
        }
      ]
    },
    {
      "cell_type": "markdown",
      "source": [
        "### CIFAR-10 dataset"
      ],
      "metadata": {
        "id": "XMvtXlQqdaHE"
      }
    },
    {
      "cell_type": "code",
      "source": [
        "transform = torchvision.transforms.Compose(\n",
        "    [torchvision.transforms.ToTensor(),\n",
        "     torchvision.transforms.Normalize((0.5, 0.5, 0.5), (0.5, 0.5, 0.5))])\n",
        "\n",
        "trainset = torchvision.datasets.CIFAR10(root='/content/data',\n",
        "                                        train=True, download=True,\n",
        "                                        transform=transform)\n",
        "\n",
        "trainloader = torch.utils.data.DataLoader(trainset,\n",
        "                                          batch_size=14,\n",
        "                                          shuffle=True)\n",
        "\n",
        "testset = torchvision.datasets.CIFAR10(root='/content/data',\n",
        "                                       train=False,\n",
        "                                       download=True,\n",
        "                                       transform=transform)\n",
        "\n",
        "testloader = torch.utils.data.DataLoader(testset,\n",
        "                                         batch_size=14,\n",
        "                                         shuffle=False)\n",
        "\n",
        "classes = ('plane', 'car', 'bird', 'cat', 'deer', 'dog', 'frog',\n",
        "           'horse', 'ship', 'truck')"
      ],
      "metadata": {
        "colab": {
          "base_uri": "https://localhost:8080/"
        },
        "id": "v0uDIwKBUknx",
        "outputId": "902c1eda-40fd-40d8-ca18-af892707aded"
      },
      "execution_count": 11,
      "outputs": [
        {
          "output_type": "stream",
          "name": "stdout",
          "text": [
            "Downloading https://www.cs.toronto.edu/~kriz/cifar-10-python.tar.gz to /content/data/cifar-10-python.tar.gz\n"
          ]
        },
        {
          "output_type": "stream",
          "name": "stderr",
          "text": [
            "100%|██████████| 170498071/170498071 [00:05<00:00, 29189174.74it/s]\n"
          ]
        },
        {
          "output_type": "stream",
          "name": "stdout",
          "text": [
            "Extracting /content/data/cifar-10-python.tar.gz to /content/data\n",
            "Files already downloaded and verified\n"
          ]
        }
      ]
    },
    {
      "cell_type": "code",
      "source": [
        "display_dataset(trainset,classes=classes)"
      ],
      "metadata": {
        "colab": {
          "base_uri": "https://localhost:8080/",
          "height": 157
        },
        "id": "N5WWp2qOd6c3",
        "outputId": "0ad587c2-d006-4c75-d0bd-a9f1b60dcfd9"
      },
      "execution_count": 12,
      "outputs": [
        {
          "output_type": "display_data",
          "data": {
            "text/plain": [
              "<Figure size 1500x300 with 10 Axes>"
            ],
            "image/png": "[encoded data removed]"
          },
          "metadata": {}
        }
      ]
    },
    {
      "cell_type": "markdown",
      "source": [
        "A well-known architecture for CIFAR-10 is called LeNet,"
      ],
      "metadata": {
        "id": "7sDbHspLeUur"
      }
    },
    {
      "cell_type": "code",
      "source": [
        "class LeNet(nn.Module):\n",
        "    def __init__(self):\n",
        "        super(LeNet, self).__init__()\n",
        "        self.conv1 = nn.Conv2d(3, 6, 5)\n",
        "        self.pool = nn.MaxPool2d(2)\n",
        "        self.conv2 = nn.Conv2d(6, 16, 5)\n",
        "        self.conv3 = nn.Conv2d(16,120,5)\n",
        "        self.flat = nn.Flatten()\n",
        "        self.fc1 = nn.Linear(120,64)\n",
        "        self.fc2 = nn.Linear(64,10)\n",
        "\n",
        "    def forward(self, x):\n",
        "        x = self.pool(nn.functional.relu(self.conv1(x)))\n",
        "        x = self.pool(nn.functional.relu(self.conv2(x)))\n",
        "        x = nn.functional.relu(self.conv3(x))\n",
        "        x = self.flat(x)\n",
        "        x = nn.functional.relu(self.fc1(x))\n",
        "        x = self.fc2(x)\n",
        "        return x\n",
        "\n",
        "net = LeNet()\n",
        "\n",
        "summary(net,input_size=(1,3,32,32))"
      ],
      "metadata": {
        "colab": {
          "base_uri": "https://localhost:8080/"
        },
        "id": "sSYjrkuKeE7z",
        "outputId": "48c6b77d-48ca-4768-c659-fdb715dba08c"
      },
      "execution_count": 13,
      "outputs": [
        {
          "output_type": "execute_result",
          "data": {
            "text/plain": [
              "==========================================================================================\n",
              "Layer (type:depth-idx)                   Output Shape              Param #\n",
              "==========================================================================================\n",
              "LeNet                                    [1, 10]                   --\n",
              "├─Conv2d: 1-1                            [1, 6, 28, 28]            456\n",
              "├─MaxPool2d: 1-2                         [1, 6, 14, 14]            --\n",
              "├─Conv2d: 1-3                            [1, 16, 10, 10]           2,416\n",
              "├─MaxPool2d: 1-4                         [1, 16, 5, 5]             --\n",
              "├─Conv2d: 1-5                            [1, 120, 1, 1]            48,120\n",
              "├─Flatten: 1-6                           [1, 120]                  --\n",
              "├─Linear: 1-7                            [1, 64]                   7,744\n",
              "├─Linear: 1-8                            [1, 10]                   650\n",
              "==========================================================================================\n",
              "Total params: 59,386\n",
              "Trainable params: 59,386\n",
              "Non-trainable params: 0\n",
              "Total mult-adds (M): 0.66\n",
              "==========================================================================================\n",
              "Input size (MB): 0.01\n",
              "Forward/backward pass size (MB): 0.05\n",
              "Params size (MB): 0.24\n",
              "Estimated Total Size (MB): 0.30\n",
              "=========================================================================================="
            ]
          },
          "metadata": {},
          "execution_count": 13
        }
      ]
    },
    {
      "cell_type": "markdown",
      "source": [
        "We also do one more simplification to this model - we do not use log_softmax as output activation function, and just return the output of last fully-connected layer. In this case we can just use CrossEntropyLoss loss function to optimize the model."
      ],
      "metadata": {
        "id": "tuoU9ABQehhs"
      }
    },
    {
      "cell_type": "code",
      "source": [
        "opt = torch.optim.SGD(net.parameters(),lr=0.001,momentum=0.9)\n",
        "hist = train(net, trainloader,\n",
        "             testloader,\n",
        "             epochs=5, optimizer=opt,\n",
        "             loss_fn=nn.CrossEntropyLoss())"
      ],
      "metadata": {
        "colab": {
          "base_uri": "https://localhost:8080/"
        },
        "id": "QPIMZRyReE5s",
        "outputId": "8bdb5f72-8a0f-4dd0-a974-36c9733508c5"
      },
      "execution_count": 14,
      "outputs": [
        {
          "output_type": "stream",
          "name": "stdout",
          "text": [
            "Epoch  1, Train acc=0.240, Val acc=0.379, Train loss=0.146, Val loss=0.121\n",
            "Epoch  2, Train acc=0.422, Val acc=0.470, Train loss=0.112, Val loss=0.103\n",
            "Epoch  3, Train acc=0.495, Val acc=0.508, Train loss=0.099, Val loss=0.097\n",
            "Epoch  4, Train acc=0.544, Val acc=0.549, Train loss=0.091, Val loss=0.090\n",
            "Epoch  5, Train acc=0.580, Val acc=0.586, Train loss=0.084, Val loss=0.083\n"
          ]
        }
      ]
    },
    {
      "cell_type": "code",
      "source": [
        "plot_results(hist)"
      ],
      "metadata": {
        "colab": {
          "base_uri": "https://localhost:8080/",
          "height": 441
        },
        "id": "YkEwyV1jeE3E",
        "outputId": "fc6097d2-81db-47ec-89a8-815a38edb6f9"
      },
      "execution_count": 15,
      "outputs": [
        {
          "output_type": "display_data",
          "data": {
            "text/plain": [
              "<Figure size 1500x500 with 2 Axes>"
            ],
            "image/png": "[encoded data removed]"
          },
          "metadata": {}
        }
      ]
    },
    {
      "cell_type": "code",
      "source": [
        "if not os.path.exists('data/kagglecatsanddogs_5340.zip'):\n",
        "    !wget -P data -q https://download.microsoft.com/download/3/E/1/3E1C3F21-ECDB-4869-8368-6DEBA77B919F/kagglecatsanddogs_5340.zip"
      ],
      "metadata": {
        "id": "x1c7h9q8eErj"
      },
      "execution_count": 16,
      "outputs": []
    },
    {
      "cell_type": "code",
      "source": [
        "import zipfile\n",
        "if not os.path.exists('data/PetImages'):\n",
        "    with zipfile.ZipFile('data/kagglecatsanddogs_5340.zip', 'r') as zip_ref:\n",
        "        zip_ref.extractall('data')"
      ],
      "metadata": {
        "id": "qkHFSshek776"
      },
      "execution_count": 17,
      "outputs": []
    },
    {
      "cell_type": "code",
      "source": [
        "check_image_dir('data/PetImages/Cat/*.jpg')\n",
        "check_image_dir('data/PetImages/Dog/*.jpg')"
      ],
      "metadata": {
        "colab": {
          "base_uri": "https://localhost:8080/"
        },
        "id": "MqQFhKrRlWki",
        "outputId": "8f4380f9-e829-4a20-8a6e-a9e200e91657"
      },
      "execution_count": 18,
      "outputs": [
        {
          "output_type": "stream",
          "name": "stdout",
          "text": [
            "Corrupt image: data/PetImages/Cat/666.jpg\n"
          ]
        },
        {
          "output_type": "stream",
          "name": "stderr",
          "text": [
            "/usr/local/lib/python3.10/dist-packages/PIL/TiffImagePlugin.py:858: UserWarning: Truncated File Read\n",
            "  warnings.warn(str(msg))\n"
          ]
        },
        {
          "output_type": "stream",
          "name": "stdout",
          "text": [
            "Corrupt image: data/PetImages/Dog/11702.jpg\n"
          ]
        }
      ]
    },
    {
      "cell_type": "code",
      "source": [
        "std_normalize = transforms.Normalize(mean=[0.485, 0.456, 0.406],\n",
        "                                     std = [0.229, 0.224, 0.225])"
      ],
      "metadata": {
        "id": "b-hGDlZjnBqj"
      },
      "execution_count": 19,
      "outputs": []
    },
    {
      "cell_type": "code",
      "source": [
        "pipeline_tran = transforms.Compose([transforms.Resize(256),\n",
        "                                    transforms.CenterCrop(224),\n",
        "                                    transforms.ToTensor(),\n",
        "                                    std_normalize])"
      ],
      "metadata": {
        "id": "msnhpppjliyX"
      },
      "execution_count": 20,
      "outputs": []
    },
    {
      "cell_type": "code",
      "source": [
        "pet_ds = torchvision.datasets.ImageFolder('data/PetImages', transform= pipeline_tran)\n",
        "pet_train_ds, pet_test_ds = torch.utils.data.random_split(pet_ds, [20000, len(pet_ds) - 20000])\n"
      ],
      "metadata": {
        "id": "SgYRM7_xncsv"
      },
      "execution_count": 21,
      "outputs": []
    },
    {
      "cell_type": "code",
      "source": [
        "display(pet_ds)"
      ],
      "metadata": {
        "colab": {
          "base_uri": "https://localhost:8080/",
          "height": 191
        },
        "id": "mnI9U3meov2f",
        "outputId": "d56f2081-82e8-4a36-c0ab-b9c47e8483e2"
      },
      "execution_count": 22,
      "outputs": [
        {
          "output_type": "display_data",
          "data": {
            "text/plain": [
              "Dataset ImageFolder\n",
              "    Number of datapoints: 24998\n",
              "    Root location: data/PetImages\n",
              "    StandardTransform\n",
              "Transform: Compose(\n",
              "               Resize(size=256, interpolation=bilinear, max_size=None, antialias=warn)\n",
              "               CenterCrop(size=(224, 224))\n",
              "               ToTensor()\n",
              "               Normalize(mean=[0.485, 0.456, 0.406], std=[0.229, 0.224, 0.225])\n",
              "           )"
            ]
          },
          "metadata": {}
        }
      ]
    },
    {
      "cell_type": "code",
      "source": [
        "# Download model weights in the sandbox environment\n",
        "!mkdir -p models\n",
        "!wget -P models https://github.com/MicrosoftDocs/pytorchfundamentals/raw/main/computer-vision-pytorch/vgg16-397923af.pth"
      ],
      "metadata": {
        "id": "PdPNvCy8UkiB",
        "colab": {
          "base_uri": "https://localhost:8080/"
        },
        "outputId": "310c9328-60b2-4f3e-ceb6-3e3c4c814bb3"
      },
      "execution_count": 23,
      "outputs": [
        {
          "output_type": "stream",
          "name": "stdout",
          "text": [
            "--2023-08-22 12:37:10--  https://github.com/MicrosoftDocs/pytorchfundamentals/raw/main/computer-vision-pytorch/vgg16-397923af.pth\n",
            "Resolving github.com (github.com)... 140.82.121.4\n",
            "Connecting to github.com (github.com)|140.82.121.4|:443... connected.\n",
            "HTTP request sent, awaiting response... 302 Found\n",
            "Location: https://media.githubusercontent.com/media/MicrosoftDocs/pytorchfundamentals/main/computer-vision-pytorch/vgg16-397923af.pth [following]\n",
            "--2023-08-22 12:37:10--  https://media.githubusercontent.com/media/MicrosoftDocs/pytorchfundamentals/main/computer-vision-pytorch/vgg16-397923af.pth\n",
            "Resolving media.githubusercontent.com (media.githubusercontent.com)... 185.199.108.133, 185.199.109.133, 185.199.110.133, ...\n",
            "Connecting to media.githubusercontent.com (media.githubusercontent.com)|185.199.108.133|:443... connected.\n",
            "HTTP request sent, awaiting response... 200 OK\n",
            "Length: 553433881 (528M) [application/octet-stream]\n",
            "Saving to: ‘models/vgg16-397923af.pth’\n",
            "\n",
            "vgg16-397923af.pth  100%[===================>] 527.79M   184MB/s    in 2.9s    \n",
            "\n",
            "2023-08-22 12:37:49 (184 MB/s) - ‘models/vgg16-397923af.pth’ saved [553433881/553433881]\n",
            "\n"
          ]
        }
      ]
    },
    {
      "cell_type": "markdown",
      "source": [
        "The result that we have received is a number of an ImageNet class"
      ],
      "metadata": {
        "id": "I_IdW2MeqOyJ"
      }
    },
    {
      "cell_type": "code",
      "source": [
        "file_path = 'models/vgg16-397923af.pth'\n",
        "\n",
        "vgg = torchvision.models.vgg16()\n",
        "vgg.load_state_dict(torch.load(file_path))\n",
        "vgg.eval()\n",
        "\n",
        "sample_image = pet_ds[0][0].unsqueeze(0)\n",
        "res = vgg(sample_image)\n",
        "print(res[0].argmax())"
      ],
      "metadata": {
        "colab": {
          "base_uri": "https://localhost:8080/"
        },
        "id": "pSMj_RZPpo-b",
        "outputId": "60354567-0793-42ed-a4d8-1eaabdeaed0a"
      },
      "execution_count": 24,
      "outputs": [
        {
          "output_type": "stream",
          "name": "stdout",
          "text": [
            "tensor(282)\n"
          ]
        }
      ]
    },
    {
      "cell_type": "code",
      "source": [
        "import json, requests\n",
        "class_map = json.loads(requests.get(\"https://raw.githubusercontent.com/MicrosoftDocs/pytorchfundamentals/main/computer-vision-pytorch/imagenet_class_index.json\").text)\n",
        "class_map = { int(k) : v for k,v in class_map.items() }\n",
        "\n",
        "class_map[res[0].argmax().item()]"
      ],
      "metadata": {
        "colab": {
          "base_uri": "https://localhost:8080/"
        },
        "id": "v3rgJjEKqC8Y",
        "outputId": "4ab99419-b2de-4e52-8696-e4c27d593fcd"
      },
      "execution_count": 25,
      "outputs": [
        {
          "output_type": "execute_result",
          "data": {
            "text/plain": [
              "['n02123159', 'tiger_cat']"
            ]
          },
          "metadata": {},
          "execution_count": 25
        }
      ]
    },
    {
      "cell_type": "code",
      "source": [
        "summary(vgg,input_size=(1,3,224,224))"
      ],
      "metadata": {
        "colab": {
          "base_uri": "https://localhost:8080/"
        },
        "id": "yOqwD1VcqbTK",
        "outputId": "69422f74-fc74-4d96-a2f6-a2f6864b8625"
      },
      "execution_count": 26,
      "outputs": [
        {
          "output_type": "execute_result",
          "data": {
            "text/plain": [
              "==========================================================================================\n",
              "Layer (type:depth-idx)                   Output Shape              Param #\n",
              "==========================================================================================\n",
              "VGG                                      [1, 1000]                 --\n",
              "├─Sequential: 1-1                        [1, 512, 7, 7]            --\n",
              "│    └─Conv2d: 2-1                       [1, 64, 224, 224]         1,792\n",
              "│    └─ReLU: 2-2                         [1, 64, 224, 224]         --\n",
              "│    └─Conv2d: 2-3                       [1, 64, 224, 224]         36,928\n",
              "│    └─ReLU: 2-4                         [1, 64, 224, 224]         --\n",
              "│    └─MaxPool2d: 2-5                    [1, 64, 112, 112]         --\n",
              "│    └─Conv2d: 2-6                       [1, 128, 112, 112]        73,856\n",
              "│    └─ReLU: 2-7                         [1, 128, 112, 112]        --\n",
              "│    └─Conv2d: 2-8                       [1, 128, 112, 112]        147,584\n",
              "│    └─ReLU: 2-9                         [1, 128, 112, 112]        --\n",
              "│    └─MaxPool2d: 2-10                   [1, 128, 56, 56]          --\n",
              "│    └─Conv2d: 2-11                      [1, 256, 56, 56]          295,168\n",
              "│    └─ReLU: 2-12                        [1, 256, 56, 56]          --\n",
              "│    └─Conv2d: 2-13                      [1, 256, 56, 56]          590,080\n",
              "│    └─ReLU: 2-14                        [1, 256, 56, 56]          --\n",
              "│    └─Conv2d: 2-15                      [1, 256, 56, 56]          590,080\n",
              "│    └─ReLU: 2-16                        [1, 256, 56, 56]          --\n",
              "│    └─MaxPool2d: 2-17                   [1, 256, 28, 28]          --\n",
              "│    └─Conv2d: 2-18                      [1, 512, 28, 28]          1,180,160\n",
              "│    └─ReLU: 2-19                        [1, 512, 28, 28]          --\n",
              "│    └─Conv2d: 2-20                      [1, 512, 28, 28]          2,359,808\n",
              "│    └─ReLU: 2-21                        [1, 512, 28, 28]          --\n",
              "│    └─Conv2d: 2-22                      [1, 512, 28, 28]          2,359,808\n",
              "│    └─ReLU: 2-23                        [1, 512, 28, 28]          --\n",
              "│    └─MaxPool2d: 2-24                   [1, 512, 14, 14]          --\n",
              "│    └─Conv2d: 2-25                      [1, 512, 14, 14]          2,359,808\n",
              "│    └─ReLU: 2-26                        [1, 512, 14, 14]          --\n",
              "│    └─Conv2d: 2-27                      [1, 512, 14, 14]          2,359,808\n",
              "│    └─ReLU: 2-28                        [1, 512, 14, 14]          --\n",
              "│    └─Conv2d: 2-29                      [1, 512, 14, 14]          2,359,808\n",
              "│    └─ReLU: 2-30                        [1, 512, 14, 14]          --\n",
              "│    └─MaxPool2d: 2-31                   [1, 512, 7, 7]            --\n",
              "├─AdaptiveAvgPool2d: 1-2                 [1, 512, 7, 7]            --\n",
              "├─Sequential: 1-3                        [1, 1000]                 --\n",
              "│    └─Linear: 2-32                      [1, 4096]                 102,764,544\n",
              "│    └─ReLU: 2-33                        [1, 4096]                 --\n",
              "│    └─Dropout: 2-34                     [1, 4096]                 --\n",
              "│    └─Linear: 2-35                      [1, 4096]                 16,781,312\n",
              "│    └─ReLU: 2-36                        [1, 4096]                 --\n",
              "│    └─Dropout: 2-37                     [1, 4096]                 --\n",
              "│    └─Linear: 2-38                      [1, 1000]                 4,097,000\n",
              "==========================================================================================\n",
              "Total params: 138,357,544\n",
              "Trainable params: 138,357,544\n",
              "Non-trainable params: 0\n",
              "Total mult-adds (G): 15.48\n",
              "==========================================================================================\n",
              "Input size (MB): 0.60\n",
              "Forward/backward pass size (MB): 108.45\n",
              "Params size (MB): 553.43\n",
              "Estimated Total Size (MB): 662.49\n",
              "=========================================================================================="
            ]
          },
          "metadata": {},
          "execution_count": 26
        }
      ]
    },
    {
      "cell_type": "code",
      "source": [
        "print('Doing computations on device = {}'.format(default_device))\n",
        "\n",
        "vgg.to(default_device)\n",
        "sample_image = sample_image.to(default_device)\n",
        "\n",
        "vgg(sample_image).argmax()"
      ],
      "metadata": {
        "colab": {
          "base_uri": "https://localhost:8080/"
        },
        "id": "87K0yd06qmYw",
        "outputId": "555555ac-da12-4794-fb2e-908431c9de30"
      },
      "execution_count": 27,
      "outputs": [
        {
          "output_type": "stream",
          "name": "stdout",
          "text": [
            "Doing computations on device = cuda\n"
          ]
        },
        {
          "output_type": "execute_result",
          "data": {
            "text/plain": [
              "tensor(282, device='cuda:0')"
            ]
          },
          "metadata": {},
          "execution_count": 27
        }
      ]
    },
    {
      "cell_type": "markdown",
      "source": [
        "### Extract VGG Features"
      ],
      "metadata": {
        "id": "e7Fuj9KcsKCU"
      }
    },
    {
      "cell_type": "code",
      "source": [
        "res = vgg.features(sample_image).cpu()\n",
        "plt.figure(figsize=(15,3))\n",
        "plt.imshow(res.detach().view(-1,512))\n",
        "print(res.size())"
      ],
      "metadata": {
        "colab": {
          "base_uri": "https://localhost:8080/",
          "height": 193
        },
        "id": "r2ZoJGKbsNdW",
        "outputId": "e2e3a481-5173-4dc3-cbc5-d094b46a2b48"
      },
      "execution_count": 28,
      "outputs": [
        {
          "output_type": "stream",
          "name": "stdout",
          "text": [
            "torch.Size([1, 512, 7, 7])\n"
          ]
        },
        {
          "output_type": "display_data",
          "data": {
            "text/plain": [
              "<Figure size 1500x300 with 1 Axes>"
            ],
            "image/png": "[encoded data removed]"
          },
          "metadata": {}
        }
      ]
    },
    {
      "cell_type": "markdown",
      "source": [
        "Now we can define vgg_dataset that takes data from this tensor, split it into training and test sets using random_split function, and train a small one-layer dense classifier network on top of extracted features:"
      ],
      "metadata": {
        "id": "0qrpfpmgtWDr"
      }
    },
    {
      "cell_type": "code",
      "source": [
        "bs = 8\n",
        "dl = torch.utils.data.DataLoader(pet_ds,batch_size=bs,shuffle=True)\n",
        "num = bs*100\n",
        "feature_tensor = torch.zeros(num,512*7*7).to(default_device)\n",
        "label_tensor = torch.zeros(num).to(default_device)\n",
        "i = 0\n",
        "for x,l in dl:\n",
        "    with torch.no_grad():\n",
        "        f = vgg.features(x.to(default_device))\n",
        "        feature_tensor[i:i+bs] = f.view(bs,-1)\n",
        "        label_tensor[i:i+bs] = l\n",
        "        i+=bs\n",
        "        print('.',end='')\n",
        "        if i>=num:\n",
        "            break\n"
      ],
      "metadata": {
        "colab": {
          "base_uri": "https://localhost:8080/"
        },
        "id": "iqxPxA3ksP8y",
        "outputId": "5bf7b3b3-8390-4249-928a-070b361b0b43"
      },
      "execution_count": 29,
      "outputs": [
        {
          "output_type": "stream",
          "name": "stdout",
          "text": [
            "...................................................................................................."
          ]
        }
      ]
    },
    {
      "cell_type": "code",
      "source": [
        "vgg_dataset = torch.utils.data.TensorDataset(feature_tensor,label_tensor.to(torch.long))\n",
        "train_ds, test_ds = torch.utils.data.random_split(vgg_dataset,[700,100])\n",
        "\n",
        "train_loader = torch.utils.data.DataLoader(train_ds,batch_size=32)\n",
        "test_loader = torch.utils.data.DataLoader(test_ds,batch_size=32)\n",
        "\n",
        "net = torch.nn.Sequential(torch.nn.Linear(512*7*7,2),torch.nn.LogSoftmax()).to(default_device)\n",
        "\n",
        "history = train(net,train_loader,test_loader)"
      ],
      "metadata": {
        "colab": {
          "base_uri": "https://localhost:8080/"
        },
        "id": "O7WNWSyHs5k3",
        "outputId": "8b998369-3e11-46e0-d7c4-98f6b6877fb5"
      },
      "execution_count": 30,
      "outputs": [
        {
          "output_type": "stream",
          "name": "stderr",
          "text": [
            "/usr/local/lib/python3.10/dist-packages/torch/nn/modules/container.py:217: UserWarning: Implicit dimension choice for log_softmax has been deprecated. Change the call to include dim=X as an argument.\n",
            "  input = module(input)\n"
          ]
        },
        {
          "output_type": "stream",
          "name": "stdout",
          "text": [
            "Epoch  1, Train acc=0.910, Val acc=0.990, Train loss=0.074, Val loss=0.002\n",
            "Epoch  2, Train acc=0.980, Val acc=0.960, Train loss=0.021, Val loss=0.031\n",
            "Epoch  3, Train acc=0.974, Val acc=0.980, Train loss=0.036, Val loss=0.006\n",
            "Epoch  4, Train acc=0.993, Val acc=0.970, Train loss=0.006, Val loss=0.012\n",
            "Epoch  5, Train acc=0.999, Val acc=0.990, Train loss=0.001, Val loss=0.005\n",
            "Epoch  6, Train acc=1.000, Val acc=0.990, Train loss=0.000, Val loss=0.003\n",
            "Epoch  7, Train acc=1.000, Val acc=0.980, Train loss=0.000, Val loss=0.006\n",
            "Epoch  8, Train acc=1.000, Val acc=0.980, Train loss=0.000, Val loss=0.006\n",
            "Epoch  9, Train acc=1.000, Val acc=0.980, Train loss=0.000, Val loss=0.006\n",
            "Epoch 10, Train acc=1.000, Val acc=0.980, Train loss=0.000, Val loss=0.006\n"
          ]
        }
      ]
    },
    {
      "cell_type": "markdown",
      "source": [
        "### Transfer Learning Using One VGG"
      ],
      "metadata": {
        "id": "dnLhUtuft0tZ"
      }
    },
    {
      "cell_type": "code",
      "source": [
        "print(vgg)"
      ],
      "metadata": {
        "colab": {
          "base_uri": "https://localhost:8080/"
        },
        "id": "niOUfPkQtNJn",
        "outputId": "d6e0935b-398b-46db-e10f-3e06a64567bf"
      },
      "execution_count": 31,
      "outputs": [
        {
          "output_type": "stream",
          "name": "stdout",
          "text": [
            "VGG(\n",
            "  (features): Sequential(\n",
            "    (0): Conv2d(3, 64, kernel_size=(3, 3), stride=(1, 1), padding=(1, 1))\n",
            "    (1): ReLU(inplace=True)\n",
            "    (2): Conv2d(64, 64, kernel_size=(3, 3), stride=(1, 1), padding=(1, 1))\n",
            "    (3): ReLU(inplace=True)\n",
            "    (4): MaxPool2d(kernel_size=2, stride=2, padding=0, dilation=1, ceil_mode=False)\n",
            "    (5): Conv2d(64, 128, kernel_size=(3, 3), stride=(1, 1), padding=(1, 1))\n",
            "    (6): ReLU(inplace=True)\n",
            "    (7): Conv2d(128, 128, kernel_size=(3, 3), stride=(1, 1), padding=(1, 1))\n",
            "    (8): ReLU(inplace=True)\n",
            "    (9): MaxPool2d(kernel_size=2, stride=2, padding=0, dilation=1, ceil_mode=False)\n",
            "    (10): Conv2d(128, 256, kernel_size=(3, 3), stride=(1, 1), padding=(1, 1))\n",
            "    (11): ReLU(inplace=True)\n",
            "    (12): Conv2d(256, 256, kernel_size=(3, 3), stride=(1, 1), padding=(1, 1))\n",
            "    (13): ReLU(inplace=True)\n",
            "    (14): Conv2d(256, 256, kernel_size=(3, 3), stride=(1, 1), padding=(1, 1))\n",
            "    (15): ReLU(inplace=True)\n",
            "    (16): MaxPool2d(kernel_size=2, stride=2, padding=0, dilation=1, ceil_mode=False)\n",
            "    (17): Conv2d(256, 512, kernel_size=(3, 3), stride=(1, 1), padding=(1, 1))\n",
            "    (18): ReLU(inplace=True)\n",
            "    (19): Conv2d(512, 512, kernel_size=(3, 3), stride=(1, 1), padding=(1, 1))\n",
            "    (20): ReLU(inplace=True)\n",
            "    (21): Conv2d(512, 512, kernel_size=(3, 3), stride=(1, 1), padding=(1, 1))\n",
            "    (22): ReLU(inplace=True)\n",
            "    (23): MaxPool2d(kernel_size=2, stride=2, padding=0, dilation=1, ceil_mode=False)\n",
            "    (24): Conv2d(512, 512, kernel_size=(3, 3), stride=(1, 1), padding=(1, 1))\n",
            "    (25): ReLU(inplace=True)\n",
            "    (26): Conv2d(512, 512, kernel_size=(3, 3), stride=(1, 1), padding=(1, 1))\n",
            "    (27): ReLU(inplace=True)\n",
            "    (28): Conv2d(512, 512, kernel_size=(3, 3), stride=(1, 1), padding=(1, 1))\n",
            "    (29): ReLU(inplace=True)\n",
            "    (30): MaxPool2d(kernel_size=2, stride=2, padding=0, dilation=1, ceil_mode=False)\n",
            "  )\n",
            "  (avgpool): AdaptiveAvgPool2d(output_size=(7, 7))\n",
            "  (classifier): Sequential(\n",
            "    (0): Linear(in_features=25088, out_features=4096, bias=True)\n",
            "    (1): ReLU(inplace=True)\n",
            "    (2): Dropout(p=0.5, inplace=False)\n",
            "    (3): Linear(in_features=4096, out_features=4096, bias=True)\n",
            "    (4): ReLU(inplace=True)\n",
            "    (5): Dropout(p=0.5, inplace=False)\n",
            "    (6): Linear(in_features=4096, out_features=1000, bias=True)\n",
            "  )\n",
            ")\n"
          ]
        }
      ]
    },
    {
      "cell_type": "markdown",
      "source": [
        "\n",
        "Network contains\n",
        "1.   Feature Extractor (features) - Convolution and Pooling Layers\n",
        "2.   Average Pooling Layer\n",
        "3.   Final Classifier - Dense Layer to 1000 classes\n",
        "\n"
      ],
      "metadata": {
        "id": "2chRyY3Q1Rgl"
      }
    },
    {
      "cell_type": "markdown",
      "source": [
        "1.   For Classification of the Cat and Dog - Replace the final classifier layer to have dense layer with 2 output neurons\n",
        "2.   Freeze the weights of the Convolution Layers - Set requires_grad to False"
      ],
      "metadata": {
        "id": "10RQb_xN2K54"
      }
    },
    {
      "cell_type": "code",
      "source": [
        "vgg.classifier = torch.nn.Linear(25088,2).to(default_device)\n",
        "\n",
        "for x in vgg.features.parameters():\n",
        "    x.requires_grad = False\n",
        "\n",
        "summary(vgg,(1, 3,244,244))"
      ],
      "metadata": {
        "colab": {
          "base_uri": "https://localhost:8080/"
        },
        "id": "J0prIqkh2eV5",
        "outputId": "74a14441-2015-48c1-bf91-8e1818382edb"
      },
      "execution_count": 32,
      "outputs": [
        {
          "output_type": "execute_result",
          "data": {
            "text/plain": [
              "==========================================================================================\n",
              "Layer (type:depth-idx)                   Output Shape              Param #\n",
              "==========================================================================================\n",
              "VGG                                      [1, 2]                    --\n",
              "├─Sequential: 1-1                        [1, 512, 7, 7]            --\n",
              "│    └─Conv2d: 2-1                       [1, 64, 244, 244]         (1,792)\n",
              "│    └─ReLU: 2-2                         [1, 64, 244, 244]         --\n",
              "│    └─Conv2d: 2-3                       [1, 64, 244, 244]         (36,928)\n",
              "│    └─ReLU: 2-4                         [1, 64, 244, 244]         --\n",
              "│    └─MaxPool2d: 2-5                    [1, 64, 122, 122]         --\n",
              "│    └─Conv2d: 2-6                       [1, 128, 122, 122]        (73,856)\n",
              "│    └─ReLU: 2-7                         [1, 128, 122, 122]        --\n",
              "│    └─Conv2d: 2-8                       [1, 128, 122, 122]        (147,584)\n",
              "│    └─ReLU: 2-9                         [1, 128, 122, 122]        --\n",
              "│    └─MaxPool2d: 2-10                   [1, 128, 61, 61]          --\n",
              "│    └─Conv2d: 2-11                      [1, 256, 61, 61]          (295,168)\n",
              "│    └─ReLU: 2-12                        [1, 256, 61, 61]          --\n",
              "│    └─Conv2d: 2-13                      [1, 256, 61, 61]          (590,080)\n",
              "│    └─ReLU: 2-14                        [1, 256, 61, 61]          --\n",
              "│    └─Conv2d: 2-15                      [1, 256, 61, 61]          (590,080)\n",
              "│    └─ReLU: 2-16                        [1, 256, 61, 61]          --\n",
              "│    └─MaxPool2d: 2-17                   [1, 256, 30, 30]          --\n",
              "│    └─Conv2d: 2-18                      [1, 512, 30, 30]          (1,180,160)\n",
              "│    └─ReLU: 2-19                        [1, 512, 30, 30]          --\n",
              "│    └─Conv2d: 2-20                      [1, 512, 30, 30]          (2,359,808)\n",
              "│    └─ReLU: 2-21                        [1, 512, 30, 30]          --\n",
              "│    └─Conv2d: 2-22                      [1, 512, 30, 30]          (2,359,808)\n",
              "│    └─ReLU: 2-23                        [1, 512, 30, 30]          --\n",
              "│    └─MaxPool2d: 2-24                   [1, 512, 15, 15]          --\n",
              "│    └─Conv2d: 2-25                      [1, 512, 15, 15]          (2,359,808)\n",
              "│    └─ReLU: 2-26                        [1, 512, 15, 15]          --\n",
              "│    └─Conv2d: 2-27                      [1, 512, 15, 15]          (2,359,808)\n",
              "│    └─ReLU: 2-28                        [1, 512, 15, 15]          --\n",
              "│    └─Conv2d: 2-29                      [1, 512, 15, 15]          (2,359,808)\n",
              "│    └─ReLU: 2-30                        [1, 512, 15, 15]          --\n",
              "│    └─MaxPool2d: 2-31                   [1, 512, 7, 7]            --\n",
              "├─AdaptiveAvgPool2d: 1-2                 [1, 512, 7, 7]            --\n",
              "├─Linear: 1-3                            [1, 2]                    50,178\n",
              "==========================================================================================\n",
              "Total params: 14,764,866\n",
              "Trainable params: 50,178\n",
              "Non-trainable params: 14,714,688\n",
              "Total mult-adds (G): 17.99\n",
              "==========================================================================================\n",
              "Input size (MB): 0.71\n",
              "Forward/backward pass size (MB): 128.13\n",
              "Params size (MB): 59.06\n",
              "Estimated Total Size (MB): 187.91\n",
              "=========================================================================================="
            ]
          },
          "metadata": {},
          "execution_count": 32
        }
      ]
    },
    {
      "cell_type": "markdown",
      "source": [
        "Since we frooze the Conv2D layers, so only 50k trainable parameters of the final classification layer"
      ],
      "metadata": {
        "id": "hJjew2dk2s8x"
      }
    },
    {
      "cell_type": "code",
      "source": [
        "trainset, testset = torch.utils.data.random_split(pet_ds,[20000,len(pet_ds)-20000])\n",
        "train_loader = torch.utils.data.DataLoader(trainset,batch_size=16)\n",
        "test_loader = torch.utils.data.DataLoader(testset,batch_size=16)\n",
        "\n",
        "train_long(vgg,train_loader,test_loader,loss_fn=torch.nn.CrossEntropyLoss(),epochs=1,print_freq=90)"
      ],
      "metadata": {
        "colab": {
          "base_uri": "https://localhost:8080/"
        },
        "id": "uVgXpPgd3P5L",
        "outputId": "78445547-0f49-4a95-b8c6-c72924777293"
      },
      "execution_count": 33,
      "outputs": [
        {
          "output_type": "stream",
          "name": "stdout",
          "text": [
            "Epoch 0, minibatch 0: train acc = 0.4375, train loss = 0.04845321178436279\n",
            "Epoch 0, minibatch 90: train acc = 0.9429945054945055, train loss = 0.14673155480688746\n",
            "Epoch 0, minibatch 180: train acc = 0.9499309392265194, train loss = 0.15474161390441557\n",
            "Epoch 0, minibatch 270: train acc = 0.9534132841328413, train loss = 0.14925119885659305\n",
            "Epoch 0, minibatch 360: train acc = 0.9584487534626038, train loss = 0.1408307506106897\n",
            "Epoch 0, minibatch 450: train acc = 0.9611973392461197, train loss = 0.13723578104158726\n",
            "Epoch 0, minibatch 540: train acc = 0.9640711645101664, train loss = 0.13443842128112002\n",
            "Epoch 0, minibatch 630: train acc = 0.965729001584786, train loss = 0.1371549675846251\n",
            "Epoch 0, minibatch 720: train acc = 0.9662794729542302, train loss = 0.14200841768770045\n",
            "Epoch 0, minibatch 810: train acc = 0.967170160295931, train loss = 0.1413975632146607\n",
            "Epoch 0, minibatch 900: train acc = 0.969062153163152, train loss = 0.13409107136276532\n",
            "Epoch 0, minibatch 990: train acc = 0.9697906155398587, train loss = 0.13736109728769866\n",
            "Epoch 0, minibatch 1080: train acc = 0.9710337650323775, train loss = 0.13322397914890002\n",
            "Epoch 0, minibatch 1170: train acc = 0.9719257045260461, train loss = 0.1348889201854051\n",
            "Epoch 0 done, validation acc = 0.978391356542617, validation loss = 0.1715047835540466\n"
          ]
        }
      ]
    },
    {
      "cell_type": "code",
      "source": [
        "torch.save(vgg,'data/cats_dogs.pth')\n",
        "#vgg = torch.load('data/catsPdogs.pth')"
      ],
      "metadata": {
        "id": "8sZ4sIOh3Y7l"
      },
      "execution_count": 34,
      "outputs": []
    },
    {
      "cell_type": "markdown",
      "source": [
        "### Fine Tuning Transfer Learning"
      ],
      "metadata": {
        "id": "ALuID-Af4qaO"
      }
    },
    {
      "cell_type": "markdown",
      "source": [
        "Unfreeze the Convolutional Layers"
      ],
      "metadata": {
        "id": "t-cbVJmR4336"
      }
    },
    {
      "cell_type": "code",
      "source": [
        "for lyr in vgg.features.parameters():\n",
        "  lyr.requires_grad=True"
      ],
      "metadata": {
        "id": "6sd5gq0b49aX"
      },
      "execution_count": 35,
      "outputs": []
    },
    {
      "cell_type": "code",
      "source": [
        "train_long(vgg,train_loader,test_loader,loss_fn=torch.nn.CrossEntropyLoss(),epochs=1,print_freq=90,lr=0.0001)"
      ],
      "metadata": {
        "colab": {
          "base_uri": "https://localhost:8080/"
        },
        "id": "oUHaiGHf5DxI",
        "outputId": "2ed202ad-dd29-4159-e243-d2292d7525c0"
      },
      "execution_count": 36,
      "outputs": [
        {
          "output_type": "stream",
          "name": "stdout",
          "text": [
            "Epoch 0, minibatch 0: train acc = 1.0, train loss = 0.0\n",
            "Epoch 0, minibatch 90: train acc = 0.9381868131868132, train loss = 0.1693342334621555\n",
            "Epoch 0, minibatch 180: train acc = 0.9437154696132597, train loss = 0.10656679269358597\n",
            "Epoch 0, minibatch 270: train acc = 0.9437269372693727, train loss = 0.07838023280745503\n",
            "Epoch 0, minibatch 360: train acc = 0.942174515235457, train loss = 0.06346592678587852\n",
            "Epoch 0, minibatch 450: train acc = 0.9480321507760532, train loss = 0.052067538851380615\n",
            "Epoch 0, minibatch 540: train acc = 0.9505545286506469, train loss = 0.045300644118331936\n",
            "Epoch 0, minibatch 630: train acc = 0.9500792393026941, train loss = 0.040323420674222774\n",
            "Epoch 0, minibatch 720: train acc = 0.9523231622746186, train loss = 0.036432181581875486\n",
            "Epoch 0, minibatch 810: train acc = 0.9534525277435265, train loss = 0.033279287241831074\n",
            "Epoch 0, minibatch 900: train acc = 0.9551886792452831, train loss = 0.030462887390339942\n",
            "Epoch 0, minibatch 990: train acc = 0.9567356205852674, train loss = 0.0281280494482077\n",
            "Epoch 0, minibatch 1080: train acc = 0.9586609620721555, train loss = 0.02625317710290674\n",
            "Epoch 0, minibatch 1170: train acc = 0.9579953031596926, train loss = 0.0249448364153568\n",
            "Epoch 0 done, validation acc = 0.95578231292517, validation loss = 0.006384195447588215\n"
          ]
        }
      ]
    },
    {
      "cell_type": "markdown",
      "source": [
        "### MobileNet - Light weight networks"
      ],
      "metadata": {
        "id": "SyEkLLvF6vjd"
      }
    },
    {
      "cell_type": "code",
      "source": [
        "model = torch.hub.load('pytorch/vision:v0.13.0', 'mobilenet_v2', weights='MobileNet_V2_Weights.DEFAULT')\n",
        "model.eval()\n",
        "print(model)"
      ],
      "metadata": {
        "colab": {
          "base_uri": "https://localhost:8080/"
        },
        "id": "VqSCybRB60Ey",
        "outputId": "4d469d69-995d-4912-bce8-494578d324d6"
      },
      "execution_count": 37,
      "outputs": [
        {
          "output_type": "stream",
          "name": "stderr",
          "text": [
            "Downloading: \"https://github.com/pytorch/vision/zipball/v0.13.0\" to /root/.cache/torch/hub/v0.13.0.zip\n",
            "Downloading: \"https://download.pytorch.org/models/mobilenet_v2-7ebf99e0.pth\" to /root/.cache/torch/hub/checkpoints/mobilenet_v2-7ebf99e0.pth\n",
            "100%|██████████| 13.6M/13.6M [00:00<00:00, 35.7MB/s]\n"
          ]
        },
        {
          "output_type": "stream",
          "name": "stdout",
          "text": [
            "MobileNetV2(\n",
            "  (features): Sequential(\n",
            "    (0): Conv2dNormActivation(\n",
            "      (0): Conv2d(3, 32, kernel_size=(3, 3), stride=(2, 2), padding=(1, 1), bias=False)\n",
            "      (1): BatchNorm2d(32, eps=1e-05, momentum=0.1, affine=True, track_running_stats=True)\n",
            "      (2): ReLU6(inplace=True)\n",
            "    )\n",
            "    (1): InvertedResidual(\n",
            "      (conv): Sequential(\n",
            "        (0): Conv2dNormActivation(\n",
            "          (0): Conv2d(32, 32, kernel_size=(3, 3), stride=(1, 1), padding=(1, 1), groups=32, bias=False)\n",
            "          (1): BatchNorm2d(32, eps=1e-05, momentum=0.1, affine=True, track_running_stats=True)\n",
            "          (2): ReLU6(inplace=True)\n",
            "        )\n",
            "        (1): Conv2d(32, 16, kernel_size=(1, 1), stride=(1, 1), bias=False)\n",
            "        (2): BatchNorm2d(16, eps=1e-05, momentum=0.1, affine=True, track_running_stats=True)\n",
            "      )\n",
            "    )\n",
            "    (2): InvertedResidual(\n",
            "      (conv): Sequential(\n",
            "        (0): Conv2dNormActivation(\n",
            "          (0): Conv2d(16, 96, kernel_size=(1, 1), stride=(1, 1), bias=False)\n",
            "          (1): BatchNorm2d(96, eps=1e-05, momentum=0.1, affine=True, track_running_stats=True)\n",
            "          (2): ReLU6(inplace=True)\n",
            "        )\n",
            "        (1): Conv2dNormActivation(\n",
            "          (0): Conv2d(96, 96, kernel_size=(3, 3), stride=(2, 2), padding=(1, 1), groups=96, bias=False)\n",
            "          (1): BatchNorm2d(96, eps=1e-05, momentum=0.1, affine=True, track_running_stats=True)\n",
            "          (2): ReLU6(inplace=True)\n",
            "        )\n",
            "        (2): Conv2d(96, 24, kernel_size=(1, 1), stride=(1, 1), bias=False)\n",
            "        (3): BatchNorm2d(24, eps=1e-05, momentum=0.1, affine=True, track_running_stats=True)\n",
            "      )\n",
            "    )\n",
            "    (3): InvertedResidual(\n",
            "      (conv): Sequential(\n",
            "        (0): Conv2dNormActivation(\n",
            "          (0): Conv2d(24, 144, kernel_size=(1, 1), stride=(1, 1), bias=False)\n",
            "          (1): BatchNorm2d(144, eps=1e-05, momentum=0.1, affine=True, track_running_stats=True)\n",
            "          (2): ReLU6(inplace=True)\n",
            "        )\n",
            "        (1): Conv2dNormActivation(\n",
            "          (0): Conv2d(144, 144, kernel_size=(3, 3), stride=(1, 1), padding=(1, 1), groups=144, bias=False)\n",
            "          (1): BatchNorm2d(144, eps=1e-05, momentum=0.1, affine=True, track_running_stats=True)\n",
            "          (2): ReLU6(inplace=True)\n",
            "        )\n",
            "        (2): Conv2d(144, 24, kernel_size=(1, 1), stride=(1, 1), bias=False)\n",
            "        (3): BatchNorm2d(24, eps=1e-05, momentum=0.1, affine=True, track_running_stats=True)\n",
            "      )\n",
            "    )\n",
            "    (4): InvertedResidual(\n",
            "      (conv): Sequential(\n",
            "        (0): Conv2dNormActivation(\n",
            "          (0): Conv2d(24, 144, kernel_size=(1, 1), stride=(1, 1), bias=False)\n",
            "          (1): BatchNorm2d(144, eps=1e-05, momentum=0.1, affine=True, track_running_stats=True)\n",
            "          (2): ReLU6(inplace=True)\n",
            "        )\n",
            "        (1): Conv2dNormActivation(\n",
            "          (0): Conv2d(144, 144, kernel_size=(3, 3), stride=(2, 2), padding=(1, 1), groups=144, bias=False)\n",
            "          (1): BatchNorm2d(144, eps=1e-05, momentum=0.1, affine=True, track_running_stats=True)\n",
            "          (2): ReLU6(inplace=True)\n",
            "        )\n",
            "        (2): Conv2d(144, 32, kernel_size=(1, 1), stride=(1, 1), bias=False)\n",
            "        (3): BatchNorm2d(32, eps=1e-05, momentum=0.1, affine=True, track_running_stats=True)\n",
            "      )\n",
            "    )\n",
            "    (5): InvertedResidual(\n",
            "      (conv): Sequential(\n",
            "        (0): Conv2dNormActivation(\n",
            "          (0): Conv2d(32, 192, kernel_size=(1, 1), stride=(1, 1), bias=False)\n",
            "          (1): BatchNorm2d(192, eps=1e-05, momentum=0.1, affine=True, track_running_stats=True)\n",
            "          (2): ReLU6(inplace=True)\n",
            "        )\n",
            "        (1): Conv2dNormActivation(\n",
            "          (0): Conv2d(192, 192, kernel_size=(3, 3), stride=(1, 1), padding=(1, 1), groups=192, bias=False)\n",
            "          (1): BatchNorm2d(192, eps=1e-05, momentum=0.1, affine=True, track_running_stats=True)\n",
            "          (2): ReLU6(inplace=True)\n",
            "        )\n",
            "        (2): Conv2d(192, 32, kernel_size=(1, 1), stride=(1, 1), bias=False)\n",
            "        (3): BatchNorm2d(32, eps=1e-05, momentum=0.1, affine=True, track_running_stats=True)\n",
            "      )\n",
            "    )\n",
            "    (6): InvertedResidual(\n",
            "      (conv): Sequential(\n",
            "        (0): Conv2dNormActivation(\n",
            "          (0): Conv2d(32, 192, kernel_size=(1, 1), stride=(1, 1), bias=False)\n",
            "          (1): BatchNorm2d(192, eps=1e-05, momentum=0.1, affine=True, track_running_stats=True)\n",
            "          (2): ReLU6(inplace=True)\n",
            "        )\n",
            "        (1): Conv2dNormActivation(\n",
            "          (0): Conv2d(192, 192, kernel_size=(3, 3), stride=(1, 1), padding=(1, 1), groups=192, bias=False)\n",
            "          (1): BatchNorm2d(192, eps=1e-05, momentum=0.1, affine=True, track_running_stats=True)\n",
            "          (2): ReLU6(inplace=True)\n",
            "        )\n",
            "        (2): Conv2d(192, 32, kernel_size=(1, 1), stride=(1, 1), bias=False)\n",
            "        (3): BatchNorm2d(32, eps=1e-05, momentum=0.1, affine=True, track_running_stats=True)\n",
            "      )\n",
            "    )\n",
            "    (7): InvertedResidual(\n",
            "      (conv): Sequential(\n",
            "        (0): Conv2dNormActivation(\n",
            "          (0): Conv2d(32, 192, kernel_size=(1, 1), stride=(1, 1), bias=False)\n",
            "          (1): BatchNorm2d(192, eps=1e-05, momentum=0.1, affine=True, track_running_stats=True)\n",
            "          (2): ReLU6(inplace=True)\n",
            "        )\n",
            "        (1): Conv2dNormActivation(\n",
            "          (0): Conv2d(192, 192, kernel_size=(3, 3), stride=(2, 2), padding=(1, 1), groups=192, bias=False)\n",
            "          (1): BatchNorm2d(192, eps=1e-05, momentum=0.1, affine=True, track_running_stats=True)\n",
            "          (2): ReLU6(inplace=True)\n",
            "        )\n",
            "        (2): Conv2d(192, 64, kernel_size=(1, 1), stride=(1, 1), bias=False)\n",
            "        (3): BatchNorm2d(64, eps=1e-05, momentum=0.1, affine=True, track_running_stats=True)\n",
            "      )\n",
            "    )\n",
            "    (8): InvertedResidual(\n",
            "      (conv): Sequential(\n",
            "        (0): Conv2dNormActivation(\n",
            "          (0): Conv2d(64, 384, kernel_size=(1, 1), stride=(1, 1), bias=False)\n",
            "          (1): BatchNorm2d(384, eps=1e-05, momentum=0.1, affine=True, track_running_stats=True)\n",
            "          (2): ReLU6(inplace=True)\n",
            "        )\n",
            "        (1): Conv2dNormActivation(\n",
            "          (0): Conv2d(384, 384, kernel_size=(3, 3), stride=(1, 1), padding=(1, 1), groups=384, bias=False)\n",
            "          (1): BatchNorm2d(384, eps=1e-05, momentum=0.1, affine=True, track_running_stats=True)\n",
            "          (2): ReLU6(inplace=True)\n",
            "        )\n",
            "        (2): Conv2d(384, 64, kernel_size=(1, 1), stride=(1, 1), bias=False)\n",
            "        (3): BatchNorm2d(64, eps=1e-05, momentum=0.1, affine=True, track_running_stats=True)\n",
            "      )\n",
            "    )\n",
            "    (9): InvertedResidual(\n",
            "      (conv): Sequential(\n",
            "        (0): Conv2dNormActivation(\n",
            "          (0): Conv2d(64, 384, kernel_size=(1, 1), stride=(1, 1), bias=False)\n",
            "          (1): BatchNorm2d(384, eps=1e-05, momentum=0.1, affine=True, track_running_stats=True)\n",
            "          (2): ReLU6(inplace=True)\n",
            "        )\n",
            "        (1): Conv2dNormActivation(\n",
            "          (0): Conv2d(384, 384, kernel_size=(3, 3), stride=(1, 1), padding=(1, 1), groups=384, bias=False)\n",
            "          (1): BatchNorm2d(384, eps=1e-05, momentum=0.1, affine=True, track_running_stats=True)\n",
            "          (2): ReLU6(inplace=True)\n",
            "        )\n",
            "        (2): Conv2d(384, 64, kernel_size=(1, 1), stride=(1, 1), bias=False)\n",
            "        (3): BatchNorm2d(64, eps=1e-05, momentum=0.1, affine=True, track_running_stats=True)\n",
            "      )\n",
            "    )\n",
            "    (10): InvertedResidual(\n",
            "      (conv): Sequential(\n",
            "        (0): Conv2dNormActivation(\n",
            "          (0): Conv2d(64, 384, kernel_size=(1, 1), stride=(1, 1), bias=False)\n",
            "          (1): BatchNorm2d(384, eps=1e-05, momentum=0.1, affine=True, track_running_stats=True)\n",
            "          (2): ReLU6(inplace=True)\n",
            "        )\n",
            "        (1): Conv2dNormActivation(\n",
            "          (0): Conv2d(384, 384, kernel_size=(3, 3), stride=(1, 1), padding=(1, 1), groups=384, bias=False)\n",
            "          (1): BatchNorm2d(384, eps=1e-05, momentum=0.1, affine=True, track_running_stats=True)\n",
            "          (2): ReLU6(inplace=True)\n",
            "        )\n",
            "        (2): Conv2d(384, 64, kernel_size=(1, 1), stride=(1, 1), bias=False)\n",
            "        (3): BatchNorm2d(64, eps=1e-05, momentum=0.1, affine=True, track_running_stats=True)\n",
            "      )\n",
            "    )\n",
            "    (11): InvertedResidual(\n",
            "      (conv): Sequential(\n",
            "        (0): Conv2dNormActivation(\n",
            "          (0): Conv2d(64, 384, kernel_size=(1, 1), stride=(1, 1), bias=False)\n",
            "          (1): BatchNorm2d(384, eps=1e-05, momentum=0.1, affine=True, track_running_stats=True)\n",
            "          (2): ReLU6(inplace=True)\n",
            "        )\n",
            "        (1): Conv2dNormActivation(\n",
            "          (0): Conv2d(384, 384, kernel_size=(3, 3), stride=(1, 1), padding=(1, 1), groups=384, bias=False)\n",
            "          (1): BatchNorm2d(384, eps=1e-05, momentum=0.1, affine=True, track_running_stats=True)\n",
            "          (2): ReLU6(inplace=True)\n",
            "        )\n",
            "        (2): Conv2d(384, 96, kernel_size=(1, 1), stride=(1, 1), bias=False)\n",
            "        (3): BatchNorm2d(96, eps=1e-05, momentum=0.1, affine=True, track_running_stats=True)\n",
            "      )\n",
            "    )\n",
            "    (12): InvertedResidual(\n",
            "      (conv): Sequential(\n",
            "        (0): Conv2dNormActivation(\n",
            "          (0): Conv2d(96, 576, kernel_size=(1, 1), stride=(1, 1), bias=False)\n",
            "          (1): BatchNorm2d(576, eps=1e-05, momentum=0.1, affine=True, track_running_stats=True)\n",
            "          (2): ReLU6(inplace=True)\n",
            "        )\n",
            "        (1): Conv2dNormActivation(\n",
            "          (0): Conv2d(576, 576, kernel_size=(3, 3), stride=(1, 1), padding=(1, 1), groups=576, bias=False)\n",
            "          (1): BatchNorm2d(576, eps=1e-05, momentum=0.1, affine=True, track_running_stats=True)\n",
            "          (2): ReLU6(inplace=True)\n",
            "        )\n",
            "        (2): Conv2d(576, 96, kernel_size=(1, 1), stride=(1, 1), bias=False)\n",
            "        (3): BatchNorm2d(96, eps=1e-05, momentum=0.1, affine=True, track_running_stats=True)\n",
            "      )\n",
            "    )\n",
            "    (13): InvertedResidual(\n",
            "      (conv): Sequential(\n",
            "        (0): Conv2dNormActivation(\n",
            "          (0): Conv2d(96, 576, kernel_size=(1, 1), stride=(1, 1), bias=False)\n",
            "          (1): BatchNorm2d(576, eps=1e-05, momentum=0.1, affine=True, track_running_stats=True)\n",
            "          (2): ReLU6(inplace=True)\n",
            "        )\n",
            "        (1): Conv2dNormActivation(\n",
            "          (0): Conv2d(576, 576, kernel_size=(3, 3), stride=(1, 1), padding=(1, 1), groups=576, bias=False)\n",
            "          (1): BatchNorm2d(576, eps=1e-05, momentum=0.1, affine=True, track_running_stats=True)\n",
            "          (2): ReLU6(inplace=True)\n",
            "        )\n",
            "        (2): Conv2d(576, 96, kernel_size=(1, 1), stride=(1, 1), bias=False)\n",
            "        (3): BatchNorm2d(96, eps=1e-05, momentum=0.1, affine=True, track_running_stats=True)\n",
            "      )\n",
            "    )\n",
            "    (14): InvertedResidual(\n",
            "      (conv): Sequential(\n",
            "        (0): Conv2dNormActivation(\n",
            "          (0): Conv2d(96, 576, kernel_size=(1, 1), stride=(1, 1), bias=False)\n",
            "          (1): BatchNorm2d(576, eps=1e-05, momentum=0.1, affine=True, track_running_stats=True)\n",
            "          (2): ReLU6(inplace=True)\n",
            "        )\n",
            "        (1): Conv2dNormActivation(\n",
            "          (0): Conv2d(576, 576, kernel_size=(3, 3), stride=(2, 2), padding=(1, 1), groups=576, bias=False)\n",
            "          (1): BatchNorm2d(576, eps=1e-05, momentum=0.1, affine=True, track_running_stats=True)\n",
            "          (2): ReLU6(inplace=True)\n",
            "        )\n",
            "        (2): Conv2d(576, 160, kernel_size=(1, 1), stride=(1, 1), bias=False)\n",
            "        (3): BatchNorm2d(160, eps=1e-05, momentum=0.1, affine=True, track_running_stats=True)\n",
            "      )\n",
            "    )\n",
            "    (15): InvertedResidual(\n",
            "      (conv): Sequential(\n",
            "        (0): Conv2dNormActivation(\n",
            "          (0): Conv2d(160, 960, kernel_size=(1, 1), stride=(1, 1), bias=False)\n",
            "          (1): BatchNorm2d(960, eps=1e-05, momentum=0.1, affine=True, track_running_stats=True)\n",
            "          (2): ReLU6(inplace=True)\n",
            "        )\n",
            "        (1): Conv2dNormActivation(\n",
            "          (0): Conv2d(960, 960, kernel_size=(3, 3), stride=(1, 1), padding=(1, 1), groups=960, bias=False)\n",
            "          (1): BatchNorm2d(960, eps=1e-05, momentum=0.1, affine=True, track_running_stats=True)\n",
            "          (2): ReLU6(inplace=True)\n",
            "        )\n",
            "        (2): Conv2d(960, 160, kernel_size=(1, 1), stride=(1, 1), bias=False)\n",
            "        (3): BatchNorm2d(160, eps=1e-05, momentum=0.1, affine=True, track_running_stats=True)\n",
            "      )\n",
            "    )\n",
            "    (16): InvertedResidual(\n",
            "      (conv): Sequential(\n",
            "        (0): Conv2dNormActivation(\n",
            "          (0): Conv2d(160, 960, kernel_size=(1, 1), stride=(1, 1), bias=False)\n",
            "          (1): BatchNorm2d(960, eps=1e-05, momentum=0.1, affine=True, track_running_stats=True)\n",
            "          (2): ReLU6(inplace=True)\n",
            "        )\n",
            "        (1): Conv2dNormActivation(\n",
            "          (0): Conv2d(960, 960, kernel_size=(3, 3), stride=(1, 1), padding=(1, 1), groups=960, bias=False)\n",
            "          (1): BatchNorm2d(960, eps=1e-05, momentum=0.1, affine=True, track_running_stats=True)\n",
            "          (2): ReLU6(inplace=True)\n",
            "        )\n",
            "        (2): Conv2d(960, 160, kernel_size=(1, 1), stride=(1, 1), bias=False)\n",
            "        (3): BatchNorm2d(160, eps=1e-05, momentum=0.1, affine=True, track_running_stats=True)\n",
            "      )\n",
            "    )\n",
            "    (17): InvertedResidual(\n",
            "      (conv): Sequential(\n",
            "        (0): Conv2dNormActivation(\n",
            "          (0): Conv2d(160, 960, kernel_size=(1, 1), stride=(1, 1), bias=False)\n",
            "          (1): BatchNorm2d(960, eps=1e-05, momentum=0.1, affine=True, track_running_stats=True)\n",
            "          (2): ReLU6(inplace=True)\n",
            "        )\n",
            "        (1): Conv2dNormActivation(\n",
            "          (0): Conv2d(960, 960, kernel_size=(3, 3), stride=(1, 1), padding=(1, 1), groups=960, bias=False)\n",
            "          (1): BatchNorm2d(960, eps=1e-05, momentum=0.1, affine=True, track_running_stats=True)\n",
            "          (2): ReLU6(inplace=True)\n",
            "        )\n",
            "        (2): Conv2d(960, 320, kernel_size=(1, 1), stride=(1, 1), bias=False)\n",
            "        (3): BatchNorm2d(320, eps=1e-05, momentum=0.1, affine=True, track_running_stats=True)\n",
            "      )\n",
            "    )\n",
            "    (18): Conv2dNormActivation(\n",
            "      (0): Conv2d(320, 1280, kernel_size=(1, 1), stride=(1, 1), bias=False)\n",
            "      (1): BatchNorm2d(1280, eps=1e-05, momentum=0.1, affine=True, track_running_stats=True)\n",
            "      (2): ReLU6(inplace=True)\n",
            "    )\n",
            "  )\n",
            "  (classifier): Sequential(\n",
            "    (0): Dropout(p=0.2, inplace=False)\n",
            "    (1): Linear(in_features=1280, out_features=1000, bias=True)\n",
            "  )\n",
            ")\n"
          ]
        }
      ]
    },
    {
      "cell_type": "markdown",
      "source": [
        "ImageNet - Classes\n",
        "https://gist.github.com/yrevar/942d3a0ac09ec9e5eb3a"
      ],
      "metadata": {
        "id": "_lRiVbap7t5q"
      }
    },
    {
      "cell_type": "code",
      "source": [
        "sample_image = pet_ds[0][0].unsqueeze(0)\n",
        "res = model(sample_image)\n",
        "print(res[0].argmax())"
      ],
      "metadata": {
        "colab": {
          "base_uri": "https://localhost:8080/"
        },
        "id": "07Ot-9dv5OFE",
        "outputId": "dca7751c-54f2-48c3-e1cb-5faaa6dcd08e"
      },
      "execution_count": 38,
      "outputs": [
        {
          "output_type": "stream",
          "name": "stdout",
          "text": [
            "tensor(186)\n"
          ]
        }
      ]
    },
    {
      "cell_type": "markdown",
      "source": [
        "### Transfer Learning with MobileNet"
      ],
      "metadata": {
        "id": "EZ_PySCd755h"
      }
    },
    {
      "cell_type": "markdown",
      "source": [
        "Freeze the parameters"
      ],
      "metadata": {
        "id": "2maXrw8t8Jh3"
      }
    },
    {
      "cell_type": "code",
      "source": [
        "for lyr in model.parameters():\n",
        "  lyr.requires_grad=False"
      ],
      "metadata": {
        "id": "sDS3lRBD795E"
      },
      "execution_count": 39,
      "outputs": []
    },
    {
      "cell_type": "markdown",
      "source": [
        "Update the final classifier to classifier two classes"
      ],
      "metadata": {
        "id": "ES04Dg578Ia-"
      }
    },
    {
      "cell_type": "code",
      "source": [
        "model.classifier = nn.Linear(1280,2)\n",
        "model = model.to(default_device)\n",
        "summary(model,input_size=(1,3,244,244))"
      ],
      "metadata": {
        "colab": {
          "base_uri": "https://localhost:8080/"
        },
        "id": "T7UgQDVA8EHd",
        "outputId": "e57645e2-407b-4c8a-c085-4258c812b9b6"
      },
      "execution_count": 40,
      "outputs": [
        {
          "output_type": "execute_result",
          "data": {
            "text/plain": [
              "====================================================================================================\n",
              "Layer (type:depth-idx)                             Output Shape              Param #\n",
              "====================================================================================================\n",
              "MobileNetV2                                        [1, 2]                    --\n",
              "├─Sequential: 1-1                                  [1, 1280, 8, 8]           --\n",
              "│    └─Conv2dNormActivation: 2-1                   [1, 32, 122, 122]         --\n",
              "│    │    └─Conv2d: 3-1                            [1, 32, 122, 122]         (864)\n",
              "│    │    └─BatchNorm2d: 3-2                       [1, 32, 122, 122]         (64)\n",
              "│    │    └─ReLU6: 3-3                             [1, 32, 122, 122]         --\n",
              "│    └─InvertedResidual: 2-2                       [1, 16, 122, 122]         --\n",
              "│    │    └─Sequential: 3-4                        [1, 16, 122, 122]         (896)\n",
              "│    └─InvertedResidual: 2-3                       [1, 24, 61, 61]           --\n",
              "│    │    └─Sequential: 3-5                        [1, 24, 61, 61]           (5,136)\n",
              "│    └─InvertedResidual: 2-4                       [1, 24, 61, 61]           --\n",
              "│    │    └─Sequential: 3-6                        [1, 24, 61, 61]           (8,832)\n",
              "│    └─InvertedResidual: 2-5                       [1, 32, 31, 31]           --\n",
              "│    │    └─Sequential: 3-7                        [1, 32, 31, 31]           (10,000)\n",
              "│    └─InvertedResidual: 2-6                       [1, 32, 31, 31]           --\n",
              "│    │    └─Sequential: 3-8                        [1, 32, 31, 31]           (14,848)\n",
              "│    └─InvertedResidual: 2-7                       [1, 32, 31, 31]           --\n",
              "│    │    └─Sequential: 3-9                        [1, 32, 31, 31]           (14,848)\n",
              "│    └─InvertedResidual: 2-8                       [1, 64, 16, 16]           --\n",
              "│    │    └─Sequential: 3-10                       [1, 64, 16, 16]           (21,056)\n",
              "│    └─InvertedResidual: 2-9                       [1, 64, 16, 16]           --\n",
              "│    │    └─Sequential: 3-11                       [1, 64, 16, 16]           (54,272)\n",
              "│    └─InvertedResidual: 2-10                      [1, 64, 16, 16]           --\n",
              "│    │    └─Sequential: 3-12                       [1, 64, 16, 16]           (54,272)\n",
              "│    └─InvertedResidual: 2-11                      [1, 64, 16, 16]           --\n",
              "│    │    └─Sequential: 3-13                       [1, 64, 16, 16]           (54,272)\n",
              "│    └─InvertedResidual: 2-12                      [1, 96, 16, 16]           --\n",
              "│    │    └─Sequential: 3-14                       [1, 96, 16, 16]           (66,624)\n",
              "│    └─InvertedResidual: 2-13                      [1, 96, 16, 16]           --\n",
              "│    │    └─Sequential: 3-15                       [1, 96, 16, 16]           (118,272)\n",
              "│    └─InvertedResidual: 2-14                      [1, 96, 16, 16]           --\n",
              "│    │    └─Sequential: 3-16                       [1, 96, 16, 16]           (118,272)\n",
              "│    └─InvertedResidual: 2-15                      [1, 160, 8, 8]            --\n",
              "│    │    └─Sequential: 3-17                       [1, 160, 8, 8]            (155,264)\n",
              "│    └─InvertedResidual: 2-16                      [1, 160, 8, 8]            --\n",
              "│    │    └─Sequential: 3-18                       [1, 160, 8, 8]            (320,000)\n",
              "│    └─InvertedResidual: 2-17                      [1, 160, 8, 8]            --\n",
              "│    │    └─Sequential: 3-19                       [1, 160, 8, 8]            (320,000)\n",
              "│    └─InvertedResidual: 2-18                      [1, 320, 8, 8]            --\n",
              "│    │    └─Sequential: 3-20                       [1, 320, 8, 8]            (473,920)\n",
              "│    └─Conv2dNormActivation: 2-19                  [1, 1280, 8, 8]           --\n",
              "│    │    └─Conv2d: 3-21                           [1, 1280, 8, 8]           (409,600)\n",
              "│    │    └─BatchNorm2d: 3-22                      [1, 1280, 8, 8]           (2,560)\n",
              "│    │    └─ReLU6: 3-23                            [1, 1280, 8, 8]           --\n",
              "├─Linear: 1-2                                      [1, 2]                    2,562\n",
              "====================================================================================================\n",
              "Total params: 2,226,434\n",
              "Trainable params: 2,562\n",
              "Non-trainable params: 2,223,872\n",
              "Total mult-adds (M): 378.33\n",
              "====================================================================================================\n",
              "Input size (MB): 0.71\n",
              "Forward/backward pass size (MB): 130.67\n",
              "Params size (MB): 8.91\n",
              "Estimated Total Size (MB): 140.29\n",
              "===================================================================================================="
            ]
          },
          "metadata": {},
          "execution_count": 40
        }
      ]
    },
    {
      "cell_type": "code",
      "source": [
        "train_long(model,train_loader,test_loader,loss_fn=torch.nn.CrossEntropyLoss(),epochs=1,print_freq=90)"
      ],
      "metadata": {
        "colab": {
          "base_uri": "https://localhost:8080/"
        },
        "id": "Lwpwdni_4vRY",
        "outputId": "3f04c2cd-c9a8-4c31-93ce-fd8abbaadc5a"
      },
      "execution_count": 41,
      "outputs": [
        {
          "output_type": "stream",
          "name": "stdout",
          "text": [
            "Epoch 0, minibatch 0: train acc = 0.3125, train loss = 0.04580100625753403\n",
            "Epoch 0, minibatch 90: train acc = 0.8646978021978022, train loss = 0.017976369176592146\n",
            "Epoch 0, minibatch 180: train acc = 0.8801795580110497, train loss = 0.018479156230694682\n",
            "Epoch 0, minibatch 270: train acc = 0.8916051660516605, train loss = 0.01760490706046129\n",
            "Epoch 0, minibatch 360: train acc = 0.9001038781163435, train loss = 0.01729820837934922\n",
            "Epoch 0, minibatch 450: train acc = 0.9101995565410199, train loss = 0.015781654222577216\n",
            "Epoch 0, minibatch 540: train acc = 0.9126617375231053, train loss = 0.015368726028752635\n",
            "Epoch 0, minibatch 630: train acc = 0.9139263074484945, train loss = 0.015449029707870847\n",
            "Epoch 0, minibatch 720: train acc = 0.9164355062413315, train loss = 0.01511265203129402\n",
            "Epoch 0, minibatch 810: train acc = 0.9184648581997534, train loss = 0.014826938050595812\n",
            "Epoch 0, minibatch 900: train acc = 0.9205049944506104, train loss = 0.014419878494990917\n",
            "Epoch 0, minibatch 990: train acc = 0.92255297679112, train loss = 0.014144828172793422\n",
            "Epoch 0, minibatch 1080: train acc = 0.9239708603145236, train loss = 0.013963372921304059\n",
            "Epoch 0, minibatch 1170: train acc = 0.9251174210076858, train loss = 0.014004706522015605\n",
            "Epoch 0 done, validation acc = 0.938375350140056, validation loss = 0.012052732164643202\n"
          ]
        }
      ]
    },
    {
      "cell_type": "code",
      "source": [
        "sample_image = pet_ds[0][0].unsqueeze(0).to(default_device)\n",
        "res = model(sample_image)\n",
        "print(res[0].argmax())"
      ],
      "metadata": {
        "colab": {
          "base_uri": "https://localhost:8080/"
        },
        "id": "TmRw9I5x4Ahp",
        "outputId": "98187a22-959d-4577-933f-24c9965e5821"
      },
      "execution_count": 44,
      "outputs": [
        {
          "output_type": "stream",
          "name": "stdout",
          "text": [
            "tensor(0, device='cuda:0')\n"
          ]
        }
      ]
    },
    {
      "cell_type": "code",
      "source": [],
      "metadata": {
        "id": "v2ztORUP3Voe"
      },
      "execution_count": 41,
      "outputs": []
    },
    {
      "cell_type": "code",
      "source": [],
      "metadata": {
        "id": "-R6MN9Y13Nmv"
      },
      "execution_count": 41,
      "outputs": []
    },
    {
      "cell_type": "code",
      "source": [],
      "metadata": {
        "id": "0Ig3DueY2jMQ"
      },
      "execution_count": 41,
      "outputs": []
    },
    {
      "cell_type": "code",
      "source": [],
      "metadata": {
        "id": "Xkn2w2nW2hdi"
      },
      "execution_count": 41,
      "outputs": []
    },
    {
      "cell_type": "code",
      "source": [],
      "metadata": {
        "id": "UkGC2pC92VNV"
      },
      "execution_count": 41,
      "outputs": []
    },
    {
      "cell_type": "code",
      "source": [],
      "metadata": {
        "id": "7TElwTXV1kti"
      },
      "execution_count": 41,
      "outputs": []
    },
    {
      "cell_type": "code",
      "source": [],
      "metadata": {
        "id": "wYBY5ThntfgM"
      },
      "execution_count": 41,
      "outputs": []
    },
    {
      "cell_type": "code",
      "source": [],
      "metadata": {
        "id": "s_FXTMKMrePA"
      },
      "execution_count": 41,
      "outputs": []
    },
    {
      "cell_type": "code",
      "source": [],
      "metadata": {
        "id": "Umnr3gTop_dJ"
      },
      "execution_count": 41,
      "outputs": []
    },
    {
      "cell_type": "code",
      "source": [],
      "metadata": {
        "id": "jvCt100fp_kG"
      },
      "execution_count": 41,
      "outputs": []
    },
    {
      "cell_type": "code",
      "source": [],
      "metadata": {
        "id": "PAvG6Mb8p_pG"
      },
      "execution_count": 41,
      "outputs": []
    },
    {
      "cell_type": "code",
      "source": [],
      "metadata": {
        "id": "1LSY3H9Ep_sS"
      },
      "execution_count": 41,
      "outputs": []
    },
    {
      "cell_type": "code",
      "source": [],
      "metadata": {
        "id": "s-XdazRgp_u1"
      },
      "execution_count": 41,
      "outputs": []
    }
  ]
}