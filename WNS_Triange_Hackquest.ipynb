{
  "nbformat": 4,
  "nbformat_minor": 0,
  "metadata": {
    "colab": {
      "provenance": [],
      "gpuType": "T4",
      "authorship_tag": "ABX9TyO+0zEsMB1enuD9Oni8XRif",
      "include_colab_link": true
    },
    "kernelspec": {
      "name": "python3",
      "display_name": "Python 3"
    },
    "language_info": {
      "name": "python"
    },
    "accelerator": "GPU"
  },
  "cells": [
    {
      "cell_type": "markdown",
      "metadata": {
        "id": "view-in-github",
        "colab_type": "text"
      },
      "source": [
        "<a href=\"https://colab.research.google.com/github/lokeshcv/ComputerVisionDeepLearning/blob/main/WNS_Triange_Hackquest.ipynb\" target=\"_parent\"><img src=\"https://colab.research.google.com/assets/colab-badge.svg\" alt=\"Open In Colab\"/></a>"
      ]
    },
    {
      "cell_type": "code",
      "execution_count": null,
      "metadata": {
        "colab": {
          "base_uri": "https://localhost:8080/"
        },
        "id": "wAp7woHvrYLO",
        "outputId": "56089a77-afe6-4d05-b4c7-3a74bb5186e9"
      },
      "outputs": [
        {
          "output_type": "stream",
          "name": "stdout",
          "text": [
            "Requirement already satisfied: torch in /usr/local/lib/python3.10/dist-packages (2.1.0+cu121)\n",
            "Requirement already satisfied: torchvision in /usr/local/lib/python3.10/dist-packages (0.16.0+cu121)\n",
            "Requirement already satisfied: matplotlib in /usr/local/lib/python3.10/dist-packages (3.7.1)\n",
            "Requirement already satisfied: scikit-learn in /usr/local/lib/python3.10/dist-packages (1.2.2)\n",
            "Requirement already satisfied: filelock in /usr/local/lib/python3.10/dist-packages (from torch) (3.13.1)\n",
            "Requirement already satisfied: typing-extensions in /usr/local/lib/python3.10/dist-packages (from torch) (4.5.0)\n",
            "Requirement already satisfied: sympy in /usr/local/lib/python3.10/dist-packages (from torch) (1.12)\n",
            "Requirement already satisfied: networkx in /usr/local/lib/python3.10/dist-packages (from torch) (3.2.1)\n",
            "Requirement already satisfied: jinja2 in /usr/local/lib/python3.10/dist-packages (from torch) (3.1.3)\n",
            "Requirement already satisfied: fsspec in /usr/local/lib/python3.10/dist-packages (from torch) (2023.6.0)\n",
            "Requirement already satisfied: triton==2.1.0 in /usr/local/lib/python3.10/dist-packages (from torch) (2.1.0)\n",
            "Requirement already satisfied: numpy in /usr/local/lib/python3.10/dist-packages (from torchvision) (1.23.5)\n",
            "Requirement already satisfied: requests in /usr/local/lib/python3.10/dist-packages (from torchvision) (2.31.0)\n",
            "Requirement already satisfied: pillow!=8.3.*,>=5.3.0 in /usr/local/lib/python3.10/dist-packages (from torchvision) (9.4.0)\n",
            "Requirement already satisfied: contourpy>=1.0.1 in /usr/local/lib/python3.10/dist-packages (from matplotlib) (1.2.0)\n",
            "Requirement already satisfied: cycler>=0.10 in /usr/local/lib/python3.10/dist-packages (from matplotlib) (0.12.1)\n",
            "Requirement already satisfied: fonttools>=4.22.0 in /usr/local/lib/python3.10/dist-packages (from matplotlib) (4.47.2)\n",
            "Requirement already satisfied: kiwisolver>=1.0.1 in /usr/local/lib/python3.10/dist-packages (from matplotlib) (1.4.5)\n",
            "Requirement already satisfied: packaging>=20.0 in /usr/local/lib/python3.10/dist-packages (from matplotlib) (23.2)\n",
            "Requirement already satisfied: pyparsing>=2.3.1 in /usr/local/lib/python3.10/dist-packages (from matplotlib) (3.1.1)\n",
            "Requirement already satisfied: python-dateutil>=2.7 in /usr/local/lib/python3.10/dist-packages (from matplotlib) (2.8.2)\n",
            "Requirement already satisfied: scipy>=1.3.2 in /usr/local/lib/python3.10/dist-packages (from scikit-learn) (1.11.4)\n",
            "Requirement already satisfied: joblib>=1.1.1 in /usr/local/lib/python3.10/dist-packages (from scikit-learn) (1.3.2)\n",
            "Requirement already satisfied: threadpoolctl>=2.0.0 in /usr/local/lib/python3.10/dist-packages (from scikit-learn) (3.2.0)\n",
            "Requirement already satisfied: six>=1.5 in /usr/local/lib/python3.10/dist-packages (from python-dateutil>=2.7->matplotlib) (1.16.0)\n",
            "Requirement already satisfied: MarkupSafe>=2.0 in /usr/local/lib/python3.10/dist-packages (from jinja2->torch) (2.1.4)\n",
            "Requirement already satisfied: charset-normalizer<4,>=2 in /usr/local/lib/python3.10/dist-packages (from requests->torchvision) (3.3.2)\n",
            "Requirement already satisfied: idna<4,>=2.5 in /usr/local/lib/python3.10/dist-packages (from requests->torchvision) (3.6)\n",
            "Requirement already satisfied: urllib3<3,>=1.21.1 in /usr/local/lib/python3.10/dist-packages (from requests->torchvision) (2.0.7)\n",
            "Requirement already satisfied: certifi>=2017.4.17 in /usr/local/lib/python3.10/dist-packages (from requests->torchvision) (2023.11.17)\n",
            "Requirement already satisfied: mpmath>=0.19 in /usr/local/lib/python3.10/dist-packages (from sympy->torch) (1.3.0)\n"
          ]
        }
      ],
      "source": [
        "!pip install torch torchvision matplotlib scikit-learn"
      ]
    },
    {
      "cell_type": "code",
      "source": [
        "import os\n",
        "import pandas as pd\n",
        "import torch\n",
        "import torch.nn as nn\n",
        "import torch.optim as optim\n",
        "from torch.utils.data import DataLoader, random_split\n",
        "from torchvision import models, transforms, datasets\n",
        "from torch.utils.data import Dataset\n",
        "from torchvision import transforms\n",
        "from PIL import Image\n",
        "\n",
        "from sklearn.model_selection import train_test_split\n",
        "from sklearn.metrics import accuracy_score, precision_score, recall_score, f1_score\n"
      ],
      "metadata": {
        "id": "30Bm8Vl5rhUY"
      },
      "execution_count": 18,
      "outputs": []
    },
    {
      "cell_type": "code",
      "source": [
        "class CustomDataset(Dataset):\n",
        "    def __init__(self, data_folder, csv_file, transform=None):\n",
        "        self.data = pd.read_csv(csv_file)\n",
        "        self.data_folder = data_folder\n",
        "        self.transform = transform\n",
        "\n",
        "    def __len__(self):\n",
        "        return len(self.data)\n",
        "\n",
        "    def __getitem__(self, idx):\n",
        "        img_name = os.path.join(self.data_folder, self.data.iloc[idx, 1])\n",
        "        image = Image.open(img_name).convert('RGB')\n",
        "\n",
        "        if self.transform:\n",
        "            image = self.transform(image)\n",
        "\n",
        "        label = torch.tensor(self.data.iloc[idx, 2], dtype=torch.long)\n",
        "        return image, label\n"
      ],
      "metadata": {
        "id": "SJ1bjMs9rswP"
      },
      "execution_count": 10,
      "outputs": []
    },
    {
      "cell_type": "code",
      "source": [
        "# /content/drive/MyDrive/Data/WNS/test.zip'\n",
        "# /content/drive/MyDrive/Data/WNS/train.zip"
      ],
      "metadata": {
        "id": "T3MBswvWrwPv"
      },
      "execution_count": null,
      "outputs": []
    },
    {
      "cell_type": "code",
      "source": [
        "import zipfile\n",
        "\n",
        "def unzip_file(zip_path, extract_path):\n",
        "    with zipfile.ZipFile(zip_path, 'r') as zip_ref:\n",
        "        zip_ref.extractall(extract_path)\n",
        "\n",
        "# Example usage:\n",
        "zip_file_path = '/content/drive/MyDrive/Data/WNS/train.zip'\n",
        "extracted_path = '/content/drive/MyDrive/Data/WNS/train'\n",
        "\n",
        "unzip_file(zip_file_path, extracted_path)"
      ],
      "metadata": {
        "id": "4czEGx1qs4Ze"
      },
      "execution_count": 8,
      "outputs": []
    },
    {
      "cell_type": "code",
      "source": [
        "transform = transforms.Compose([\n",
        "    transforms.Resize((224, 224)),\n",
        "    transforms.RandomHorizontalFlip(),\n",
        "    transforms.ToTensor(),\n",
        "    transforms.Normalize((0.5, 0.5, 0.5), (0.5, 0.5, 0.5))\n",
        "])\n"
      ],
      "metadata": {
        "id": "KmrlRvX4s_df"
      },
      "execution_count": 11,
      "outputs": []
    },
    {
      "cell_type": "code",
      "source": [
        "train_csv_path = '/content/drive/MyDrive/Data/WNS/train/train.csv'\n",
        "train_df = pd.read_csv(train_csv_path)\n",
        "\n",
        "# Display the first few rows of the DataFrame to understand its structure\n",
        "print(train_df.head())"
      ],
      "metadata": {
        "colab": {
          "base_uri": "https://localhost:8080/"
        },
        "id": "SL20N104wcz6",
        "outputId": "07a3ba19-e927-438e-cca7-bbdaf5af42a4"
      },
      "execution_count": 25,
      "outputs": [
        {
          "output_type": "stream",
          "name": "stdout",
          "text": [
            "   image_id filename  label\n",
            "0         1    1.jpg      0\n",
            "1         2    2.jpg      0\n",
            "2         3    3.jpg      0\n",
            "3         4    4.jpg      0\n",
            "4         5    5.jpg      0\n"
          ]
        }
      ]
    },
    {
      "cell_type": "code",
      "source": [
        "train_data, val_data = train_test_split(train_df, test_size=0.2, random_state=42)\n",
        "train_data.to_csv(\"/content/drive/MyDrive/Data/WNS/train/train_data.csv\",index=False)\n",
        "val_data.to_csv(\"/content/drive/MyDrive/Data/WNS/train/validation.csv\",index=False)"
      ],
      "metadata": {
        "id": "rtwJw0GvwVOj"
      },
      "execution_count": 30,
      "outputs": []
    },
    {
      "cell_type": "code",
      "source": [
        "train_dataset = CustomDataset(data_folder='/content/drive/MyDrive/Data/WNS/train/images',\n",
        "                              csv_file=\"/content/drive/MyDrive/Data/WNS/train/train_data.csv\", transform=transform)\n",
        "val_dataset = CustomDataset(data_folder='/content/drive/MyDrive/Data/WNS/train/images',\n",
        "                            csv_file=\"/content/drive/MyDrive/Data/WNS/train/validation.csv\", transform=transform)"
      ],
      "metadata": {
        "id": "I_lA9NaZu4Fe"
      },
      "execution_count": 31,
      "outputs": []
    },
    {
      "cell_type": "code",
      "source": [
        "train_loader = DataLoader(train_dataset, batch_size=32, shuffle=True)\n",
        "val_loader = DataLoader(val_dataset, batch_size=32, shuffle=False)"
      ],
      "metadata": {
        "id": "egjvXRXWvUBG"
      },
      "execution_count": 32,
      "outputs": []
    },
    {
      "cell_type": "code",
      "source": [
        "device = torch.device(\"cuda\" if torch.cuda.is_available() else \"cpu\")\n"
      ],
      "metadata": {
        "id": "RIRfpshhvjgc"
      },
      "execution_count": 33,
      "outputs": []
    },
    {
      "cell_type": "code",
      "source": [
        "class FraudClassifier(nn.Module):\n",
        "    def __init__(self, num_classes=2):\n",
        "        super(FraudClassifier, self).__init__()\n",
        "        resnet = models.resnet18(pretrained=True)\n",
        "        resnet.fc = nn.Linear(resnet.fc.in_features, num_classes)\n",
        "        self.resnet = resnet\n",
        "\n",
        "    def forward(self, x):\n",
        "        return self.resnet(x)\n",
        "\n",
        "model = FraudClassifier()\n",
        "model.to(device)\n",
        "\n",
        "criterion = nn.CrossEntropyLoss()\n",
        "optimizer = optim.Adam(model.parameters(), lr=0.001)\n"
      ],
      "metadata": {
        "colab": {
          "base_uri": "https://localhost:8080/"
        },
        "id": "yL179ke0vWw7",
        "outputId": "9f90bb40-0351-4da3-cead-e2df58645c6a"
      },
      "execution_count": 34,
      "outputs": [
        {
          "output_type": "stream",
          "name": "stderr",
          "text": [
            "/usr/local/lib/python3.10/dist-packages/torchvision/models/_utils.py:208: UserWarning: The parameter 'pretrained' is deprecated since 0.13 and may be removed in the future, please use 'weights' instead.\n",
            "  warnings.warn(\n",
            "/usr/local/lib/python3.10/dist-packages/torchvision/models/_utils.py:223: UserWarning: Arguments other than a weight enum or `None` for 'weights' are deprecated since 0.13 and may be removed in the future. The current behavior is equivalent to passing `weights=ResNet18_Weights.IMAGENET1K_V1`. You can also use `weights=ResNet18_Weights.DEFAULT` to get the most up-to-date weights.\n",
            "  warnings.warn(msg)\n"
          ]
        }
      ]
    },
    {
      "cell_type": "code",
      "source": [
        "num_epochs = 10\n",
        "\n",
        "for epoch in range(num_epochs):\n",
        "    model.train()\n",
        "    for images, labels in train_loader:\n",
        "        images, labels = images.to(device), labels.to(device)\n",
        "\n",
        "        optimizer.zero_grad()\n",
        "        outputs = model(images)\n",
        "        loss = criterion(outputs, labels)\n",
        "        loss.backward()\n",
        "        optimizer.step()\n",
        "\n",
        "    # Validation\n",
        "    model.eval()\n",
        "    with torch.no_grad():\n",
        "        val_outputs = []\n",
        "        val_labels = []\n",
        "        for val_images, val_labels_batch in val_loader:\n",
        "            val_images, val_labels_batch = val_images.to(device), val_labels_batch.to(device)\n",
        "            val_outputs_batch = model(val_images)\n",
        "            val_outputs.extend(val_outputs_batch.cpu().numpy())\n",
        "            val_labels.extend(val_labels_batch.cpu().numpy())\n",
        "\n",
        "    val_outputs = torch.tensor(val_outputs)\n",
        "    val_labels = torch.tensor(val_labels)\n",
        "\n",
        "    # Evaluation Metrics\n",
        "    accuracy = accuracy_score(val_labels, torch.argmax(val_outputs, dim=1))\n",
        "    precision = precision_score(val_labels, torch.argmax(val_outputs, dim=1))\n",
        "    recall = recall_score(val_labels, torch.argmax(val_outputs, dim=1))\n",
        "    f1 = f1_score(val_labels, torch.argmax(val_outputs, dim=1))\n",
        "\n",
        "    print(f\"Epoch {epoch + 1}/{num_epochs}: \"\n",
        "          f\"Loss: {loss.item():.4f}, \"\n",
        "          f\"Accuracy: {accuracy:.4f}, \"\n",
        "          f\"Precision: {precision:.4f}, \"\n",
        "          f\"Recall: {recall:.4f}, \"\n",
        "          f\"F1: {f1:.4f}\")\n"
      ],
      "metadata": {
        "colab": {
          "base_uri": "https://localhost:8080/"
        },
        "id": "ptAel35dvYyD",
        "outputId": "0ceed4cf-ab0f-42fe-a1ff-db671d20a7d8"
      },
      "execution_count": null,
      "outputs": [
        {
          "output_type": "stream",
          "name": "stderr",
          "text": [
            "<ipython-input-35-b2fc5be402b2>:25: UserWarning: Creating a tensor from a list of numpy.ndarrays is extremely slow. Please consider converting the list to a single numpy.ndarray with numpy.array() before converting to a tensor. (Triggered internally at ../torch/csrc/utils/tensor_new.cpp:261.)\n",
            "  val_outputs = torch.tensor(val_outputs)\n"
          ]
        },
        {
          "output_type": "stream",
          "name": "stdout",
          "text": [
            "Epoch 1/10: Loss: 0.1149, Accuracy: 0.9449, Precision: 0.3333, Recall: 0.0114, F1: 0.0220\n"
          ]
        }
      ]
    },
    {
      "cell_type": "code",
      "source": [
        "# Save the trained model\n",
        "torch.save(model.state_dict(), '/content/drive/MyDrive/Data/WNS/fraud_classifier.pth')\n",
        "\n",
        "# Load the saved model\n",
        "model.load_state_dict(torch.load('/content/drive/MyDrive/Data/WNS/fraud_classifier.pth'))\n"
      ],
      "metadata": {
        "id": "kR7xMfiewAg-"
      },
      "execution_count": null,
      "outputs": []
    },
    {
      "cell_type": "code",
      "source": [
        "# Assuming test.csv is in the same directory as your code\n",
        "test_csv_path = '/content/drive/MyDrive/Data/WNS/test/test.csv'\n",
        "test_df = pd.read_csv(test_csv_path)\n",
        "\n",
        "# Display the first few rows of the DataFrame to understand its structure\n",
        "print(test_df.head())\n"
      ],
      "metadata": {
        "id": "VHj5CAnZxp3C"
      },
      "execution_count": null,
      "outputs": []
    },
    {
      "cell_type": "code",
      "source": [
        "test_dataset = CustomDataset(data_folder='/content/drive/MyDrive/Data/WNS/test/images',\n",
        "                             csv_file='/content/drive/MyDrive/Data/WNS/test/test.csv', transform=transform)\n",
        "test_loader = DataLoader(test_dataset, batch_size=32, shuffle=False)\n",
        "\n",
        "model.eval()\n",
        "test_outputs = []\n",
        "\n",
        "with torch.no_grad():\n",
        "    for test_images, _ in test_loader:\n",
        "        test_images = test_images.to(device)\n",
        "        test_outputs_batch = model(test_images)\n",
        "        test_outputs.extend(test_outputs_batch.cpu().numpy())\n",
        "\n",
        "test_outputs = torch.tensor(test_outputs)\n",
        "predictions = torch.argmax(test_outputs, dim=1)\n",
        "\n",
        "# Save predictions to a submission file\n",
        "submission_df = pd.DataFrame({'image_id': test_df['image_id'], 'label': predictions})\n",
        "submission_df.to_csv('submission.csv', index=False)\n"
      ],
      "metadata": {
        "id": "vNU5BPtPvpPc"
      },
      "execution_count": null,
      "outputs": []
    }
  ]
}