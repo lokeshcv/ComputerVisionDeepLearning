{
 "cells": [
  {
   "cell_type": "code",
   "execution_count": 1,
   "id": "1e5711d7",
   "metadata": {
    "_cell_guid": "b1076dfc-b9ad-4769-8c92-a6c4dae69d19",
    "_uuid": "8f2839f25d086af736a60e9eeb907d3b93b6e0e5",
    "execution": {
     "iopub.execute_input": "2023-08-13T17:58:11.244171Z",
     "iopub.status.busy": "2023-08-13T17:58:11.243787Z",
     "iopub.status.idle": "2023-08-13T17:58:11.253813Z",
     "shell.execute_reply": "2023-08-13T17:58:11.253116Z"
    },
    "papermill": {
     "duration": 0.015507,
     "end_time": "2023-08-13T17:58:11.255660",
     "exception": false,
     "start_time": "2023-08-13T17:58:11.240153",
     "status": "completed"
    },
    "tags": []
   },
   "outputs": [],
   "source": [
    "import numpy as np # linear algebra\n",
    "import pandas as pd # data processing, CSV file I/O (e.g. pd.read_csv)\n",
    "\n",
    "import os\n",
    "for dirname, _, filenames in os.walk('/kaggle/input'):\n",
    "    for filename in filenames:\n",
    "        print(os.path.join(dirname, filename))"
   ]
  },
  {
   "cell_type": "markdown",
   "id": "6dd51c81",
   "metadata": {
    "papermill": {
     "duration": 0.001332,
     "end_time": "2023-08-13T17:58:11.258947",
     "exception": false,
     "start_time": "2023-08-13T17:58:11.257615",
     "status": "completed"
    },
    "tags": []
   },
   "source": [
    "### Apply the Deep Learning to the Satellite Data"
   ]
  },
  {
   "cell_type": "code",
   "execution_count": null,
   "id": "028e0389",
   "metadata": {
    "papermill": {
     "duration": 0.001188,
     "end_time": "2023-08-13T17:58:11.261575",
     "exception": false,
     "start_time": "2023-08-13T17:58:11.260387",
     "status": "completed"
    },
    "tags": []
   },
   "outputs": [],
   "source": []
  },
  {
   "cell_type": "code",
   "execution_count": null,
   "id": "05bca023",
   "metadata": {
    "papermill": {
     "duration": 0.001152,
     "end_time": "2023-08-13T17:58:11.264113",
     "exception": false,
     "start_time": "2023-08-13T17:58:11.262961",
     "status": "completed"
    },
    "tags": []
   },
   "outputs": [],
   "source": []
  }
 ],
 "metadata": {
  "kernelspec": {
   "display_name": "Python 3",
   "language": "python",
   "name": "python3"
  },
  "language_info": {
   "codemirror_mode": {
    "name": "ipython",
    "version": 3
   },
   "file_extension": ".py",
   "mimetype": "text/x-python",
   "name": "python",
   "nbconvert_exporter": "python",
   "pygments_lexer": "ipython3",
   "version": "3.10.12"
  },
  "papermill": {
   "default_parameters": {},
   "duration": 9.939647,
   "end_time": "2023-08-13T17:58:12.187607",
   "environment_variables": {},
   "exception": null,
   "input_path": "__notebook__.ipynb",
   "output_path": "__notebook__.ipynb",
   "parameters": {},
   "start_time": "2023-08-13T17:58:02.247960",
   "version": "2.4.0"
  }
 },
 "nbformat": 4,
 "nbformat_minor": 5
}
