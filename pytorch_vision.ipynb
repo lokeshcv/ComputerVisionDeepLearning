{
  "nbformat": 4,
  "nbformat_minor": 0,
  "metadata": {
    "colab": {
      "provenance": [],
      "gpuType": "T4",
      "authorship_tag": "ABX9TyOYQHBSgeVG383S20EzXv3C",
      "include_colab_link": true
    },
    "kernelspec": {
      "name": "python3",
      "display_name": "Python 3"
    },
    "language_info": {
      "name": "python"
    },
    "accelerator": "GPU",
    "widgets": {
      "application/vnd.jupyter.widget-state+json": {
        "6d870728e3544411a2e127e681c44fb3": {
          "model_module": "@jupyter-widgets/controls",
          "model_name": "HBoxModel",
          "model_module_version": "1.5.0",
          "state": {
            "_dom_classes": [],
            "_model_module": "@jupyter-widgets/controls",
            "_model_module_version": "1.5.0",
            "_model_name": "HBoxModel",
            "_view_count": null,
            "_view_module": "@jupyter-widgets/controls",
            "_view_module_version": "1.5.0",
            "_view_name": "HBoxView",
            "box_style": "",
            "children": [
              "IPY_MODEL_8146967117aa482fb99a9c8428f74949",
              "IPY_MODEL_9fac2cbce894460992dcb6fff827b1e3",
              "IPY_MODEL_05d92018867445d392646d347541bb46"
            ],
            "layout": "IPY_MODEL_49da55de35b84d9cb1f7ad4688307601"
          }
        },
        "8146967117aa482fb99a9c8428f74949": {
          "model_module": "@jupyter-widgets/controls",
          "model_name": "HTMLModel",
          "model_module_version": "1.5.0",
          "state": {
            "_dom_classes": [],
            "_model_module": "@jupyter-widgets/controls",
            "_model_module_version": "1.5.0",
            "_model_name": "HTMLModel",
            "_view_count": null,
            "_view_module": "@jupyter-widgets/controls",
            "_view_module_version": "1.5.0",
            "_view_name": "HTMLView",
            "description": "",
            "description_tooltip": null,
            "layout": "IPY_MODEL_5484bca5bd9e4f1faff4c5e6c4ffa1bd",
            "placeholder": "​",
            "style": "IPY_MODEL_4a9936651b9c4133892e3f368be4fe8d",
            "value": "100%"
          }
        },
        "9fac2cbce894460992dcb6fff827b1e3": {
          "model_module": "@jupyter-widgets/controls",
          "model_name": "FloatProgressModel",
          "model_module_version": "1.5.0",
          "state": {
            "_dom_classes": [],
            "_model_module": "@jupyter-widgets/controls",
            "_model_module_version": "1.5.0",
            "_model_name": "FloatProgressModel",
            "_view_count": null,
            "_view_module": "@jupyter-widgets/controls",
            "_view_module_version": "1.5.0",
            "_view_name": "ProgressView",
            "bar_style": "success",
            "description": "",
            "description_tooltip": null,
            "layout": "IPY_MODEL_39cc237376854fd0b930c16cfa3af679",
            "max": 9912422,
            "min": 0,
            "orientation": "horizontal",
            "style": "IPY_MODEL_0bbd2a0dd44248b4a4453db609ecb74f",
            "value": 9912422
          }
        },
        "05d92018867445d392646d347541bb46": {
          "model_module": "@jupyter-widgets/controls",
          "model_name": "HTMLModel",
          "model_module_version": "1.5.0",
          "state": {
            "_dom_classes": [],
            "_model_module": "@jupyter-widgets/controls",
            "_model_module_version": "1.5.0",
            "_model_name": "HTMLModel",
            "_view_count": null,
            "_view_module": "@jupyter-widgets/controls",
            "_view_module_version": "1.5.0",
            "_view_name": "HTMLView",
            "description": "",
            "description_tooltip": null,
            "layout": "IPY_MODEL_12753bb64c934726a86f5b34fbae985c",
            "placeholder": "​",
            "style": "IPY_MODEL_c35b82a2e36e49058cb2632fa090dbe4",
            "value": " 9912422/9912422 [00:00&lt;00:00, 81566522.68it/s]"
          }
        },
        "49da55de35b84d9cb1f7ad4688307601": {
          "model_module": "@jupyter-widgets/base",
          "model_name": "LayoutModel",
          "model_module_version": "1.2.0",
          "state": {
            "_model_module": "@jupyter-widgets/base",
            "_model_module_version": "1.2.0",
            "_model_name": "LayoutModel",
            "_view_count": null,
            "_view_module": "@jupyter-widgets/base",
            "_view_module_version": "1.2.0",
            "_view_name": "LayoutView",
            "align_content": null,
            "align_items": null,
            "align_self": null,
            "border": null,
            "bottom": null,
            "display": null,
            "flex": null,
            "flex_flow": null,
            "grid_area": null,
            "grid_auto_columns": null,
            "grid_auto_flow": null,
            "grid_auto_rows": null,
            "grid_column": null,
            "grid_gap": null,
            "grid_row": null,
            "grid_template_areas": null,
            "grid_template_columns": null,
            "grid_template_rows": null,
            "height": null,
            "justify_content": null,
            "justify_items": null,
            "left": null,
            "margin": null,
            "max_height": null,
            "max_width": null,
            "min_height": null,
            "min_width": null,
            "object_fit": null,
            "object_position": null,
            "order": null,
            "overflow": null,
            "overflow_x": null,
            "overflow_y": null,
            "padding": null,
            "right": null,
            "top": null,
            "visibility": null,
            "width": null
          }
        },
        "5484bca5bd9e4f1faff4c5e6c4ffa1bd": {
          "model_module": "@jupyter-widgets/base",
          "model_name": "LayoutModel",
          "model_module_version": "1.2.0",
          "state": {
            "_model_module": "@jupyter-widgets/base",
            "_model_module_version": "1.2.0",
            "_model_name": "LayoutModel",
            "_view_count": null,
            "_view_module": "@jupyter-widgets/base",
            "_view_module_version": "1.2.0",
            "_view_name": "LayoutView",
            "align_content": null,
            "align_items": null,
            "align_self": null,
            "border": null,
            "bottom": null,
            "display": null,
            "flex": null,
            "flex_flow": null,
            "grid_area": null,
            "grid_auto_columns": null,
            "grid_auto_flow": null,
            "grid_auto_rows": null,
            "grid_column": null,
            "grid_gap": null,
            "grid_row": null,
            "grid_template_areas": null,
            "grid_template_columns": null,
            "grid_template_rows": null,
            "height": null,
            "justify_content": null,
            "justify_items": null,
            "left": null,
            "margin": null,
            "max_height": null,
            "max_width": null,
            "min_height": null,
            "min_width": null,
            "object_fit": null,
            "object_position": null,
            "order": null,
            "overflow": null,
            "overflow_x": null,
            "overflow_y": null,
            "padding": null,
            "right": null,
            "top": null,
            "visibility": null,
            "width": null
          }
        },
        "4a9936651b9c4133892e3f368be4fe8d": {
          "model_module": "@jupyter-widgets/controls",
          "model_name": "DescriptionStyleModel",
          "model_module_version": "1.5.0",
          "state": {
            "_model_module": "@jupyter-widgets/controls",
            "_model_module_version": "1.5.0",
            "_model_name": "DescriptionStyleModel",
            "_view_count": null,
            "_view_module": "@jupyter-widgets/base",
            "_view_module_version": "1.2.0",
            "_view_name": "StyleView",
            "description_width": ""
          }
        },
        "39cc237376854fd0b930c16cfa3af679": {
          "model_module": "@jupyter-widgets/base",
          "model_name": "LayoutModel",
          "model_module_version": "1.2.0",
          "state": {
            "_model_module": "@jupyter-widgets/base",
            "_model_module_version": "1.2.0",
            "_model_name": "LayoutModel",
            "_view_count": null,
            "_view_module": "@jupyter-widgets/base",
            "_view_module_version": "1.2.0",
            "_view_name": "LayoutView",
            "align_content": null,
            "align_items": null,
            "align_self": null,
            "border": null,
            "bottom": null,
            "display": null,
            "flex": null,
            "flex_flow": null,
            "grid_area": null,
            "grid_auto_columns": null,
            "grid_auto_flow": null,
            "grid_auto_rows": null,
            "grid_column": null,
            "grid_gap": null,
            "grid_row": null,
            "grid_template_areas": null,
            "grid_template_columns": null,
            "grid_template_rows": null,
            "height": null,
            "justify_content": null,
            "justify_items": null,
            "left": null,
            "margin": null,
            "max_height": null,
            "max_width": null,
            "min_height": null,
            "min_width": null,
            "object_fit": null,
            "object_position": null,
            "order": null,
            "overflow": null,
            "overflow_x": null,
            "overflow_y": null,
            "padding": null,
            "right": null,
            "top": null,
            "visibility": null,
            "width": null
          }
        },
        "0bbd2a0dd44248b4a4453db609ecb74f": {
          "model_module": "@jupyter-widgets/controls",
          "model_name": "ProgressStyleModel",
          "model_module_version": "1.5.0",
          "state": {
            "_model_module": "@jupyter-widgets/controls",
            "_model_module_version": "1.5.0",
            "_model_name": "ProgressStyleModel",
            "_view_count": null,
            "_view_module": "@jupyter-widgets/base",
            "_view_module_version": "1.2.0",
            "_view_name": "StyleView",
            "bar_color": null,
            "description_width": ""
          }
        },
        "12753bb64c934726a86f5b34fbae985c": {
          "model_module": "@jupyter-widgets/base",
          "model_name": "LayoutModel",
          "model_module_version": "1.2.0",
          "state": {
            "_model_module": "@jupyter-widgets/base",
            "_model_module_version": "1.2.0",
            "_model_name": "LayoutModel",
            "_view_count": null,
            "_view_module": "@jupyter-widgets/base",
            "_view_module_version": "1.2.0",
            "_view_name": "LayoutView",
            "align_content": null,
            "align_items": null,
            "align_self": null,
            "border": null,
            "bottom": null,
            "display": null,
            "flex": null,
            "flex_flow": null,
            "grid_area": null,
            "grid_auto_columns": null,
            "grid_auto_flow": null,
            "grid_auto_rows": null,
            "grid_column": null,
            "grid_gap": null,
            "grid_row": null,
            "grid_template_areas": null,
            "grid_template_columns": null,
            "grid_template_rows": null,
            "height": null,
            "justify_content": null,
            "justify_items": null,
            "left": null,
            "margin": null,
            "max_height": null,
            "max_width": null,
            "min_height": null,
            "min_width": null,
            "object_fit": null,
            "object_position": null,
            "order": null,
            "overflow": null,
            "overflow_x": null,
            "overflow_y": null,
            "padding": null,
            "right": null,
            "top": null,
            "visibility": null,
            "width": null
          }
        },
        "c35b82a2e36e49058cb2632fa090dbe4": {
          "model_module": "@jupyter-widgets/controls",
          "model_name": "DescriptionStyleModel",
          "model_module_version": "1.5.0",
          "state": {
            "_model_module": "@jupyter-widgets/controls",
            "_model_module_version": "1.5.0",
            "_model_name": "DescriptionStyleModel",
            "_view_count": null,
            "_view_module": "@jupyter-widgets/base",
            "_view_module_version": "1.2.0",
            "_view_name": "StyleView",
            "description_width": ""
          }
        },
        "93e10b165459495db41af034c953c5e9": {
          "model_module": "@jupyter-widgets/controls",
          "model_name": "HBoxModel",
          "model_module_version": "1.5.0",
          "state": {
            "_dom_classes": [],
            "_model_module": "@jupyter-widgets/controls",
            "_model_module_version": "1.5.0",
            "_model_name": "HBoxModel",
            "_view_count": null,
            "_view_module": "@jupyter-widgets/controls",
            "_view_module_version": "1.5.0",
            "_view_name": "HBoxView",
            "box_style": "",
            "children": [
              "IPY_MODEL_bcb1e60932b8426f95251c77f1ae9727",
              "IPY_MODEL_d904d43c606f4ba6a08e1679f5e7203f",
              "IPY_MODEL_2c88a120756547e3b4e9a67c2a5abec3"
            ],
            "layout": "IPY_MODEL_b726a2b6c6114478b83df2acab842e47"
          }
        },
        "bcb1e60932b8426f95251c77f1ae9727": {
          "model_module": "@jupyter-widgets/controls",
          "model_name": "HTMLModel",
          "model_module_version": "1.5.0",
          "state": {
            "_dom_classes": [],
            "_model_module": "@jupyter-widgets/controls",
            "_model_module_version": "1.5.0",
            "_model_name": "HTMLModel",
            "_view_count": null,
            "_view_module": "@jupyter-widgets/controls",
            "_view_module_version": "1.5.0",
            "_view_name": "HTMLView",
            "description": "",
            "description_tooltip": null,
            "layout": "IPY_MODEL_d08c12d6557f43208aa68280cb95b5b8",
            "placeholder": "​",
            "style": "IPY_MODEL_33069cedabea4ec5a6822e99abd72705",
            "value": "100%"
          }
        },
        "d904d43c606f4ba6a08e1679f5e7203f": {
          "model_module": "@jupyter-widgets/controls",
          "model_name": "FloatProgressModel",
          "model_module_version": "1.5.0",
          "state": {
            "_dom_classes": [],
            "_model_module": "@jupyter-widgets/controls",
            "_model_module_version": "1.5.0",
            "_model_name": "FloatProgressModel",
            "_view_count": null,
            "_view_module": "@jupyter-widgets/controls",
            "_view_module_version": "1.5.0",
            "_view_name": "ProgressView",
            "bar_style": "success",
            "description": "",
            "description_tooltip": null,
            "layout": "IPY_MODEL_630f5ac9f3e3458b9272ee95946acf40",
            "max": 28881,
            "min": 0,
            "orientation": "horizontal",
            "style": "IPY_MODEL_5f6383eea02943eb9e1fef4dfe55eedc",
            "value": 28881
          }
        },
        "2c88a120756547e3b4e9a67c2a5abec3": {
          "model_module": "@jupyter-widgets/controls",
          "model_name": "HTMLModel",
          "model_module_version": "1.5.0",
          "state": {
            "_dom_classes": [],
            "_model_module": "@jupyter-widgets/controls",
            "_model_module_version": "1.5.0",
            "_model_name": "HTMLModel",
            "_view_count": null,
            "_view_module": "@jupyter-widgets/controls",
            "_view_module_version": "1.5.0",
            "_view_name": "HTMLView",
            "description": "",
            "description_tooltip": null,
            "layout": "IPY_MODEL_4b5b06d8a13244058993f8e0b3f1d4b7",
            "placeholder": "​",
            "style": "IPY_MODEL_15e3e63589bb4adb9c7d94fa23173501",
            "value": " 28881/28881 [00:00&lt;00:00, 2008750.56it/s]"
          }
        },
        "b726a2b6c6114478b83df2acab842e47": {
          "model_module": "@jupyter-widgets/base",
          "model_name": "LayoutModel",
          "model_module_version": "1.2.0",
          "state": {
            "_model_module": "@jupyter-widgets/base",
            "_model_module_version": "1.2.0",
            "_model_name": "LayoutModel",
            "_view_count": null,
            "_view_module": "@jupyter-widgets/base",
            "_view_module_version": "1.2.0",
            "_view_name": "LayoutView",
            "align_content": null,
            "align_items": null,
            "align_self": null,
            "border": null,
            "bottom": null,
            "display": null,
            "flex": null,
            "flex_flow": null,
            "grid_area": null,
            "grid_auto_columns": null,
            "grid_auto_flow": null,
            "grid_auto_rows": null,
            "grid_column": null,
            "grid_gap": null,
            "grid_row": null,
            "grid_template_areas": null,
            "grid_template_columns": null,
            "grid_template_rows": null,
            "height": null,
            "justify_content": null,
            "justify_items": null,
            "left": null,
            "margin": null,
            "max_height": null,
            "max_width": null,
            "min_height": null,
            "min_width": null,
            "object_fit": null,
            "object_position": null,
            "order": null,
            "overflow": null,
            "overflow_x": null,
            "overflow_y": null,
            "padding": null,
            "right": null,
            "top": null,
            "visibility": null,
            "width": null
          }
        },
        "d08c12d6557f43208aa68280cb95b5b8": {
          "model_module": "@jupyter-widgets/base",
          "model_name": "LayoutModel",
          "model_module_version": "1.2.0",
          "state": {
            "_model_module": "@jupyter-widgets/base",
            "_model_module_version": "1.2.0",
            "_model_name": "LayoutModel",
            "_view_count": null,
            "_view_module": "@jupyter-widgets/base",
            "_view_module_version": "1.2.0",
            "_view_name": "LayoutView",
            "align_content": null,
            "align_items": null,
            "align_self": null,
            "border": null,
            "bottom": null,
            "display": null,
            "flex": null,
            "flex_flow": null,
            "grid_area": null,
            "grid_auto_columns": null,
            "grid_auto_flow": null,
            "grid_auto_rows": null,
            "grid_column": null,
            "grid_gap": null,
            "grid_row": null,
            "grid_template_areas": null,
            "grid_template_columns": null,
            "grid_template_rows": null,
            "height": null,
            "justify_content": null,
            "justify_items": null,
            "left": null,
            "margin": null,
            "max_height": null,
            "max_width": null,
            "min_height": null,
            "min_width": null,
            "object_fit": null,
            "object_position": null,
            "order": null,
            "overflow": null,
            "overflow_x": null,
            "overflow_y": null,
            "padding": null,
            "right": null,
            "top": null,
            "visibility": null,
            "width": null
          }
        },
        "33069cedabea4ec5a6822e99abd72705": {
          "model_module": "@jupyter-widgets/controls",
          "model_name": "DescriptionStyleModel",
          "model_module_version": "1.5.0",
          "state": {
            "_model_module": "@jupyter-widgets/controls",
            "_model_module_version": "1.5.0",
            "_model_name": "DescriptionStyleModel",
            "_view_count": null,
            "_view_module": "@jupyter-widgets/base",
            "_view_module_version": "1.2.0",
            "_view_name": "StyleView",
            "description_width": ""
          }
        },
        "630f5ac9f3e3458b9272ee95946acf40": {
          "model_module": "@jupyter-widgets/base",
          "model_name": "LayoutModel",
          "model_module_version": "1.2.0",
          "state": {
            "_model_module": "@jupyter-widgets/base",
            "_model_module_version": "1.2.0",
            "_model_name": "LayoutModel",
            "_view_count": null,
            "_view_module": "@jupyter-widgets/base",
            "_view_module_version": "1.2.0",
            "_view_name": "LayoutView",
            "align_content": null,
            "align_items": null,
            "align_self": null,
            "border": null,
            "bottom": null,
            "display": null,
            "flex": null,
            "flex_flow": null,
            "grid_area": null,
            "grid_auto_columns": null,
            "grid_auto_flow": null,
            "grid_auto_rows": null,
            "grid_column": null,
            "grid_gap": null,
            "grid_row": null,
            "grid_template_areas": null,
            "grid_template_columns": null,
            "grid_template_rows": null,
            "height": null,
            "justify_content": null,
            "justify_items": null,
            "left": null,
            "margin": null,
            "max_height": null,
            "max_width": null,
            "min_height": null,
            "min_width": null,
            "object_fit": null,
            "object_position": null,
            "order": null,
            "overflow": null,
            "overflow_x": null,
            "overflow_y": null,
            "padding": null,
            "right": null,
            "top": null,
            "visibility": null,
            "width": null
          }
        },
        "5f6383eea02943eb9e1fef4dfe55eedc": {
          "model_module": "@jupyter-widgets/controls",
          "model_name": "ProgressStyleModel",
          "model_module_version": "1.5.0",
          "state": {
            "_model_module": "@jupyter-widgets/controls",
            "_model_module_version": "1.5.0",
            "_model_name": "ProgressStyleModel",
            "_view_count": null,
            "_view_module": "@jupyter-widgets/base",
            "_view_module_version": "1.2.0",
            "_view_name": "StyleView",
            "bar_color": null,
            "description_width": ""
          }
        },
        "4b5b06d8a13244058993f8e0b3f1d4b7": {
          "model_module": "@jupyter-widgets/base",
          "model_name": "LayoutModel",
          "model_module_version": "1.2.0",
          "state": {
            "_model_module": "@jupyter-widgets/base",
            "_model_module_version": "1.2.0",
            "_model_name": "LayoutModel",
            "_view_count": null,
            "_view_module": "@jupyter-widgets/base",
            "_view_module_version": "1.2.0",
            "_view_name": "LayoutView",
            "align_content": null,
            "align_items": null,
            "align_self": null,
            "border": null,
            "bottom": null,
            "display": null,
            "flex": null,
            "flex_flow": null,
            "grid_area": null,
            "grid_auto_columns": null,
            "grid_auto_flow": null,
            "grid_auto_rows": null,
            "grid_column": null,
            "grid_gap": null,
            "grid_row": null,
            "grid_template_areas": null,
            "grid_template_columns": null,
            "grid_template_rows": null,
            "height": null,
            "justify_content": null,
            "justify_items": null,
            "left": null,
            "margin": null,
            "max_height": null,
            "max_width": null,
            "min_height": null,
            "min_width": null,
            "object_fit": null,
            "object_position": null,
            "order": null,
            "overflow": null,
            "overflow_x": null,
            "overflow_y": null,
            "padding": null,
            "right": null,
            "top": null,
            "visibility": null,
            "width": null
          }
        },
        "15e3e63589bb4adb9c7d94fa23173501": {
          "model_module": "@jupyter-widgets/controls",
          "model_name": "DescriptionStyleModel",
          "model_module_version": "1.5.0",
          "state": {
            "_model_module": "@jupyter-widgets/controls",
            "_model_module_version": "1.5.0",
            "_model_name": "DescriptionStyleModel",
            "_view_count": null,
            "_view_module": "@jupyter-widgets/base",
            "_view_module_version": "1.2.0",
            "_view_name": "StyleView",
            "description_width": ""
          }
        },
        "c650c952134544e78b36d310d3cb759c": {
          "model_module": "@jupyter-widgets/controls",
          "model_name": "HBoxModel",
          "model_module_version": "1.5.0",
          "state": {
            "_dom_classes": [],
            "_model_module": "@jupyter-widgets/controls",
            "_model_module_version": "1.5.0",
            "_model_name": "HBoxModel",
            "_view_count": null,
            "_view_module": "@jupyter-widgets/controls",
            "_view_module_version": "1.5.0",
            "_view_name": "HBoxView",
            "box_style": "",
            "children": [
              "IPY_MODEL_147a17d0fd6646af8b5e1395c1bd95bf",
              "IPY_MODEL_fbaf04288f68446da50004c7c7815559",
              "IPY_MODEL_da75212df184424782291adae09e9d48"
            ],
            "layout": "IPY_MODEL_75797aa46f9242ec966a11373630d50b"
          }
        },
        "147a17d0fd6646af8b5e1395c1bd95bf": {
          "model_module": "@jupyter-widgets/controls",
          "model_name": "HTMLModel",
          "model_module_version": "1.5.0",
          "state": {
            "_dom_classes": [],
            "_model_module": "@jupyter-widgets/controls",
            "_model_module_version": "1.5.0",
            "_model_name": "HTMLModel",
            "_view_count": null,
            "_view_module": "@jupyter-widgets/controls",
            "_view_module_version": "1.5.0",
            "_view_name": "HTMLView",
            "description": "",
            "description_tooltip": null,
            "layout": "IPY_MODEL_75b8df7c72f7485b8768c4af11a94196",
            "placeholder": "​",
            "style": "IPY_MODEL_470f004c3e434057bbb3e654bf6ebb6b",
            "value": "100%"
          }
        },
        "fbaf04288f68446da50004c7c7815559": {
          "model_module": "@jupyter-widgets/controls",
          "model_name": "FloatProgressModel",
          "model_module_version": "1.5.0",
          "state": {
            "_dom_classes": [],
            "_model_module": "@jupyter-widgets/controls",
            "_model_module_version": "1.5.0",
            "_model_name": "FloatProgressModel",
            "_view_count": null,
            "_view_module": "@jupyter-widgets/controls",
            "_view_module_version": "1.5.0",
            "_view_name": "ProgressView",
            "bar_style": "success",
            "description": "",
            "description_tooltip": null,
            "layout": "IPY_MODEL_bdb8f4fcf9064bb1a134b490ebce463a",
            "max": 1648877,
            "min": 0,
            "orientation": "horizontal",
            "style": "IPY_MODEL_7caf7d0e59964eeaa734859627c9bcf4",
            "value": 1648877
          }
        },
        "da75212df184424782291adae09e9d48": {
          "model_module": "@jupyter-widgets/controls",
          "model_name": "HTMLModel",
          "model_module_version": "1.5.0",
          "state": {
            "_dom_classes": [],
            "_model_module": "@jupyter-widgets/controls",
            "_model_module_version": "1.5.0",
            "_model_name": "HTMLModel",
            "_view_count": null,
            "_view_module": "@jupyter-widgets/controls",
            "_view_module_version": "1.5.0",
            "_view_name": "HTMLView",
            "description": "",
            "description_tooltip": null,
            "layout": "IPY_MODEL_cbcd00d818694a7aa89250995a3aa2ed",
            "placeholder": "​",
            "style": "IPY_MODEL_4b935d0303864284af10446e88cad860",
            "value": " 1648877/1648877 [00:00&lt;00:00, 24901043.79it/s]"
          }
        },
        "75797aa46f9242ec966a11373630d50b": {
          "model_module": "@jupyter-widgets/base",
          "model_name": "LayoutModel",
          "model_module_version": "1.2.0",
          "state": {
            "_model_module": "@jupyter-widgets/base",
            "_model_module_version": "1.2.0",
            "_model_name": "LayoutModel",
            "_view_count": null,
            "_view_module": "@jupyter-widgets/base",
            "_view_module_version": "1.2.0",
            "_view_name": "LayoutView",
            "align_content": null,
            "align_items": null,
            "align_self": null,
            "border": null,
            "bottom": null,
            "display": null,
            "flex": null,
            "flex_flow": null,
            "grid_area": null,
            "grid_auto_columns": null,
            "grid_auto_flow": null,
            "grid_auto_rows": null,
            "grid_column": null,
            "grid_gap": null,
            "grid_row": null,
            "grid_template_areas": null,
            "grid_template_columns": null,
            "grid_template_rows": null,
            "height": null,
            "justify_content": null,
            "justify_items": null,
            "left": null,
            "margin": null,
            "max_height": null,
            "max_width": null,
            "min_height": null,
            "min_width": null,
            "object_fit": null,
            "object_position": null,
            "order": null,
            "overflow": null,
            "overflow_x": null,
            "overflow_y": null,
            "padding": null,
            "right": null,
            "top": null,
            "visibility": null,
            "width": null
          }
        },
        "75b8df7c72f7485b8768c4af11a94196": {
          "model_module": "@jupyter-widgets/base",
          "model_name": "LayoutModel",
          "model_module_version": "1.2.0",
          "state": {
            "_model_module": "@jupyter-widgets/base",
            "_model_module_version": "1.2.0",
            "_model_name": "LayoutModel",
            "_view_count": null,
            "_view_module": "@jupyter-widgets/base",
            "_view_module_version": "1.2.0",
            "_view_name": "LayoutView",
            "align_content": null,
            "align_items": null,
            "align_self": null,
            "border": null,
            "bottom": null,
            "display": null,
            "flex": null,
            "flex_flow": null,
            "grid_area": null,
            "grid_auto_columns": null,
            "grid_auto_flow": null,
            "grid_auto_rows": null,
            "grid_column": null,
            "grid_gap": null,
            "grid_row": null,
            "grid_template_areas": null,
            "grid_template_columns": null,
            "grid_template_rows": null,
            "height": null,
            "justify_content": null,
            "justify_items": null,
            "left": null,
            "margin": null,
            "max_height": null,
            "max_width": null,
            "min_height": null,
            "min_width": null,
            "object_fit": null,
            "object_position": null,
            "order": null,
            "overflow": null,
            "overflow_x": null,
            "overflow_y": null,
            "padding": null,
            "right": null,
            "top": null,
            "visibility": null,
            "width": null
          }
        },
        "470f004c3e434057bbb3e654bf6ebb6b": {
          "model_module": "@jupyter-widgets/controls",
          "model_name": "DescriptionStyleModel",
          "model_module_version": "1.5.0",
          "state": {
            "_model_module": "@jupyter-widgets/controls",
            "_model_module_version": "1.5.0",
            "_model_name": "DescriptionStyleModel",
            "_view_count": null,
            "_view_module": "@jupyter-widgets/base",
            "_view_module_version": "1.2.0",
            "_view_name": "StyleView",
            "description_width": ""
          }
        },
        "bdb8f4fcf9064bb1a134b490ebce463a": {
          "model_module": "@jupyter-widgets/base",
          "model_name": "LayoutModel",
          "model_module_version": "1.2.0",
          "state": {
            "_model_module": "@jupyter-widgets/base",
            "_model_module_version": "1.2.0",
            "_model_name": "LayoutModel",
            "_view_count": null,
            "_view_module": "@jupyter-widgets/base",
            "_view_module_version": "1.2.0",
            "_view_name": "LayoutView",
            "align_content": null,
            "align_items": null,
            "align_self": null,
            "border": null,
            "bottom": null,
            "display": null,
            "flex": null,
            "flex_flow": null,
            "grid_area": null,
            "grid_auto_columns": null,
            "grid_auto_flow": null,
            "grid_auto_rows": null,
            "grid_column": null,
            "grid_gap": null,
            "grid_row": null,
            "grid_template_areas": null,
            "grid_template_columns": null,
            "grid_template_rows": null,
            "height": null,
            "justify_content": null,
            "justify_items": null,
            "left": null,
            "margin": null,
            "max_height": null,
            "max_width": null,
            "min_height": null,
            "min_width": null,
            "object_fit": null,
            "object_position": null,
            "order": null,
            "overflow": null,
            "overflow_x": null,
            "overflow_y": null,
            "padding": null,
            "right": null,
            "top": null,
            "visibility": null,
            "width": null
          }
        },
        "7caf7d0e59964eeaa734859627c9bcf4": {
          "model_module": "@jupyter-widgets/controls",
          "model_name": "ProgressStyleModel",
          "model_module_version": "1.5.0",
          "state": {
            "_model_module": "@jupyter-widgets/controls",
            "_model_module_version": "1.5.0",
            "_model_name": "ProgressStyleModel",
            "_view_count": null,
            "_view_module": "@jupyter-widgets/base",
            "_view_module_version": "1.2.0",
            "_view_name": "StyleView",
            "bar_color": null,
            "description_width": ""
          }
        },
        "cbcd00d818694a7aa89250995a3aa2ed": {
          "model_module": "@jupyter-widgets/base",
          "model_name": "LayoutModel",
          "model_module_version": "1.2.0",
          "state": {
            "_model_module": "@jupyter-widgets/base",
            "_model_module_version": "1.2.0",
            "_model_name": "LayoutModel",
            "_view_count": null,
            "_view_module": "@jupyter-widgets/base",
            "_view_module_version": "1.2.0",
            "_view_name": "LayoutView",
            "align_content": null,
            "align_items": null,
            "align_self": null,
            "border": null,
            "bottom": null,
            "display": null,
            "flex": null,
            "flex_flow": null,
            "grid_area": null,
            "grid_auto_columns": null,
            "grid_auto_flow": null,
            "grid_auto_rows": null,
            "grid_column": null,
            "grid_gap": null,
            "grid_row": null,
            "grid_template_areas": null,
            "grid_template_columns": null,
            "grid_template_rows": null,
            "height": null,
            "justify_content": null,
            "justify_items": null,
            "left": null,
            "margin": null,
            "max_height": null,
            "max_width": null,
            "min_height": null,
            "min_width": null,
            "object_fit": null,
            "object_position": null,
            "order": null,
            "overflow": null,
            "overflow_x": null,
            "overflow_y": null,
            "padding": null,
            "right": null,
            "top": null,
            "visibility": null,
            "width": null
          }
        },
        "4b935d0303864284af10446e88cad860": {
          "model_module": "@jupyter-widgets/controls",
          "model_name": "DescriptionStyleModel",
          "model_module_version": "1.5.0",
          "state": {
            "_model_module": "@jupyter-widgets/controls",
            "_model_module_version": "1.5.0",
            "_model_name": "DescriptionStyleModel",
            "_view_count": null,
            "_view_module": "@jupyter-widgets/base",
            "_view_module_version": "1.2.0",
            "_view_name": "StyleView",
            "description_width": ""
          }
        },
        "8f1d2ff8cb724f13b98653d612b90ab7": {
          "model_module": "@jupyter-widgets/controls",
          "model_name": "HBoxModel",
          "model_module_version": "1.5.0",
          "state": {
            "_dom_classes": [],
            "_model_module": "@jupyter-widgets/controls",
            "_model_module_version": "1.5.0",
            "_model_name": "HBoxModel",
            "_view_count": null,
            "_view_module": "@jupyter-widgets/controls",
            "_view_module_version": "1.5.0",
            "_view_name": "HBoxView",
            "box_style": "",
            "children": [
              "IPY_MODEL_4457333fd16c42f48851cc51a6739e20",
              "IPY_MODEL_4188756d0c0f4557844398f98c9c95ba",
              "IPY_MODEL_4f4159f872774ee882ba7ee373dbf6f4"
            ],
            "layout": "IPY_MODEL_b5ed63d3d2934af6a0a9518e6af924e3"
          }
        },
        "4457333fd16c42f48851cc51a6739e20": {
          "model_module": "@jupyter-widgets/controls",
          "model_name": "HTMLModel",
          "model_module_version": "1.5.0",
          "state": {
            "_dom_classes": [],
            "_model_module": "@jupyter-widgets/controls",
            "_model_module_version": "1.5.0",
            "_model_name": "HTMLModel",
            "_view_count": null,
            "_view_module": "@jupyter-widgets/controls",
            "_view_module_version": "1.5.0",
            "_view_name": "HTMLView",
            "description": "",
            "description_tooltip": null,
            "layout": "IPY_MODEL_205988a9a94c4cdabb086c423c15879a",
            "placeholder": "​",
            "style": "IPY_MODEL_3d3cdea57e2b4e37a96e52aef19f37f7",
            "value": "100%"
          }
        },
        "4188756d0c0f4557844398f98c9c95ba": {
          "model_module": "@jupyter-widgets/controls",
          "model_name": "FloatProgressModel",
          "model_module_version": "1.5.0",
          "state": {
            "_dom_classes": [],
            "_model_module": "@jupyter-widgets/controls",
            "_model_module_version": "1.5.0",
            "_model_name": "FloatProgressModel",
            "_view_count": null,
            "_view_module": "@jupyter-widgets/controls",
            "_view_module_version": "1.5.0",
            "_view_name": "ProgressView",
            "bar_style": "success",
            "description": "",
            "description_tooltip": null,
            "layout": "IPY_MODEL_36dc2eefd0ad46faa32e4034fce7130d",
            "max": 4542,
            "min": 0,
            "orientation": "horizontal",
            "style": "IPY_MODEL_653235546e184f678dfd2fce177347e5",
            "value": 4542
          }
        },
        "4f4159f872774ee882ba7ee373dbf6f4": {
          "model_module": "@jupyter-widgets/controls",
          "model_name": "HTMLModel",
          "model_module_version": "1.5.0",
          "state": {
            "_dom_classes": [],
            "_model_module": "@jupyter-widgets/controls",
            "_model_module_version": "1.5.0",
            "_model_name": "HTMLModel",
            "_view_count": null,
            "_view_module": "@jupyter-widgets/controls",
            "_view_module_version": "1.5.0",
            "_view_name": "HTMLView",
            "description": "",
            "description_tooltip": null,
            "layout": "IPY_MODEL_73147fe66f974dd1858506c6d2ed7a4b",
            "placeholder": "​",
            "style": "IPY_MODEL_22175c2e02a4446c82ae7c8475046752",
            "value": " 4542/4542 [00:00&lt;00:00, 260050.63it/s]"
          }
        },
        "b5ed63d3d2934af6a0a9518e6af924e3": {
          "model_module": "@jupyter-widgets/base",
          "model_name": "LayoutModel",
          "model_module_version": "1.2.0",
          "state": {
            "_model_module": "@jupyter-widgets/base",
            "_model_module_version": "1.2.0",
            "_model_name": "LayoutModel",
            "_view_count": null,
            "_view_module": "@jupyter-widgets/base",
            "_view_module_version": "1.2.0",
            "_view_name": "LayoutView",
            "align_content": null,
            "align_items": null,
            "align_self": null,
            "border": null,
            "bottom": null,
            "display": null,
            "flex": null,
            "flex_flow": null,
            "grid_area": null,
            "grid_auto_columns": null,
            "grid_auto_flow": null,
            "grid_auto_rows": null,
            "grid_column": null,
            "grid_gap": null,
            "grid_row": null,
            "grid_template_areas": null,
            "grid_template_columns": null,
            "grid_template_rows": null,
            "height": null,
            "justify_content": null,
            "justify_items": null,
            "left": null,
            "margin": null,
            "max_height": null,
            "max_width": null,
            "min_height": null,
            "min_width": null,
            "object_fit": null,
            "object_position": null,
            "order": null,
            "overflow": null,
            "overflow_x": null,
            "overflow_y": null,
            "padding": null,
            "right": null,
            "top": null,
            "visibility": null,
            "width": null
          }
        },
        "205988a9a94c4cdabb086c423c15879a": {
          "model_module": "@jupyter-widgets/base",
          "model_name": "LayoutModel",
          "model_module_version": "1.2.0",
          "state": {
            "_model_module": "@jupyter-widgets/base",
            "_model_module_version": "1.2.0",
            "_model_name": "LayoutModel",
            "_view_count": null,
            "_view_module": "@jupyter-widgets/base",
            "_view_module_version": "1.2.0",
            "_view_name": "LayoutView",
            "align_content": null,
            "align_items": null,
            "align_self": null,
            "border": null,
            "bottom": null,
            "display": null,
            "flex": null,
            "flex_flow": null,
            "grid_area": null,
            "grid_auto_columns": null,
            "grid_auto_flow": null,
            "grid_auto_rows": null,
            "grid_column": null,
            "grid_gap": null,
            "grid_row": null,
            "grid_template_areas": null,
            "grid_template_columns": null,
            "grid_template_rows": null,
            "height": null,
            "justify_content": null,
            "justify_items": null,
            "left": null,
            "margin": null,
            "max_height": null,
            "max_width": null,
            "min_height": null,
            "min_width": null,
            "object_fit": null,
            "object_position": null,
            "order": null,
            "overflow": null,
            "overflow_x": null,
            "overflow_y": null,
            "padding": null,
            "right": null,
            "top": null,
            "visibility": null,
            "width": null
          }
        },
        "3d3cdea57e2b4e37a96e52aef19f37f7": {
          "model_module": "@jupyter-widgets/controls",
          "model_name": "DescriptionStyleModel",
          "model_module_version": "1.5.0",
          "state": {
            "_model_module": "@jupyter-widgets/controls",
            "_model_module_version": "1.5.0",
            "_model_name": "DescriptionStyleModel",
            "_view_count": null,
            "_view_module": "@jupyter-widgets/base",
            "_view_module_version": "1.2.0",
            "_view_name": "StyleView",
            "description_width": ""
          }
        },
        "36dc2eefd0ad46faa32e4034fce7130d": {
          "model_module": "@jupyter-widgets/base",
          "model_name": "LayoutModel",
          "model_module_version": "1.2.0",
          "state": {
            "_model_module": "@jupyter-widgets/base",
            "_model_module_version": "1.2.0",
            "_model_name": "LayoutModel",
            "_view_count": null,
            "_view_module": "@jupyter-widgets/base",
            "_view_module_version": "1.2.0",
            "_view_name": "LayoutView",
            "align_content": null,
            "align_items": null,
            "align_self": null,
            "border": null,
            "bottom": null,
            "display": null,
            "flex": null,
            "flex_flow": null,
            "grid_area": null,
            "grid_auto_columns": null,
            "grid_auto_flow": null,
            "grid_auto_rows": null,
            "grid_column": null,
            "grid_gap": null,
            "grid_row": null,
            "grid_template_areas": null,
            "grid_template_columns": null,
            "grid_template_rows": null,
            "height": null,
            "justify_content": null,
            "justify_items": null,
            "left": null,
            "margin": null,
            "max_height": null,
            "max_width": null,
            "min_height": null,
            "min_width": null,
            "object_fit": null,
            "object_position": null,
            "order": null,
            "overflow": null,
            "overflow_x": null,
            "overflow_y": null,
            "padding": null,
            "right": null,
            "top": null,
            "visibility": null,
            "width": null
          }
        },
        "653235546e184f678dfd2fce177347e5": {
          "model_module": "@jupyter-widgets/controls",
          "model_name": "ProgressStyleModel",
          "model_module_version": "1.5.0",
          "state": {
            "_model_module": "@jupyter-widgets/controls",
            "_model_module_version": "1.5.0",
            "_model_name": "ProgressStyleModel",
            "_view_count": null,
            "_view_module": "@jupyter-widgets/base",
            "_view_module_version": "1.2.0",
            "_view_name": "StyleView",
            "bar_color": null,
            "description_width": ""
          }
        },
        "73147fe66f974dd1858506c6d2ed7a4b": {
          "model_module": "@jupyter-widgets/base",
          "model_name": "LayoutModel",
          "model_module_version": "1.2.0",
          "state": {
            "_model_module": "@jupyter-widgets/base",
            "_model_module_version": "1.2.0",
            "_model_name": "LayoutModel",
            "_view_count": null,
            "_view_module": "@jupyter-widgets/base",
            "_view_module_version": "1.2.0",
            "_view_name": "LayoutView",
            "align_content": null,
            "align_items": null,
            "align_self": null,
            "border": null,
            "bottom": null,
            "display": null,
            "flex": null,
            "flex_flow": null,
            "grid_area": null,
            "grid_auto_columns": null,
            "grid_auto_flow": null,
            "grid_auto_rows": null,
            "grid_column": null,
            "grid_gap": null,
            "grid_row": null,
            "grid_template_areas": null,
            "grid_template_columns": null,
            "grid_template_rows": null,
            "height": null,
            "justify_content": null,
            "justify_items": null,
            "left": null,
            "margin": null,
            "max_height": null,
            "max_width": null,
            "min_height": null,
            "min_width": null,
            "object_fit": null,
            "object_position": null,
            "order": null,
            "overflow": null,
            "overflow_x": null,
            "overflow_y": null,
            "padding": null,
            "right": null,
            "top": null,
            "visibility": null,
            "width": null
          }
        },
        "22175c2e02a4446c82ae7c8475046752": {
          "model_module": "@jupyter-widgets/controls",
          "model_name": "DescriptionStyleModel",
          "model_module_version": "1.5.0",
          "state": {
            "_model_module": "@jupyter-widgets/controls",
            "_model_module_version": "1.5.0",
            "_model_name": "DescriptionStyleModel",
            "_view_count": null,
            "_view_module": "@jupyter-widgets/base",
            "_view_module_version": "1.2.0",
            "_view_name": "StyleView",
            "description_width": ""
          }
        }
      }
    }
  },
  "cells": [
    {
      "cell_type": "markdown",
      "metadata": {
        "id": "view-in-github",
        "colab_type": "text"
      },
      "source": [
        "<a href=\"https://colab.research.google.com/github/lokeshcv/ComputerVisionDeepLearning/blob/main/pytorch_vision.ipynb\" target=\"_parent\"><img src=\"https://colab.research.google.com/assets/colab-badge.svg\" alt=\"Open In Colab\"/></a>"
      ]
    },
    {
      "cell_type": "code",
      "execution_count": 1,
      "metadata": {
        "colab": {
          "base_uri": "https://localhost:8080/"
        },
        "id": "2e1aADYnWWwR",
        "outputId": "a11b06ba-97a6-46a0-af52-4723185cbed0"
      },
      "outputs": [
        {
          "output_type": "stream",
          "name": "stdout",
          "text": [
            "Collecting torchvision==0.13.0 (from -r https://raw.githubusercontent.com/MicrosoftDocs/pytorchfundamentals/main/computer-vision-pytorch/requirements.txt (line 1))\n",
            "  Downloading torchvision-0.13.0-cp310-cp310-manylinux1_x86_64.whl (19.1 MB)\n",
            "\u001b[2K     \u001b[90m━━━━━━━━━━━━━━━━━━━━━━━━━━━━━━━━━━━━━━━━\u001b[0m \u001b[32m19.1/19.1 MB\u001b[0m \u001b[31m35.2 MB/s\u001b[0m eta \u001b[36m0:00:00\u001b[0m\n",
            "\u001b[?25hCollecting torch==1.12.0 (from -r https://raw.githubusercontent.com/MicrosoftDocs/pytorchfundamentals/main/computer-vision-pytorch/requirements.txt (line 2))\n",
            "  Downloading torch-1.12.0-cp310-cp310-manylinux1_x86_64.whl (776.3 MB)\n",
            "\u001b[2K     \u001b[90m━━━━━━━━━━━━━━━━━━━━━━━━━━━━━━━━━━━━━━━\u001b[0m \u001b[32m776.3/776.3 MB\u001b[0m \u001b[31m2.2 MB/s\u001b[0m eta \u001b[36m0:00:00\u001b[0m\n",
            "\u001b[?25hRequirement already satisfied: typing-extensions in /usr/local/lib/python3.10/dist-packages (from torchvision==0.13.0->-r https://raw.githubusercontent.com/MicrosoftDocs/pytorchfundamentals/main/computer-vision-pytorch/requirements.txt (line 1)) (4.7.1)\n",
            "Requirement already satisfied: numpy in /usr/local/lib/python3.10/dist-packages (from torchvision==0.13.0->-r https://raw.githubusercontent.com/MicrosoftDocs/pytorchfundamentals/main/computer-vision-pytorch/requirements.txt (line 1)) (1.23.5)\n",
            "Requirement already satisfied: requests in /usr/local/lib/python3.10/dist-packages (from torchvision==0.13.0->-r https://raw.githubusercontent.com/MicrosoftDocs/pytorchfundamentals/main/computer-vision-pytorch/requirements.txt (line 1)) (2.31.0)\n",
            "Requirement already satisfied: pillow!=8.3.*,>=5.3.0 in /usr/local/lib/python3.10/dist-packages (from torchvision==0.13.0->-r https://raw.githubusercontent.com/MicrosoftDocs/pytorchfundamentals/main/computer-vision-pytorch/requirements.txt (line 1)) (9.4.0)\n",
            "Requirement already satisfied: charset-normalizer<4,>=2 in /usr/local/lib/python3.10/dist-packages (from requests->torchvision==0.13.0->-r https://raw.githubusercontent.com/MicrosoftDocs/pytorchfundamentals/main/computer-vision-pytorch/requirements.txt (line 1)) (3.2.0)\n",
            "Requirement already satisfied: idna<4,>=2.5 in /usr/local/lib/python3.10/dist-packages (from requests->torchvision==0.13.0->-r https://raw.githubusercontent.com/MicrosoftDocs/pytorchfundamentals/main/computer-vision-pytorch/requirements.txt (line 1)) (3.4)\n",
            "Requirement already satisfied: urllib3<3,>=1.21.1 in /usr/local/lib/python3.10/dist-packages (from requests->torchvision==0.13.0->-r https://raw.githubusercontent.com/MicrosoftDocs/pytorchfundamentals/main/computer-vision-pytorch/requirements.txt (line 1)) (2.0.4)\n",
            "Requirement already satisfied: certifi>=2017.4.17 in /usr/local/lib/python3.10/dist-packages (from requests->torchvision==0.13.0->-r https://raw.githubusercontent.com/MicrosoftDocs/pytorchfundamentals/main/computer-vision-pytorch/requirements.txt (line 1)) (2023.7.22)\n",
            "Installing collected packages: torch, torchvision\n",
            "  Attempting uninstall: torch\n",
            "    Found existing installation: torch 2.0.1+cu118\n",
            "    Uninstalling torch-2.0.1+cu118:\n",
            "      Successfully uninstalled torch-2.0.1+cu118\n",
            "  Attempting uninstall: torchvision\n",
            "    Found existing installation: torchvision 0.15.2+cu118\n",
            "    Uninstalling torchvision-0.15.2+cu118:\n",
            "      Successfully uninstalled torchvision-0.15.2+cu118\n",
            "\u001b[31mERROR: pip's dependency resolver does not currently take into account all the packages that are installed. This behaviour is the source of the following dependency conflicts.\n",
            "torchaudio 2.0.2+cu118 requires torch==2.0.1, but you have torch 1.12.0 which is incompatible.\n",
            "torchdata 0.6.1 requires torch==2.0.1, but you have torch 1.12.0 which is incompatible.\n",
            "torchtext 0.15.2 requires torch==2.0.1, but you have torch 1.12.0 which is incompatible.\u001b[0m\u001b[31m\n",
            "\u001b[0mSuccessfully installed torch-1.12.0 torchvision-0.13.0\n"
          ]
        }
      ],
      "source": [
        "!pip install -r https://raw.githubusercontent.com/MicrosoftDocs/pytorchfundamentals/main/computer-vision-pytorch/requirements.txt"
      ]
    },
    {
      "cell_type": "code",
      "source": [
        "!pip install torchinfo"
      ],
      "metadata": {
        "colab": {
          "base_uri": "https://localhost:8080/"
        },
        "id": "aH1-06sDDcHw",
        "outputId": "6bb805af-0861-4680-c2aa-67624cb95a9b"
      },
      "execution_count": 104,
      "outputs": [
        {
          "output_type": "stream",
          "name": "stdout",
          "text": [
            "Collecting torchinfo\n",
            "  Downloading torchinfo-1.8.0-py3-none-any.whl (23 kB)\n",
            "Installing collected packages: torchinfo\n",
            "Successfully installed torchinfo-1.8.0\n"
          ]
        }
      ]
    },
    {
      "cell_type": "code",
      "source": [
        "import torch\n",
        "import torch.nn as nn\n",
        "import torchvision\n",
        "from torchinfo import summary\n",
        "from torchvision.transforms import ToTensor\n",
        "from matplotlib import pyplot as plt\n",
        "import numpy as np"
      ],
      "metadata": {
        "id": "i2eb1raHvLcL"
      },
      "execution_count": 105,
      "outputs": []
    },
    {
      "cell_type": "code",
      "source": [
        "dir_path = '/content/data'"
      ],
      "metadata": {
        "id": "2C5-TbiCwUJg"
      },
      "execution_count": 4,
      "outputs": []
    },
    {
      "cell_type": "markdown",
      "source": [
        "Load the MNIST dataset from the PyTorch Datasets"
      ],
      "metadata": {
        "id": "ovKxD1g_vzL_"
      }
    },
    {
      "cell_type": "code",
      "source": [
        "train_ds = torchvision.datasets.MNIST(root=dir_path, train=True,\n",
        "                                      download=True,\n",
        "                                      transform=ToTensor())\n",
        "\n",
        "test_ds = torchvision.datasets.MNIST(root=dir_path, train=False,\n",
        "                                      download=True,\n",
        "                                      transform=ToTensor())"
      ],
      "metadata": {
        "colab": {
          "base_uri": "https://localhost:8080/",
          "height": 443,
          "referenced_widgets": [
            "6d870728e3544411a2e127e681c44fb3",
            "8146967117aa482fb99a9c8428f74949",
            "9fac2cbce894460992dcb6fff827b1e3",
            "05d92018867445d392646d347541bb46",
            "49da55de35b84d9cb1f7ad4688307601",
            "5484bca5bd9e4f1faff4c5e6c4ffa1bd",
            "4a9936651b9c4133892e3f368be4fe8d",
            "39cc237376854fd0b930c16cfa3af679",
            "0bbd2a0dd44248b4a4453db609ecb74f",
            "12753bb64c934726a86f5b34fbae985c",
            "c35b82a2e36e49058cb2632fa090dbe4",
            "93e10b165459495db41af034c953c5e9",
            "bcb1e60932b8426f95251c77f1ae9727",
            "d904d43c606f4ba6a08e1679f5e7203f",
            "2c88a120756547e3b4e9a67c2a5abec3",
            "b726a2b6c6114478b83df2acab842e47",
            "d08c12d6557f43208aa68280cb95b5b8",
            "33069cedabea4ec5a6822e99abd72705",
            "630f5ac9f3e3458b9272ee95946acf40",
            "5f6383eea02943eb9e1fef4dfe55eedc",
            "4b5b06d8a13244058993f8e0b3f1d4b7",
            "15e3e63589bb4adb9c7d94fa23173501",
            "c650c952134544e78b36d310d3cb759c",
            "147a17d0fd6646af8b5e1395c1bd95bf",
            "fbaf04288f68446da50004c7c7815559",
            "da75212df184424782291adae09e9d48",
            "75797aa46f9242ec966a11373630d50b",
            "75b8df7c72f7485b8768c4af11a94196",
            "470f004c3e434057bbb3e654bf6ebb6b",
            "bdb8f4fcf9064bb1a134b490ebce463a",
            "7caf7d0e59964eeaa734859627c9bcf4",
            "cbcd00d818694a7aa89250995a3aa2ed",
            "4b935d0303864284af10446e88cad860",
            "8f1d2ff8cb724f13b98653d612b90ab7",
            "4457333fd16c42f48851cc51a6739e20",
            "4188756d0c0f4557844398f98c9c95ba",
            "4f4159f872774ee882ba7ee373dbf6f4",
            "b5ed63d3d2934af6a0a9518e6af924e3",
            "205988a9a94c4cdabb086c423c15879a",
            "3d3cdea57e2b4e37a96e52aef19f37f7",
            "36dc2eefd0ad46faa32e4034fce7130d",
            "653235546e184f678dfd2fce177347e5",
            "73147fe66f974dd1858506c6d2ed7a4b",
            "22175c2e02a4446c82ae7c8475046752"
          ]
        },
        "id": "4rQak-brv4N4",
        "outputId": "26171ac6-b248-4e2b-932a-b38f6a3174ec"
      },
      "execution_count": 5,
      "outputs": [
        {
          "output_type": "stream",
          "name": "stdout",
          "text": [
            "Downloading http://yann.lecun.com/exdb/mnist/train-images-idx3-ubyte.gz\n",
            "Downloading http://yann.lecun.com/exdb/mnist/train-images-idx3-ubyte.gz to /content/data/MNIST/raw/train-images-idx3-ubyte.gz\n"
          ]
        },
        {
          "output_type": "display_data",
          "data": {
            "text/plain": [
              "  0%|          | 0/9912422 [00:00<?, ?it/s]"
            ],
            "application/vnd.jupyter.widget-view+json": {
              "version_major": 2,
              "version_minor": 0,
              "model_id": "6d870728e3544411a2e127e681c44fb3"
            }
          },
          "metadata": {}
        },
        {
          "output_type": "stream",
          "name": "stdout",
          "text": [
            "Extracting /content/data/MNIST/raw/train-images-idx3-ubyte.gz to /content/data/MNIST/raw\n",
            "\n",
            "Downloading http://yann.lecun.com/exdb/mnist/train-labels-idx1-ubyte.gz\n",
            "Downloading http://yann.lecun.com/exdb/mnist/train-labels-idx1-ubyte.gz to /content/data/MNIST/raw/train-labels-idx1-ubyte.gz\n"
          ]
        },
        {
          "output_type": "display_data",
          "data": {
            "text/plain": [
              "  0%|          | 0/28881 [00:00<?, ?it/s]"
            ],
            "application/vnd.jupyter.widget-view+json": {
              "version_major": 2,
              "version_minor": 0,
              "model_id": "93e10b165459495db41af034c953c5e9"
            }
          },
          "metadata": {}
        },
        {
          "output_type": "stream",
          "name": "stdout",
          "text": [
            "Extracting /content/data/MNIST/raw/train-labels-idx1-ubyte.gz to /content/data/MNIST/raw\n",
            "\n",
            "Downloading http://yann.lecun.com/exdb/mnist/t10k-images-idx3-ubyte.gz\n",
            "Downloading http://yann.lecun.com/exdb/mnist/t10k-images-idx3-ubyte.gz to /content/data/MNIST/raw/t10k-images-idx3-ubyte.gz\n"
          ]
        },
        {
          "output_type": "display_data",
          "data": {
            "text/plain": [
              "  0%|          | 0/1648877 [00:00<?, ?it/s]"
            ],
            "application/vnd.jupyter.widget-view+json": {
              "version_major": 2,
              "version_minor": 0,
              "model_id": "c650c952134544e78b36d310d3cb759c"
            }
          },
          "metadata": {}
        },
        {
          "output_type": "stream",
          "name": "stdout",
          "text": [
            "Extracting /content/data/MNIST/raw/t10k-images-idx3-ubyte.gz to /content/data/MNIST/raw\n",
            "\n",
            "Downloading http://yann.lecun.com/exdb/mnist/t10k-labels-idx1-ubyte.gz\n",
            "Downloading http://yann.lecun.com/exdb/mnist/t10k-labels-idx1-ubyte.gz to /content/data/MNIST/raw/t10k-labels-idx1-ubyte.gz\n"
          ]
        },
        {
          "output_type": "display_data",
          "data": {
            "text/plain": [
              "  0%|          | 0/4542 [00:00<?, ?it/s]"
            ],
            "application/vnd.jupyter.widget-view+json": {
              "version_major": 2,
              "version_minor": 0,
              "model_id": "8f1d2ff8cb724f13b98653d612b90ab7"
            }
          },
          "metadata": {}
        },
        {
          "output_type": "stream",
          "name": "stdout",
          "text": [
            "Extracting /content/data/MNIST/raw/t10k-labels-idx1-ubyte.gz to /content/data/MNIST/raw\n",
            "\n"
          ]
        }
      ]
    },
    {
      "cell_type": "code",
      "source": [
        "device = 'cuda' if torch.cuda.is_available() else 'cpu'\n",
        "device"
      ],
      "metadata": {
        "colab": {
          "base_uri": "https://localhost:8080/",
          "height": 36
        },
        "id": "jnJKbC-Ew9_H",
        "outputId": "e731a34f-f2ee-4b69-c93c-cbdae8269513"
      },
      "execution_count": 9,
      "outputs": [
        {
          "output_type": "execute_result",
          "data": {
            "text/plain": [
              "'cuda'"
            ],
            "application/vnd.google.colaboratory.intrinsic+json": {
              "type": "string"
            }
          },
          "metadata": {},
          "execution_count": 9
        }
      ]
    },
    {
      "cell_type": "code",
      "source": [
        "idx = torch.randint(0,len(train_ds), size=(7,), device=device)\n",
        "figure = plt.figure(figsize=(5,3))\n",
        "for i, ids in enumerate(idx):\n",
        "  plt_idx = int(f\"17{i+1}\")\n",
        "  figure.add_subplot(plt_idx)\n",
        "  plt.imshow(train_ds[ids][0][0],cmap='gray')\n",
        "  plt.title(train_ds[ids][1])\n",
        "  plt.axis('off')\n"
      ],
      "metadata": {
        "colab": {
          "base_uri": "https://localhost:8080/",
          "height": 106
        },
        "id": "qwKv_QbWwlyK",
        "outputId": "75e8a4a0-d687-468e-a4d3-b8dbd68c6902"
      },
      "execution_count": 30,
      "outputs": [
        {
          "output_type": "display_data",
          "data": {
            "text/plain": [
              "<Figure size 500x300 with 7 Axes>"
            ],
            "image/png": "[encoded data removed]"
          },
          "metadata": {}
        }
      ]
    },
    {
      "cell_type": "code",
      "source": [
        "print('Training samples:',len(train_ds))\n",
        "print('Test samples:',len(test_ds))\n",
        "\n",
        "print('Tensor size:',train_ds[0][0].size())\n",
        "print('First 10 digits are:', [test_ds[i][1] for i in range(10)])"
      ],
      "metadata": {
        "colab": {
          "base_uri": "https://localhost:8080/"
        },
        "id": "Ju3n6v3qyp0R",
        "outputId": "0dc4dec9-c63a-48e0-d4e1-f23407fa4467"
      },
      "execution_count": 32,
      "outputs": [
        {
          "output_type": "stream",
          "name": "stdout",
          "text": [
            "Training samples: 60000\n",
            "Test samples: 10000\n",
            "Tensor size: torch.Size([1, 28, 28])\n",
            "First 10 digits are: [7, 2, 1, 0, 4, 1, 4, 9, 5, 9]\n"
          ]
        }
      ]
    },
    {
      "cell_type": "markdown",
      "source": [
        "Pixel Intensity"
      ],
      "metadata": {
        "id": "PIZSOS-3zb8I"
      }
    },
    {
      "cell_type": "code",
      "source": [
        "print('Min intensity value: ',train_ds[0][0].min().item())\n",
        "print('Max intensity value: ',train_ds[0][0].max().item())"
      ],
      "metadata": {
        "colab": {
          "base_uri": "https://localhost:8080/"
        },
        "id": "f3qNos5NzdOg",
        "outputId": "62a98f09-0d4a-49b7-931b-48cde053c63d"
      },
      "execution_count": 34,
      "outputs": [
        {
          "output_type": "stream",
          "name": "stdout",
          "text": [
            "Min intensity value:  0.0\n",
            "Max intensity value:  1.0\n"
          ]
        }
      ]
    },
    {
      "cell_type": "markdown",
      "source": [
        "Resuable Code for MNIST"
      ],
      "metadata": {
        "id": "yndEfuu902RY"
      }
    },
    {
      "cell_type": "code",
      "source": [
        "# Script file to hide implementation details for PyTorch computer vision module\n",
        "\n",
        "import torch\n",
        "import torch.nn as nn\n",
        "from torch.utils import data\n",
        "import torchvision\n",
        "from torchvision.transforms import ToTensor\n",
        "import matplotlib.pyplot as plt\n",
        "import numpy as np\n",
        "from PIL import Image\n",
        "import glob\n",
        "import os\n",
        "import zipfile\n",
        "\n",
        "default_device = 'cuda' if torch.cuda.is_available() else 'cpu'\n",
        "\n",
        "def load_mnist(batch_size=64):\n",
        "    data_train = torchvision.datasets.MNIST('./data',\n",
        "        download=True,train=True,transform=ToTensor())\n",
        "    data_test = torchvision.datasets.MNIST('./data',\n",
        "        download=True,train=False,transform=ToTensor())\n",
        "    train_loader = torch.utils.data.DataLoader(data_train,batch_size=batch_size)\n",
        "    test_loader = torch.utils.data.DataLoader(data_test,batch_size=batch_size)\n",
        "\n",
        "    return data_train, data_test, train_loader, test_loader\n",
        "\n",
        "def train_epoch(net,dataloader,lr=0.01,optimizer=None,loss_fn = nn.NLLLoss()):\n",
        "    optimizer = optimizer or torch.optim.Adam(net.parameters(),lr=lr)\n",
        "    net.train()\n",
        "    total_loss,acc,count = 0,0,0\n",
        "    for features,labels in dataloader:\n",
        "        optimizer.zero_grad()\n",
        "        lbls = labels.to(default_device)\n",
        "        out = net(features.to(default_device))\n",
        "        loss = loss_fn(out,lbls) #cross_entropy(out,labels)\n",
        "        loss.backward()\n",
        "        optimizer.step()\n",
        "        total_loss+=loss\n",
        "        _,predicted = torch.max(out,1)\n",
        "        acc+=(predicted==lbls).sum()\n",
        "        count+=len(labels)\n",
        "    return total_loss.item()/count, acc.item()/count\n",
        "\n",
        "def validate(net, dataloader,loss_fn=nn.NLLLoss()):\n",
        "    net.eval()\n",
        "    count,acc,loss = 0,0,0\n",
        "    with torch.no_grad():\n",
        "        for features,labels in dataloader:\n",
        "            lbls = labels.to(default_device)\n",
        "            out = net(features.to(default_device))\n",
        "            loss += loss_fn(out,lbls)\n",
        "            pred = torch.max(out,1)[1]\n",
        "            acc += (pred==lbls).sum()\n",
        "            count += len(labels)\n",
        "    return loss.item()/count, acc.item()/count\n",
        "\n",
        "def train(net,train_loader,test_loader,optimizer=None,lr=0.01,epochs=10,loss_fn=nn.NLLLoss()):\n",
        "    optimizer = optimizer or torch.optim.Adam(net.parameters(),lr=lr)\n",
        "    res = { 'train_loss' : [], 'train_acc': [], 'val_loss': [], 'val_acc': []}\n",
        "    for ep in range(epochs):\n",
        "        tl,ta = train_epoch(net,train_loader,optimizer=optimizer,lr=lr,loss_fn=loss_fn)\n",
        "        vl,va = validate(net,test_loader,loss_fn=loss_fn)\n",
        "        print(f\"Epoch {ep+1:2}, Train acc={ta:.3f}, Val acc={va:.3f}, Train loss={tl:.3f}, Val loss={vl:.3f}\")\n",
        "        res['train_loss'].append(tl)\n",
        "        res['train_acc'].append(ta)\n",
        "        res['val_loss'].append(vl)\n",
        "        res['val_acc'].append(va)\n",
        "    return res\n",
        "\n",
        "def train_long(net,train_loader,test_loader,epochs=5,lr=0.01,optimizer=None,loss_fn = nn.NLLLoss(),print_freq=10):\n",
        "    optimizer = optimizer or torch.optim.Adam(net.parameters(),lr=lr)\n",
        "    for epoch in range(epochs):\n",
        "        net.train()\n",
        "        total_loss,acc,count = 0,0,0\n",
        "        for i, (features,labels) in enumerate(train_loader):\n",
        "            lbls = labels.to(default_device)\n",
        "            optimizer.zero_grad()\n",
        "            out = net(features.to(default_device))\n",
        "            loss = loss_fn(out,lbls)\n",
        "            loss.backward()\n",
        "            optimizer.step()\n",
        "            total_loss+=loss\n",
        "            _,predicted = torch.max(out,1)\n",
        "            acc+=(predicted==lbls).sum()\n",
        "            count+=len(labels)\n",
        "            if i%print_freq==0:\n",
        "                print(\"Epoch {}, minibatch {}: train acc = {}, train loss = {}\".format(epoch,i,acc.item()/count,total_loss.item()/count))\n",
        "        vl,va = validate(net,test_loader,loss_fn)\n",
        "        print(\"Epoch {} done, validation acc = {}, validation loss = {}\".format(epoch,va,vl))\n",
        "\n",
        "\n",
        "def plot_results(hist):\n",
        "    plt.figure(figsize=(15,5))\n",
        "    plt.subplot(121)\n",
        "    plt.plot(hist['train_acc'], label='Training acc')\n",
        "    plt.plot(hist['val_acc'], label='Validation acc')\n",
        "    plt.legend()\n",
        "    plt.subplot(122)\n",
        "    plt.plot(hist['train_loss'], label='Training loss')\n",
        "    plt.plot(hist['val_loss'], label='Validation loss')\n",
        "    plt.legend()\n",
        "\n",
        "def plot_convolution(data_train, t,title=''):\n",
        "    with torch.no_grad():\n",
        "        c = nn.Conv2d(kernel_size=(3,3),out_channels=1,in_channels=1)\n",
        "        c.weight.copy_(t)\n",
        "        fig, ax = plt.subplots(2,6,figsize=(8,3))\n",
        "        fig.suptitle(title,fontsize=16)\n",
        "        for i in range(5):\n",
        "            im = data_train[i][0]\n",
        "            ax[0][i].imshow(im[0])\n",
        "            ax[1][i].imshow(c(im.unsqueeze(0))[0][0])\n",
        "            ax[0][i].axis('off')\n",
        "            ax[1][i].axis('off')\n",
        "        ax[0,5].imshow(t)\n",
        "        ax[0,5].axis('off')\n",
        "        ax[1,5].axis('off')\n",
        "        #plt.tight_layout()\n",
        "        plt.show()\n",
        "\n",
        "def display_dataset(dataset, n=10,classes=None):\n",
        "    fig,ax = plt.subplots(1,n,figsize=(15,3))\n",
        "    mn = min([dataset[i][0].min() for i in range(n)])\n",
        "    mx = max([dataset[i][0].max() for i in range(n)])\n",
        "    for i in range(n):\n",
        "        ax[i].imshow(np.transpose((dataset[i][0]-mn)/(mx-mn),(1,2,0)))\n",
        "        ax[i].axis('off')\n",
        "        if classes:\n",
        "            ax[i].set_title(classes[dataset[i][1]])\n",
        "\n",
        "\n",
        "def check_image(fn):\n",
        "    try:\n",
        "        im = Image.open(fn)\n",
        "        im.verify()\n",
        "        return True\n",
        "    except:\n",
        "        return False\n",
        "\n",
        "def check_image_dir(path):\n",
        "    for fn in glob.glob(path):\n",
        "        if not check_image(fn):\n",
        "            print(\"Corrupt image: {}\".format(fn))\n",
        "            os.remove(fn)\n",
        "\n",
        "\n",
        "def common_transform():\n",
        "    std_normalize = torchvision.transforms.Normalize(mean=[0.485, 0.456, 0.406],\n",
        "                          std=[0.229, 0.224, 0.225])\n",
        "    trans = torchvision.transforms.Compose([\n",
        "            torchvision.transforms.Resize(256),\n",
        "            torchvision.transforms.CenterCrop(224),\n",
        "            torchvision.transforms.ToTensor(),\n",
        "            std_normalize])\n",
        "    return trans\n",
        "\n",
        "def load_cats_dogs_dataset():\n",
        "    if not os.path.exists('data/PetImages'):\n",
        "        with zipfile.ZipFile('data/kagglecatsanddogs_5340.zip', 'r') as zip_ref:\n",
        "            zip_ref.extractall('data')\n",
        "\n",
        "    check_image_dir('data/PetImages/Cat/*.jpg')\n",
        "    check_image_dir('data/PetImages/Dog/*.jpg')\n",
        "\n",
        "    dataset = torchvision.datasets.ImageFolder('data/PetImages',transform=common_transform())\n",
        "    trainset, testset = torch.utils.data.random_split(dataset,[20000,len(dataset)-20000])\n",
        "    trainloader = torch.utils.data.DataLoader(trainset,batch_size=32)\n",
        "    testloader = torch.utils.data.DataLoader(trainset,batch_size=32)\n",
        "    return dataset, trainloader, testloader"
      ],
      "metadata": {
        "id": "jJBec_Rx05_5"
      },
      "execution_count": 76,
      "outputs": []
    },
    {
      "cell_type": "code",
      "source": [
        "train_ds, test_ds, train_loader, test_loader = load_mnist()"
      ],
      "metadata": {
        "id": "0YuSzC5azfLQ"
      },
      "execution_count": 51,
      "outputs": []
    },
    {
      "cell_type": "markdown",
      "source": [
        "Fully Connected Network"
      ],
      "metadata": {
        "id": "vTffV4RF2MV5"
      }
    },
    {
      "cell_type": "code",
      "source": [
        "default_device, device"
      ],
      "metadata": {
        "colab": {
          "base_uri": "https://localhost:8080/"
        },
        "id": "Vbwtc8b28OdQ",
        "outputId": "ed20f3f1-eb7e-4dc3-8167-5a6239fdfdc4"
      },
      "execution_count": 61,
      "outputs": [
        {
          "output_type": "execute_result",
          "data": {
            "text/plain": [
              "('cuda', 'cuda')"
            ]
          },
          "metadata": {},
          "execution_count": 61
        }
      ]
    },
    {
      "cell_type": "code",
      "source": [
        "network = nn.Sequential(nn.Flatten(),\n",
        "                        nn.Linear(784, 128),\n",
        "                        nn.Linear(128,64),\n",
        "                        nn.Linear(64, 10),\n",
        "                        nn.LogSoftmax(1))\n",
        "\n",
        "network.to(default_device)"
      ],
      "metadata": {
        "colab": {
          "base_uri": "https://localhost:8080/"
        },
        "id": "keKG11bL2Ozi",
        "outputId": "0c8648e9-8443-4d57-f504-3d004b939bc7"
      },
      "execution_count": 66,
      "outputs": [
        {
          "output_type": "execute_result",
          "data": {
            "text/plain": [
              "Sequential(\n",
              "  (0): Flatten(start_dim=1, end_dim=-1)\n",
              "  (1): Linear(in_features=784, out_features=128, bias=True)\n",
              "  (2): Linear(in_features=128, out_features=64, bias=True)\n",
              "  (3): Linear(in_features=64, out_features=10, bias=True)\n",
              "  (4): LogSoftmax(dim=1)\n",
              ")"
            ]
          },
          "metadata": {},
          "execution_count": 66
        }
      ]
    },
    {
      "cell_type": "markdown",
      "source": [
        "Train with single sample"
      ],
      "metadata": {
        "id": "ipz6OoEI4Zmv"
      }
    },
    {
      "cell_type": "markdown",
      "source": [
        "Because we use LogSoftmax as final activation of our network, we pass network output through torch.exp to get probabilities."
      ],
      "metadata": {
        "id": "C7I26g2M5CW4"
      }
    },
    {
      "cell_type": "code",
      "source": [
        "print('Digit to be predicted: ', train_ds[0][1])\n",
        "torch.exp(network(train_ds[0][0].to(default_device)))"
      ],
      "metadata": {
        "colab": {
          "base_uri": "https://localhost:8080/"
        },
        "id": "OQR-zuqj4bdK",
        "outputId": "03a26ad3-9c3b-4ad3-dc69-97b834cd5155"
      },
      "execution_count": 67,
      "outputs": [
        {
          "output_type": "stream",
          "name": "stdout",
          "text": [
            "Digit to be predicted:  5\n"
          ]
        },
        {
          "output_type": "execute_result",
          "data": {
            "text/plain": [
              "tensor([[0.0820, 0.0911, 0.1064, 0.0894, 0.1188, 0.1065, 0.0936, 0.1117, 0.0915,\n",
              "         0.1089]], device='cuda:0', grad_fn=<ExpBackward0>)"
            ]
          },
          "metadata": {},
          "execution_count": 67
        }
      ]
    },
    {
      "cell_type": "markdown",
      "source": [
        "The training process steps are as follows:\n",
        "\n",
        "\n",
        "1.   We take a minibatch from the input dataset, which consists of input data (features) and expected result (label).\n",
        "2.   We calculate the predicted result for this minibatch.\n",
        "3.   The difference between this result and expected result is calculated using a special function called the loss function. Loss function shows how different the output of the network is from the expected output. The goal of our training is to minimize the loss.\n",
        "4.   We calculate the gradients of this loss function with respect to model weights (parameters), which are then used to adjust the weights to optimize the performance of the network. The amount of adjustment is controlled by a parameter called learning rate, and the details of optimization algorithm are defined in the optimizer object.\n",
        "5.    We repeat those steps until the whole dataset is processed. One complete pass through the dataset is called an epoch.\n"
      ],
      "metadata": {
        "id": "fIVe3laU5rko"
      }
    },
    {
      "cell_type": "markdown",
      "source": [
        "Train"
      ],
      "metadata": {
        "id": "W8ZFhY9w67wS"
      }
    },
    {
      "cell_type": "code",
      "source": [
        "lr =1e-3\n",
        "SGD_opt = torch.optim.SGD(params=network.parameters(),lr=lr)\n",
        "loss_function = nn.CrossEntropyLoss()\n",
        "train_epoch(network, train_loader,\n",
        "            lr=lr,\n",
        "            optimizer=SGD_opt,\n",
        "            loss_fn= loss_function)"
      ],
      "metadata": {
        "colab": {
          "base_uri": "https://localhost:8080/"
        },
        "id": "t1GnaoQ668MJ",
        "outputId": "3c34f318-92c3-482b-ee44-2395485697eb"
      },
      "execution_count": 70,
      "outputs": [
        {
          "output_type": "execute_result",
          "data": {
            "text/plain": [
              "(0.027975557454427084, 0.6926166666666667)"
            ]
          },
          "metadata": {},
          "execution_count": 70
        }
      ]
    },
    {
      "cell_type": "code",
      "source": [
        "validate(network, test_loader)"
      ],
      "metadata": {
        "colab": {
          "base_uri": "https://localhost:8080/"
        },
        "id": "qOxyHKSO4dow",
        "outputId": "5571bca9-4fb0-48f2-f2e1-a20579b2156b"
      },
      "execution_count": 71,
      "outputs": [
        {
          "output_type": "execute_result",
          "data": {
            "text/plain": [
              "(0.02518406982421875, 0.7104)"
            ]
          },
          "metadata": {},
          "execution_count": 71
        }
      ]
    },
    {
      "cell_type": "code",
      "source": [
        "hist = train(network,train_loader,test_loader,epochs=10,\n",
        "             lr=lr, optimizer=SGD_opt, loss_fn= loss_function)"
      ],
      "metadata": {
        "colab": {
          "base_uri": "https://localhost:8080/"
        },
        "id": "s205JI_--oL4",
        "outputId": "63bf2862-d9bc-41a9-d645-d4de494ba834"
      },
      "execution_count": 77,
      "outputs": [
        {
          "output_type": "stream",
          "name": "stdout",
          "text": [
            "Epoch  1, Train acc=0.884, Val acc=0.891, Train loss=0.006, Val loss=0.006\n",
            "Epoch  2, Train acc=0.886, Val acc=0.892, Train loss=0.006, Val loss=0.006\n",
            "Epoch  3, Train acc=0.888, Val acc=0.893, Train loss=0.006, Val loss=0.006\n",
            "Epoch  4, Train acc=0.890, Val acc=0.895, Train loss=0.006, Val loss=0.006\n",
            "Epoch  5, Train acc=0.891, Val acc=0.895, Train loss=0.006, Val loss=0.006\n",
            "Epoch  6, Train acc=0.893, Val acc=0.897, Train loss=0.006, Val loss=0.006\n",
            "Epoch  7, Train acc=0.894, Val acc=0.898, Train loss=0.006, Val loss=0.006\n",
            "Epoch  8, Train acc=0.895, Val acc=0.899, Train loss=0.006, Val loss=0.006\n",
            "Epoch  9, Train acc=0.896, Val acc=0.900, Train loss=0.006, Val loss=0.005\n",
            "Epoch 10, Train acc=0.898, Val acc=0.901, Train loss=0.006, Val loss=0.005\n"
          ]
        }
      ]
    },
    {
      "cell_type": "code",
      "source": [
        "plot_results(hist)"
      ],
      "metadata": {
        "colab": {
          "base_uri": "https://localhost:8080/",
          "height": 252
        },
        "id": "xdzYu8ba4YwT",
        "outputId": "00342146-e91a-4ba2-9045-b963eaa3ba3c"
      },
      "execution_count": 78,
      "outputs": [
        {
          "output_type": "display_data",
          "data": {
            "text/plain": [
              "<Figure size 1500x500 with 2 Axes>"
            ],
            "image/png": "[encoded data removed]"
          },
          "metadata": {}
        }
      ]
    },
    {
      "cell_type": "markdown",
      "source": [
        "Visualizing network weights"
      ],
      "metadata": {
        "id": "RseczlQP_3L7"
      }
    },
    {
      "cell_type": "markdown",
      "source": [
        "In the code below, we will first get the matrix W into weight_tensor variable. It can be obtained by calling the network.parameters() method (which returns both W and b), and then calling next to get the first of two parameters. Then we will go over each dimension, reshape it to 28×28 size, and plot. You can see that 10 weight tensor dimensions somewhat resemble the average shape of the digits they classify:"
      ],
      "metadata": {
        "id": "TUW7nwCFAdq6"
      }
    },
    {
      "cell_type": "code",
      "source": [
        "# weight_tensor = next(network.parameters())\n",
        "\n",
        "weight_tensor = list(network.parameters())[0]\n",
        "print(weight_tensor.shape)\n",
        "fig,ax = plt.subplots(1,10,figsize=(15,4))\n",
        "for i,x in enumerate(weight_tensor):\n",
        "  if i <= 9:\n",
        "    ax[i].imshow(x.view(28,28).cpu().data.numpy())\n",
        "  else:\n",
        "    break"
      ],
      "metadata": {
        "colab": {
          "base_uri": "https://localhost:8080/",
          "height": 116
        },
        "id": "JhHzi_DX_e04",
        "outputId": "6bee7996-74a9-4333-94f5-2ece86dfa43e"
      },
      "execution_count": 101,
      "outputs": [
        {
          "output_type": "stream",
          "name": "stdout",
          "text": [
            "torch.Size([128, 784])\n"
          ]
        },
        {
          "output_type": "display_data",
          "data": {
            "text/plain": [
              "<Figure size 1500x400 with 10 Axes>"
            ],
            "image/png": "[encoded data removed]"
          },
          "metadata": {}
        }
      ]
    },
    {
      "cell_type": "markdown",
      "source": [
        " It is important to introduce those non-linear activation functions, because they are one of the reasons neural networks achieve high expressive power. Indeed, it can be demonstrated mathematically that if a network consisted just of a series of linear layers, it would essentially be equivalent to one linear layer. Thus inserting non-linear functions in between layers is important!"
      ],
      "metadata": {
        "id": "9C-VjZNGDK7g"
      }
    },
    {
      "cell_type": "markdown",
      "source": [
        "ReLU is a simplest activation function, which is defined as follows:"
      ],
      "metadata": {
        "id": "OigqM1OnC_ax"
      }
    },
    {
      "cell_type": "code",
      "source": [
        "network = nn.Sequential(nn.Flatten(),\n",
        "                        nn.Linear(784, 128),\n",
        "                        nn.ReLU(),\n",
        "                        nn.Linear(128,64),\n",
        "                        nn.ReLU(),\n",
        "                        nn.Linear(64, 10),\n",
        "                        nn.LogSoftmax(1))\n",
        "\n",
        "network.to(default_device)\n",
        "summary(network,input_size=(1,28,28))"
      ],
      "metadata": {
        "colab": {
          "base_uri": "https://localhost:8080/"
        },
        "id": "wSfg5V7NC_2Z",
        "outputId": "05c47e0c-366d-483f-af95-390e315aa50e"
      },
      "execution_count": 106,
      "outputs": [
        {
          "output_type": "execute_result",
          "data": {
            "text/plain": [
              "==========================================================================================\n",
              "Layer (type:depth-idx)                   Output Shape              Param #\n",
              "==========================================================================================\n",
              "Sequential                               [1, 10]                   --\n",
              "├─Flatten: 1-1                           [1, 784]                  --\n",
              "├─Linear: 1-2                            [1, 128]                  100,480\n",
              "├─ReLU: 1-3                              [1, 128]                  --\n",
              "├─Linear: 1-4                            [1, 64]                   8,256\n",
              "├─ReLU: 1-5                              [1, 64]                   --\n",
              "├─Linear: 1-6                            [1, 10]                   650\n",
              "├─LogSoftmax: 1-7                        [1, 10]                   --\n",
              "==========================================================================================\n",
              "Total params: 109,386\n",
              "Trainable params: 109,386\n",
              "Non-trainable params: 0\n",
              "Total mult-adds (M): 0.11\n",
              "==========================================================================================\n",
              "Input size (MB): 0.00\n",
              "Forward/backward pass size (MB): 0.00\n",
              "Params size (MB): 0.44\n",
              "Estimated Total Size (MB): 0.44\n",
              "=========================================================================================="
            ]
          },
          "metadata": {},
          "execution_count": 106
        }
      ]
    },
    {
      "cell_type": "code",
      "source": [
        "from torch.nn.functional import relu, log_softmax\n",
        "\n",
        "class Mnist_Net(nn.Module):\n",
        "    def __init__(self):\n",
        "        super(Mnist_Net, self).__init__()\n",
        "        self.flatten = nn.Flatten()\n",
        "        self.hidden_1 = nn.Linear(784, 128)\n",
        "        self.relu1 = nn.ReLU()\n",
        "        self.relu2 = nn.ReLU()\n",
        "        self.hidden_2 = nn.Linear(128,64)\n",
        "        self.out = nn.Linear(64, 10)\n",
        "\n",
        "    def forward(self, x):\n",
        "        x = self.flatten(x)\n",
        "        x = self.hidden_1(x)\n",
        "        x = self.relu1(x)\n",
        "        x = self.hidden_2(x)\n",
        "        x = self.relu2(x)\n",
        "        x = self.out(x)\n",
        "        x = log_softmax(x,dim=1)\n",
        "        return x\n",
        "\n",
        "net = Mnist_Net().to(default_device)\n",
        "\n",
        "summary(net,input_size=(1,28,28),device=default_device)"
      ],
      "metadata": {
        "colab": {
          "base_uri": "https://localhost:8080/"
        },
        "id": "kld8FBVBD_zy",
        "outputId": "423bcd59-8348-4e1e-cfcf-402a98e38d1e"
      },
      "execution_count": 125,
      "outputs": [
        {
          "output_type": "execute_result",
          "data": {
            "text/plain": [
              "==========================================================================================\n",
              "Layer (type:depth-idx)                   Output Shape              Param #\n",
              "==========================================================================================\n",
              "Mnist_Net                                [1, 10]                   --\n",
              "├─Flatten: 1-1                           [1, 784]                  --\n",
              "├─Linear: 1-2                            [1, 128]                  100,480\n",
              "├─ReLU: 1-3                              [1, 128]                  --\n",
              "├─Linear: 1-4                            [1, 64]                   8,256\n",
              "├─ReLU: 1-5                              [1, 64]                   --\n",
              "├─Linear: 1-6                            [1, 10]                   650\n",
              "==========================================================================================\n",
              "Total params: 109,386\n",
              "Trainable params: 109,386\n",
              "Non-trainable params: 0\n",
              "Total mult-adds (M): 0.11\n",
              "==========================================================================================\n",
              "Input size (MB): 0.00\n",
              "Forward/backward pass size (MB): 0.00\n",
              "Params size (MB): 0.44\n",
              "Estimated Total Size (MB): 0.44\n",
              "=========================================================================================="
            ]
          },
          "metadata": {},
          "execution_count": 125
        }
      ]
    },
    {
      "cell_type": "code",
      "source": [
        "hist = train(net, train_loader,test_loader, epochs=5)\n",
        "\n",
        "plot_results(hist)"
      ],
      "metadata": {
        "colab": {
          "base_uri": "https://localhost:8080/",
          "height": 342
        },
        "id": "pY0BNVFBApqI",
        "outputId": "88522cb2-97f6-44f9-ff09-d1cb5493bd63"
      },
      "execution_count": 126,
      "outputs": [
        {
          "output_type": "stream",
          "name": "stdout",
          "text": [
            "Epoch  1, Train acc=0.921, Val acc=0.953, Train loss=0.004, Val loss=0.003\n",
            "Epoch  2, Train acc=0.954, Val acc=0.939, Train loss=0.002, Val loss=0.003\n",
            "Epoch  3, Train acc=0.964, Val acc=0.954, Train loss=0.002, Val loss=0.003\n",
            "Epoch  4, Train acc=0.966, Val acc=0.959, Train loss=0.002, Val loss=0.003\n",
            "Epoch  5, Train acc=0.968, Val acc=0.959, Train loss=0.002, Val loss=0.003\n"
          ]
        },
        {
          "output_type": "display_data",
          "data": {
            "text/plain": [
              "<Figure size 1500x500 with 2 Axes>"
            ],
            "image/png": "[encoded data removed]"
          },
          "metadata": {}
        }
      ]
    },
    {
      "cell_type": "code",
      "source": [],
      "metadata": {
        "id": "1m_1PhQE3Utp"
      },
      "execution_count": null,
      "outputs": []
    },
    {
      "cell_type": "code",
      "source": [],
      "metadata": {
        "id": "n0YZF3C01YDI"
      },
      "execution_count": null,
      "outputs": []
    },
    {
      "cell_type": "code",
      "source": [],
      "metadata": {
        "id": "QdDxqZb-vvVo"
      },
      "execution_count": null,
      "outputs": []
    }
  ]
}