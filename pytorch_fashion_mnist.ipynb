{
  "nbformat": 4,
  "nbformat_minor": 0,
  "metadata": {
    "colab": {
      "provenance": [],
      "gpuType": "T4",
      "authorship_tag": "ABX9TyN/eEogAnpztChkFR/zp1V7",
      "include_colab_link": true
    },
    "kernelspec": {
      "name": "python3",
      "display_name": "Python 3"
    },
    "language_info": {
      "name": "python"
    },
    "accelerator": "GPU"
  },
  "cells": [
    {
      "cell_type": "markdown",
      "metadata": {
        "id": "view-in-github",
        "colab_type": "text"
      },
      "source": [
        "<a href=\"https://colab.research.google.com/github/lokeshcv/ComputerVisionDeepLearning/blob/main/pytorch_fashion_mnist.ipynb\" target=\"_parent\"><img src=\"https://colab.research.google.com/assets/colab-badge.svg\" alt=\"Open In Colab\"/></a>"
      ]
    },
    {
      "cell_type": "code",
      "execution_count": 7,
      "metadata": {
        "id": "_EwzTyqnoWz-"
      },
      "outputs": [],
      "source": [
        "import torch\n",
        "from torch import nn\n",
        "from torch.utils.data import DataLoader\n",
        "from torchvision import datasets\n",
        "from torchvision.transforms import ToTensor, Lambda, Compose\n",
        "import matplotlib.pyplot as plt"
      ]
    },
    {
      "cell_type": "markdown",
      "source": [
        "Load the Fashion MNIST dataset from the torchvision datasets"
      ],
      "metadata": {
        "id": "iW166x7vpZTj"
      }
    },
    {
      "cell_type": "code",
      "source": [
        "dir_path = '/content/data'"
      ],
      "metadata": {
        "id": "ibyN3iE4p1rw"
      },
      "execution_count": 2,
      "outputs": []
    },
    {
      "cell_type": "code",
      "source": [
        "training_data = datasets.FashionMNIST(root=dir_path,\n",
        "                                      train=True,download=True,\n",
        "                                      transform=ToTensor())"
      ],
      "metadata": {
        "colab": {
          "base_uri": "https://localhost:8080/"
        },
        "id": "seMTjmjvpj5r",
        "outputId": "77b22c57-f396-465a-da16-db1f41d56c3a"
      },
      "execution_count": 3,
      "outputs": [
        {
          "output_type": "stream",
          "name": "stdout",
          "text": [
            "Downloading http://fashion-mnist.s3-website.eu-central-1.amazonaws.com/train-images-idx3-ubyte.gz\n",
            "Downloading http://fashion-mnist.s3-website.eu-central-1.amazonaws.com/train-images-idx3-ubyte.gz to /content/data/FashionMNIST/raw/train-images-idx3-ubyte.gz\n"
          ]
        },
        {
          "output_type": "stream",
          "name": "stderr",
          "text": [
            "100%|██████████| 26421880/26421880 [00:00<00:00, 116681982.93it/s]\n"
          ]
        },
        {
          "output_type": "stream",
          "name": "stdout",
          "text": [
            "Extracting /content/data/FashionMNIST/raw/train-images-idx3-ubyte.gz to /content/data/FashionMNIST/raw\n",
            "\n",
            "Downloading http://fashion-mnist.s3-website.eu-central-1.amazonaws.com/train-labels-idx1-ubyte.gz\n",
            "Downloading http://fashion-mnist.s3-website.eu-central-1.amazonaws.com/train-labels-idx1-ubyte.gz to /content/data/FashionMNIST/raw/train-labels-idx1-ubyte.gz\n"
          ]
        },
        {
          "output_type": "stream",
          "name": "stderr",
          "text": [
            "100%|██████████| 29515/29515 [00:00<00:00, 6637083.56it/s]"
          ]
        },
        {
          "output_type": "stream",
          "name": "stdout",
          "text": [
            "Extracting /content/data/FashionMNIST/raw/train-labels-idx1-ubyte.gz to /content/data/FashionMNIST/raw\n",
            "\n",
            "Downloading http://fashion-mnist.s3-website.eu-central-1.amazonaws.com/t10k-images-idx3-ubyte.gz\n",
            "Downloading http://fashion-mnist.s3-website.eu-central-1.amazonaws.com/t10k-images-idx3-ubyte.gz to /content/data/FashionMNIST/raw/t10k-images-idx3-ubyte.gz\n"
          ]
        },
        {
          "output_type": "stream",
          "name": "stderr",
          "text": [
            "\n",
            "100%|██████████| 4422102/4422102 [00:00<00:00, 63973483.35it/s]\n"
          ]
        },
        {
          "output_type": "stream",
          "name": "stdout",
          "text": [
            "Extracting /content/data/FashionMNIST/raw/t10k-images-idx3-ubyte.gz to /content/data/FashionMNIST/raw\n",
            "\n",
            "Downloading http://fashion-mnist.s3-website.eu-central-1.amazonaws.com/t10k-labels-idx1-ubyte.gz\n",
            "Downloading http://fashion-mnist.s3-website.eu-central-1.amazonaws.com/t10k-labels-idx1-ubyte.gz to /content/data/FashionMNIST/raw/t10k-labels-idx1-ubyte.gz\n"
          ]
        },
        {
          "output_type": "stream",
          "name": "stderr",
          "text": [
            "100%|██████████| 5148/5148 [00:00<00:00, 22055441.26it/s]\n"
          ]
        },
        {
          "output_type": "stream",
          "name": "stdout",
          "text": [
            "Extracting /content/data/FashionMNIST/raw/t10k-labels-idx1-ubyte.gz to /content/data/FashionMNIST/raw\n",
            "\n"
          ]
        }
      ]
    },
    {
      "cell_type": "code",
      "source": [
        "test_data = datasets.FashionMNIST(root=dir_path,\n",
        "                                  train=False,\n",
        "                                  download=True,\n",
        "                                  transform=ToTensor())"
      ],
      "metadata": {
        "id": "MEvMJsFAqOmc"
      },
      "execution_count": 4,
      "outputs": []
    },
    {
      "cell_type": "markdown",
      "source": [
        "Dataloader is an iterable which wraps the dataset for batching, sampling and shuffling"
      ],
      "metadata": {
        "id": "vMTorIJdqsNK"
      }
    },
    {
      "cell_type": "code",
      "source": [
        "batch_size=128\n",
        "\n",
        "train_dataloader = DataLoader(training_data, batch_size=batch_size)\n",
        "test_dataloader = DataLoader(test_data, batch_size=batch_size)\n",
        "\n",
        "for X, y in test_dataloader:\n",
        "  print(\"Shape of X:\", X.shape)\n",
        "  print(\"Shape of y:\", y.shape)\n",
        "  break\n",
        "\n",
        "figure = plt.figure(figsize=(10,8))\n",
        "\n",
        "cols, rows = 5,5\n",
        "\n",
        "for i in range(1, cols * rows + 1):\n",
        "  idx = torch.randint(len(test_data), size=(1,)).item()\n",
        "  img, label = test_data[idx]\n",
        "  figure.add_subplot(rows, cols, i)\n",
        "  plt.title(label)\n",
        "  plt.axis(\"off\")\n",
        "  plt.imshow(img.squeeze(), cmap='viridis')\n",
        "plt.show()"
      ],
      "metadata": {
        "colab": {
          "base_uri": "https://localhost:8080/",
          "height": 683
        },
        "id": "2cJNTG4jq1Cz",
        "outputId": "8f4a8ce4-46fc-48d2-f799-d865ad3cf39d"
      },
      "execution_count": 5,
      "outputs": [
        {
          "output_type": "stream",
          "name": "stdout",
          "text": [
            "Shape of X: torch.Size([128, 1, 28, 28])\n",
            "Shape of y: torch.Size([128])\n"
          ]
        },
        {
          "output_type": "display_data",
          "data": {
            "text/plain": [
              "<Figure size 1000x800 with 25 Axes>"
            ],
            "image/png": "[encoded data removed]"
          },
          "metadata": {}
        }
      ]
    },
    {
      "cell_type": "markdown",
      "source": [
        "Feed forward network"
      ],
      "metadata": {
        "id": "lgQ86P-qr8sp"
      }
    },
    {
      "cell_type": "code",
      "source": [
        "device ='cuda' if torch.cuda.is_available() else 'cpu'\n",
        "device"
      ],
      "metadata": {
        "colab": {
          "base_uri": "https://localhost:8080/",
          "height": 36
        },
        "id": "wNwbwL69sABB",
        "outputId": "a2abbe72-540d-4d75-df6b-4758879eaa7c"
      },
      "execution_count": 6,
      "outputs": [
        {
          "output_type": "execute_result",
          "data": {
            "text/plain": [
              "'cuda'"
            ],
            "application/vnd.google.colaboratory.intrinsic+json": {
              "type": "string"
            }
          },
          "metadata": {},
          "execution_count": 6
        }
      ]
    },
    {
      "cell_type": "markdown",
      "source": [
        "Define the Model"
      ],
      "metadata": {
        "id": "MVqWhCd9sc5h"
      }
    },
    {
      "cell_type": "code",
      "source": [
        "class Network(nn.Module):\n",
        "\n",
        "  def __init__(self):\n",
        "    super(Network, self).__init__()\n",
        "    self.flatten = nn.Flatten()\n",
        "\n",
        "    self.hdn_layers = nn.Sequential(\n",
        "        nn.Linear(28*28, 512),\n",
        "        nn.LeakyReLU(),\n",
        "        nn.Linear(512,512),\n",
        "        nn.LeakyReLU(),\n",
        "        nn.Linear(512,10),\n",
        "        nn.LeakyReLU()\n",
        "    )\n",
        "\n",
        "  def forward(self,x):\n",
        "    x = self.flatten(x)\n",
        "    logits = self.hdn_layers(x)\n",
        "\n",
        "    return logits"
      ],
      "metadata": {
        "id": "qJ1EmwksseDK"
      },
      "execution_count": 11,
      "outputs": []
    },
    {
      "cell_type": "code",
      "source": [
        "model = Network().to(device)\n",
        "print(model)"
      ],
      "metadata": {
        "colab": {
          "base_uri": "https://localhost:8080/"
        },
        "id": "e_xI-cs7tjAi",
        "outputId": "de4fda04-62c5-4fbd-a25b-b4efa162a2c3"
      },
      "execution_count": 12,
      "outputs": [
        {
          "output_type": "stream",
          "name": "stdout",
          "text": [
            "Network(\n",
            "  (flatten): Flatten(start_dim=1, end_dim=-1)\n",
            "  (hdn_layers): Sequential(\n",
            "    (0): Linear(in_features=784, out_features=512, bias=True)\n",
            "    (1): LeakyReLU(negative_slope=0.01)\n",
            "    (2): Linear(in_features=512, out_features=512, bias=True)\n",
            "    (3): LeakyReLU(negative_slope=0.01)\n",
            "    (4): Linear(in_features=512, out_features=10, bias=True)\n",
            "    (5): LeakyReLU(negative_slope=0.01)\n",
            "  )\n",
            ")\n"
          ]
        }
      ]
    },
    {
      "cell_type": "code",
      "source": [
        "loss_fn = nn.CrossEntropyLoss()\n",
        "lr = 1e-3\n",
        "optimizer = torch.optim.SGD(model.parameters(), lr =lr)\n",
        "loss_fn,  optimizer"
      ],
      "metadata": {
        "colab": {
          "base_uri": "https://localhost:8080/"
        },
        "id": "wrONY-mvtxDK",
        "outputId": "39b3e259-2a98-42c3-ea8c-7563559eac57"
      },
      "execution_count": 14,
      "outputs": [
        {
          "output_type": "execute_result",
          "data": {
            "text/plain": [
              "(CrossEntropyLoss(),\n",
              " SGD (\n",
              " Parameter Group 0\n",
              "     dampening: 0\n",
              "     differentiable: False\n",
              "     foreach: None\n",
              "     lr: 0.001\n",
              "     maximize: False\n",
              "     momentum: 0\n",
              "     nesterov: False\n",
              "     weight_decay: 0\n",
              " ))"
            ]
          },
          "metadata": {},
          "execution_count": 14
        }
      ]
    },
    {
      "cell_type": "code",
      "source": [
        "def train(train_loader, model, loss_function, optimizer, device):\n",
        "\n",
        "  size = len(train_loader.dataset)\n",
        "\n",
        "  for batch, (X, y) in enumerate(train_loader):\n",
        "\n",
        "    X, y = X.to(device), y.to(device)\n",
        "\n",
        "    pred = model(X)\n",
        "    loss = loss_function(pred, y)\n",
        "\n",
        "    #Back propagation\n",
        "    optimizer.zero_grad()\n",
        "    loss.backward()\n",
        "    optimizer.step()\n",
        "\n",
        "    if batch % 100 == 0:\n",
        "      loss, current = loss.item(), batch * len(X)\n",
        "      print(f\"loss: {loss:.7f} [{current:>5d}/{size:>5d}]\")\n",
        "\n",
        "\n",
        "def test(test_loader, model, loss_function, device):\n",
        "\n",
        "  size= len(test_loader.dataset)\n",
        "  model.eval()\n",
        "  loss, correct= 0, 0\n",
        "\n",
        "  with torch.no_grad():\n",
        "    for X,y in test_loader:\n",
        "      X, y = X.to(device), y.to(device)\n",
        "      pred = model(X)\n",
        "      loss += loss_function(pred, y).item()\n",
        "      correct += (pred.argmax(1) == y).type(torch.float).sum().item()\n",
        "\n",
        "  loss /= size\n",
        "  correct /= size\n",
        "\n",
        "  print(f\"Test Error: \\n Accuracy: {(100*correct):>0.1f}%, \\Avg loss: {loss:>8f} \\n\")"
      ],
      "metadata": {
        "id": "sC6syWTjxxIi"
      },
      "execution_count": 27,
      "outputs": []
    },
    {
      "cell_type": "markdown",
      "source": [
        "Train the model"
      ],
      "metadata": {
        "id": "HUoOI7rP2mE0"
      }
    },
    {
      "cell_type": "code",
      "source": [
        "epochs = 30\n",
        "for i in range(epochs):\n",
        "  print(f\"Epoch : {i+1}\")\n",
        "  train(train_dataloader, model, loss_fn, optimizer, device)\n",
        "  test(test_dataloader, model, loss_fn, device)"
      ],
      "metadata": {
        "colab": {
          "base_uri": "https://localhost:8080/"
        },
        "id": "Oum8dPsiy_Xb",
        "outputId": "3f7dd183-8f1a-4137-96ad-8042dfe12bf1"
      },
      "execution_count": 28,
      "outputs": [
        {
          "output_type": "stream",
          "name": "stdout",
          "text": [
            "Epoch : 1\n",
            "loss: 0.6622503 [    0/60000]\n",
            "loss: 0.6145054 [12800/60000]\n",
            "loss: 0.6706660 [25600/60000]\n",
            "loss: 0.7060329 [38400/60000]\n",
            "loss: 0.7312828 [51200/60000]\n",
            "Test Error: \n",
            " Accuracy: 73.0%, \\Avg loss: 0.005783 \n",
            "\n",
            "Epoch : 2\n",
            "loss: 0.6498394 [    0/60000]\n",
            "loss: 0.6019072 [12800/60000]\n",
            "loss: 0.6582538 [25600/60000]\n",
            "loss: 0.6954370 [38400/60000]\n",
            "loss: 0.7219204 [51200/60000]\n",
            "Test Error: \n",
            " Accuracy: 73.4%, \\Avg loss: 0.005704 \n",
            "\n",
            "Epoch : 3\n",
            "loss: 0.6374332 [    0/60000]\n",
            "loss: 0.5905681 [12800/60000]\n",
            "loss: 0.6465341 [25600/60000]\n",
            "loss: 0.6854284 [38400/60000]\n",
            "loss: 0.7131711 [51200/60000]\n",
            "Test Error: \n",
            " Accuracy: 73.9%, \\Avg loss: 0.005629 \n",
            "\n",
            "Epoch : 4\n",
            "loss: 0.6258179 [    0/60000]\n",
            "loss: 0.5799991 [12800/60000]\n",
            "loss: 0.6354644 [25600/60000]\n",
            "loss: 0.6759834 [38400/60000]\n",
            "loss: 0.7049004 [51200/60000]\n",
            "Test Error: \n",
            " Accuracy: 74.3%, \\Avg loss: 0.005558 \n",
            "\n",
            "Epoch : 5\n",
            "loss: 0.6147966 [    0/60000]\n",
            "loss: 0.5701305 [12800/60000]\n",
            "loss: 0.6250138 [25600/60000]\n",
            "loss: 0.6670239 [38400/60000]\n",
            "loss: 0.6970539 [51200/60000]\n",
            "Test Error: \n",
            " Accuracy: 74.6%, \\Avg loss: 0.005491 \n",
            "\n",
            "Epoch : 6\n",
            "loss: 0.6043863 [    0/60000]\n",
            "loss: 0.5608734 [12800/60000]\n",
            "loss: 0.6151682 [25600/60000]\n",
            "loss: 0.6584948 [38400/60000]\n",
            "loss: 0.6895520 [51200/60000]\n",
            "Test Error: \n",
            " Accuracy: 75.0%, \\Avg loss: 0.005427 \n",
            "\n",
            "Epoch : 7\n",
            "loss: 0.5945487 [    0/60000]\n",
            "loss: 0.5521888 [12800/60000]\n",
            "loss: 0.6058360 [25600/60000]\n",
            "loss: 0.6503249 [38400/60000]\n",
            "loss: 0.6823719 [51200/60000]\n",
            "Test Error: \n",
            " Accuracy: 75.4%, \\Avg loss: 0.005366 \n",
            "\n",
            "Epoch : 8\n",
            "loss: 0.5852317 [    0/60000]\n",
            "loss: 0.5440305 [12800/60000]\n",
            "loss: 0.5970269 [25600/60000]\n",
            "loss: 0.6424786 [38400/60000]\n",
            "loss: 0.6754990 [51200/60000]\n",
            "Test Error: \n",
            " Accuracy: 75.8%, \\Avg loss: 0.005307 \n",
            "\n",
            "Epoch : 9\n",
            "loss: 0.5763391 [    0/60000]\n",
            "loss: 0.5363213 [12800/60000]\n",
            "loss: 0.5887045 [25600/60000]\n",
            "loss: 0.6350335 [38400/60000]\n",
            "loss: 0.6689463 [51200/60000]\n",
            "Test Error: \n",
            " Accuracy: 76.1%, \\Avg loss: 0.005250 \n",
            "\n",
            "Epoch : 10\n",
            "loss: 0.5678806 [    0/60000]\n",
            "loss: 0.5290223 [12800/60000]\n",
            "loss: 0.5808779 [25600/60000]\n",
            "loss: 0.6279488 [38400/60000]\n",
            "loss: 0.6626833 [51200/60000]\n",
            "Test Error: \n",
            " Accuracy: 76.3%, \\Avg loss: 0.005197 \n",
            "\n",
            "Epoch : 11\n",
            "loss: 0.5598357 [    0/60000]\n",
            "loss: 0.5221446 [12800/60000]\n",
            "loss: 0.5734627 [25600/60000]\n",
            "loss: 0.6211567 [38400/60000]\n",
            "loss: 0.6567160 [51200/60000]\n",
            "Test Error: \n",
            " Accuracy: 76.7%, \\Avg loss: 0.005145 \n",
            "\n",
            "Epoch : 12\n",
            "loss: 0.5521329 [    0/60000]\n",
            "loss: 0.5156235 [12800/60000]\n",
            "loss: 0.5664655 [25600/60000]\n",
            "loss: 0.6146474 [38400/60000]\n",
            "loss: 0.6510239 [51200/60000]\n",
            "Test Error: \n",
            " Accuracy: 76.9%, \\Avg loss: 0.005095 \n",
            "\n",
            "Epoch : 13\n",
            "loss: 0.5447708 [    0/60000]\n",
            "loss: 0.5094452 [12800/60000]\n",
            "loss: 0.5598305 [25600/60000]\n",
            "loss: 0.6084160 [38400/60000]\n",
            "loss: 0.6455476 [51200/60000]\n",
            "Test Error: \n",
            " Accuracy: 77.2%, \\Avg loss: 0.005048 \n",
            "\n",
            "Epoch : 14\n",
            "loss: 0.5377469 [    0/60000]\n",
            "loss: 0.5035704 [12800/60000]\n",
            "loss: 0.5535600 [25600/60000]\n",
            "loss: 0.6024705 [38400/60000]\n",
            "loss: 0.6403236 [51200/60000]\n",
            "Test Error: \n",
            " Accuracy: 77.6%, \\Avg loss: 0.005002 \n",
            "\n",
            "Epoch : 15\n",
            "loss: 0.5310140 [    0/60000]\n",
            "loss: 0.4980142 [12800/60000]\n",
            "loss: 0.5476089 [25600/60000]\n",
            "loss: 0.5967689 [38400/60000]\n",
            "loss: 0.6353379 [51200/60000]\n",
            "Test Error: \n",
            " Accuracy: 77.8%, \\Avg loss: 0.004958 \n",
            "\n",
            "Epoch : 16\n",
            "loss: 0.5245474 [    0/60000]\n",
            "loss: 0.4927327 [12800/60000]\n",
            "loss: 0.5419621 [25600/60000]\n",
            "loss: 0.5913064 [38400/60000]\n",
            "loss: 0.6306001 [51200/60000]\n",
            "Test Error: \n",
            " Accuracy: 78.0%, \\Avg loss: 0.004916 \n",
            "\n",
            "Epoch : 17\n",
            "loss: 0.5183285 [    0/60000]\n",
            "loss: 0.4877200 [12800/60000]\n",
            "loss: 0.5365795 [25600/60000]\n",
            "loss: 0.5860634 [38400/60000]\n",
            "loss: 0.6260994 [51200/60000]\n",
            "Test Error: \n",
            " Accuracy: 78.3%, \\Avg loss: 0.004876 \n",
            "\n",
            "Epoch : 18\n",
            "loss: 0.5123518 [    0/60000]\n",
            "loss: 0.4829468 [12800/60000]\n",
            "loss: 0.5314525 [25600/60000]\n",
            "loss: 0.5810422 [38400/60000]\n",
            "loss: 0.6218204 [51200/60000]\n",
            "Test Error: \n",
            " Accuracy: 78.5%, \\Avg loss: 0.004837 \n",
            "\n",
            "Epoch : 19\n",
            "loss: 0.5066032 [    0/60000]\n",
            "loss: 0.4783949 [12800/60000]\n",
            "loss: 0.5265803 [25600/60000]\n",
            "loss: 0.5762379 [38400/60000]\n",
            "loss: 0.6177511 [51200/60000]\n",
            "Test Error: \n",
            " Accuracy: 78.6%, \\Avg loss: 0.004800 \n",
            "\n",
            "Epoch : 20\n",
            "loss: 0.5010505 [    0/60000]\n",
            "loss: 0.4740634 [12800/60000]\n",
            "loss: 0.5219287 [25600/60000]\n",
            "loss: 0.5716293 [38400/60000]\n",
            "loss: 0.6138769 [51200/60000]\n",
            "Test Error: \n",
            " Accuracy: 78.8%, \\Avg loss: 0.004764 \n",
            "\n",
            "Epoch : 21\n",
            "loss: 0.4956864 [    0/60000]\n",
            "loss: 0.4699664 [12800/60000]\n",
            "loss: 0.5174566 [25600/60000]\n",
            "loss: 0.5671763 [38400/60000]\n",
            "loss: 0.6101725 [51200/60000]\n",
            "Test Error: \n",
            " Accuracy: 78.9%, \\Avg loss: 0.004730 \n",
            "\n",
            "Epoch : 22\n",
            "loss: 0.4904883 [    0/60000]\n",
            "loss: 0.4660148 [12800/60000]\n",
            "loss: 0.5131729 [25600/60000]\n",
            "loss: 0.5629185 [38400/60000]\n",
            "loss: 0.6066346 [51200/60000]\n",
            "Test Error: \n",
            " Accuracy: 79.2%, \\Avg loss: 0.004697 \n",
            "\n",
            "Epoch : 23\n",
            "loss: 0.4854432 [    0/60000]\n",
            "loss: 0.4622369 [12800/60000]\n",
            "loss: 0.5090520 [25600/60000]\n",
            "loss: 0.5588530 [38400/60000]\n",
            "loss: 0.6032653 [51200/60000]\n",
            "Test Error: \n",
            " Accuracy: 79.2%, \\Avg loss: 0.004665 \n",
            "\n",
            "Epoch : 24\n",
            "loss: 0.4805496 [    0/60000]\n",
            "loss: 0.4586254 [12800/60000]\n",
            "loss: 0.5050714 [25600/60000]\n",
            "loss: 0.5549492 [38400/60000]\n",
            "loss: 0.6000380 [51200/60000]\n",
            "Test Error: \n",
            " Accuracy: 79.3%, \\Avg loss: 0.004634 \n",
            "\n",
            "Epoch : 25\n",
            "loss: 0.4757943 [    0/60000]\n",
            "loss: 0.4551843 [12800/60000]\n",
            "loss: 0.5012512 [25600/60000]\n",
            "loss: 0.5511876 [38400/60000]\n",
            "loss: 0.5969557 [51200/60000]\n",
            "Test Error: \n",
            " Accuracy: 79.5%, \\Avg loss: 0.004605 \n",
            "\n",
            "Epoch : 26\n",
            "loss: 0.4711563 [    0/60000]\n",
            "loss: 0.4518934 [12800/60000]\n",
            "loss: 0.4975660 [25600/60000]\n",
            "loss: 0.5475721 [38400/60000]\n",
            "loss: 0.5940204 [51200/60000]\n",
            "Test Error: \n",
            " Accuracy: 79.7%, \\Avg loss: 0.004576 \n",
            "\n",
            "Epoch : 27\n",
            "loss: 0.4666933 [    0/60000]\n",
            "loss: 0.4487464 [12800/60000]\n",
            "loss: 0.4940044 [25600/60000]\n",
            "loss: 0.5440934 [38400/60000]\n",
            "loss: 0.5912198 [51200/60000]\n",
            "Test Error: \n",
            " Accuracy: 79.8%, \\Avg loss: 0.004549 \n",
            "\n",
            "Epoch : 28\n",
            "loss: 0.4622996 [    0/60000]\n",
            "loss: 0.4457114 [12800/60000]\n",
            "loss: 0.4905429 [25600/60000]\n",
            "loss: 0.5407516 [38400/60000]\n",
            "loss: 0.5885456 [51200/60000]\n",
            "Test Error: \n",
            " Accuracy: 79.9%, \\Avg loss: 0.004523 \n",
            "\n",
            "Epoch : 29\n",
            "loss: 0.4580091 [    0/60000]\n",
            "loss: 0.4428151 [12800/60000]\n",
            "loss: 0.4871581 [25600/60000]\n",
            "loss: 0.5375254 [38400/60000]\n",
            "loss: 0.5859746 [51200/60000]\n",
            "Test Error: \n",
            " Accuracy: 80.1%, \\Avg loss: 0.004497 \n",
            "\n",
            "Epoch : 30\n",
            "loss: 0.4538295 [    0/60000]\n",
            "loss: 0.4400446 [12800/60000]\n",
            "loss: 0.4838597 [25600/60000]\n",
            "loss: 0.5344158 [38400/60000]\n",
            "loss: 0.5835025 [51200/60000]\n",
            "Test Error: \n",
            " Accuracy: 80.2%, \\Avg loss: 0.004473 \n",
            "\n"
          ]
        }
      ]
    },
    {
      "cell_type": "markdown",
      "source": [
        "Save Model"
      ],
      "metadata": {
        "id": "aMnYpW3x2u2B"
      }
    },
    {
      "cell_type": "code",
      "source": [
        "torch.save(model.state_dict(), \"data/model.pth\")\n",
        "print(\"Saved PyTorch Model State to model.pth\")"
      ],
      "metadata": {
        "colab": {
          "base_uri": "https://localhost:8080/"
        },
        "id": "RJTD8JVB2v_w",
        "outputId": "e4af239a-b9f6-4477-a4ca-d965f819fc33"
      },
      "execution_count": 30,
      "outputs": [
        {
          "output_type": "stream",
          "name": "stdout",
          "text": [
            "Saved PyTorch Model State to model.pth\n"
          ]
        }
      ]
    },
    {
      "cell_type": "markdown",
      "source": [
        "Load the Model"
      ],
      "metadata": {
        "id": "P_fT8Kgn23h4"
      }
    },
    {
      "cell_type": "code",
      "source": [
        "model = Network()\n",
        "model.load_state_dict(torch.load('data/model.pth'))"
      ],
      "metadata": {
        "colab": {
          "base_uri": "https://localhost:8080/"
        },
        "id": "geSO03rG24g6",
        "outputId": "a3cebe8a-f253-4626-b19a-2c1c24e727c3"
      },
      "execution_count": 31,
      "outputs": [
        {
          "output_type": "execute_result",
          "data": {
            "text/plain": [
              "<All keys matched successfully>"
            ]
          },
          "metadata": {},
          "execution_count": 31
        }
      ]
    },
    {
      "cell_type": "markdown",
      "source": [
        "Use it for the inference"
      ],
      "metadata": {
        "id": "Sg5e5SmL3J06"
      }
    },
    {
      "cell_type": "code",
      "source": [
        "classes = [\n",
        "    \"T-shirt/top\",\n",
        "    \"Trouser\",\n",
        "    \"Pullover\",\n",
        "    \"Dress\",\n",
        "    \"Coat\",\n",
        "    \"Sandal\",\n",
        "    \"Shirt\",\n",
        "    \"Sneaker\",\n",
        "    \"Bag\",\n",
        "    \"Ankle boot\",\n",
        "]"
      ],
      "metadata": {
        "id": "eBLevg3Q3MXE"
      },
      "execution_count": 32,
      "outputs": []
    },
    {
      "cell_type": "code",
      "source": [
        "model.eval()\n",
        "x, y = test_data[0][0], test_data[0][1]\n",
        "\n",
        "with torch.no_grad():\n",
        "  pred=model(x)\n",
        "  predicted, actual = classes[pred[0].argmax(0)], classes[y]\n",
        "  print(f\"Predicted : {predicted} - Actual : {actual}\")"
      ],
      "metadata": {
        "colab": {
          "base_uri": "https://localhost:8080/"
        },
        "id": "2xXRtgsb0u-R",
        "outputId": "5b0f7e5b-8fd2-4fc0-f003-f2af9923e353"
      },
      "execution_count": 33,
      "outputs": [
        {
          "output_type": "stream",
          "name": "stdout",
          "text": [
            "Predicted : Ankle boot - Actual : Ankle boot\n"
          ]
        }
      ]
    },
    {
      "cell_type": "code",
      "source": [],
      "metadata": {
        "id": "wnkH6oEaxtND"
      },
      "execution_count": null,
      "outputs": []
    },
    {
      "cell_type": "code",
      "source": [],
      "metadata": {
        "id": "K2HMrHAltp4R"
      },
      "execution_count": null,
      "outputs": []
    },
    {
      "cell_type": "code",
      "source": [],
      "metadata": {
        "id": "agBkekGCsPcD"
      },
      "execution_count": null,
      "outputs": []
    },
    {
      "cell_type": "code",
      "source": [],
      "metadata": {
        "id": "t3rqsNsOsOhJ"
      },
      "execution_count": null,
      "outputs": []
    },
    {
      "cell_type": "code",
      "source": [],
      "metadata": {
        "id": "GMl3Nc71rwJa"
      },
      "execution_count": null,
      "outputs": []
    },
    {
      "cell_type": "code",
      "source": [],
      "metadata": {
        "id": "qWCHpZyqrOw5"
      },
      "execution_count": null,
      "outputs": []
    },
    {
      "cell_type": "code",
      "source": [],
      "metadata": {
        "id": "vCYHvCw5qni4"
      },
      "execution_count": null,
      "outputs": []
    },
    {
      "cell_type": "code",
      "source": [],
      "metadata": {
        "id": "m81XFzlaqmVb"
      },
      "execution_count": null,
      "outputs": []
    },
    {
      "cell_type": "code",
      "source": [],
      "metadata": {
        "id": "-M3KhGJspvO7"
      },
      "execution_count": null,
      "outputs": []
    }
  ]
}